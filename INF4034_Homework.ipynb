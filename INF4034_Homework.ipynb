{
  "nbformat": 4,
  "nbformat_minor": 0,
  "metadata": {
    "colab": {
      "provenance": [],
      "collapsed_sections": [
        "ebtI_vZWUC1u",
        "LrbBTSEZa3mu",
        "8u-abJS2eK4B",
        "NRe6M98-ga3m",
        "UMWMN24dg8iZ",
        "RqK46qaohkPw",
        "yMFMt8WkiMD5",
        "r5it_Ak5ih8D",
        "VgLMS5xRi_id",
        "lC3_y1zzkZT9",
        "cebWTHbPn8Fx",
        "NviA6kwCQKPY",
        "tigQg2fWlNTb",
        "3Xg_LmeQlaSh",
        "d0d6ng9gmo-w",
        "uTTln6M5yUd_",
        "DhzNvEiF3R00",
        "dTuAuhvW4EAP",
        "Yt2VAMtj5MyB",
        "-8BvVt37ZF7R",
        "vu0QlOCRc-3k",
        "hy1tkg1PeTzI",
        "W_hbugWXeZyY",
        "lbet9v0AgiNF",
        "kVYOm0HljNef"
      ],
      "toc_visible": true
    },
    "kernelspec": {
      "name": "python3",
      "display_name": "Python 3"
    },
    "language_info": {
      "name": "python"
    },
    "gpuClass": "standard"
  },
  "cells": [
    {
      "cell_type": "code",
      "source": [
        "from google.colab import drive\n",
        "drive.mount('/content/drive')"
      ],
      "metadata": {
        "colab": {
          "base_uri": "https://localhost:8080/"
        },
        "id": "wvuy5n-plFhI",
        "outputId": "46bd2151-4bd9-4d0b-a4d0-082b3a5c75a9"
      },
      "execution_count": 1,
      "outputs": [
        {
          "output_type": "stream",
          "name": "stdout",
          "text": [
            "Mounted at /content/drive\n"
          ]
        }
      ]
    },
    {
      "cell_type": "code",
      "source": [
        "import os\n",
        "import re\n",
        "\n",
        "import pandas as pd\n",
        "import numpy as np\n",
        "\n",
        "import nltk  #natural language processing\n",
        "nltk.download(\"stopwords\")\n",
        "from nltk.corpus import stopwords\n",
        "from nltk.stem.porter import *\n",
        "\n",
        "from sklearn.model_selection import train_test_split\n",
        "import tensorflow as tf\n",
        "\n",
        "import matplotlib.pyplot as plt\n",
        "import seaborn as sns\n",
        "import matplotlib.patches as mpatches\n",
        "pd.options.plotting.backend = \"plotly\"\n",
        "%matplotlib inline"
      ],
      "metadata": {
        "colab": {
          "base_uri": "https://localhost:8080/"
        },
        "id": "0Uv62PT-oJpp",
        "outputId": "58678c26-91ec-4700-8e8b-84b8b73473d7"
      },
      "execution_count": 2,
      "outputs": [
        {
          "output_type": "stream",
          "name": "stderr",
          "text": [
            "[nltk_data] Downloading package stopwords to /root/nltk_data...\n",
            "[nltk_data]   Unzipping corpora/stopwords.zip.\n"
          ]
        }
      ]
    },
    {
      "cell_type": "code",
      "source": [
        "path = '/content/drive/MyDrive/Univerui/KTND/FinancialPhraseBank-v1.0/Sentences_75Agree.txt'\n",
        "tf.random.set_seed(42)"
      ],
      "metadata": {
        "id": "P55_SsG8no0M"
      },
      "execution_count": 3,
      "outputs": []
    },
    {
      "cell_type": "code",
      "source": [
        "def get_lines(filename):\n",
        "  with open(filename, 'r', encoding=\"utf_16_be\") as f:\n",
        "    return f.readlines()\n",
        "\n",
        "def preprocess_text(filename):\n",
        "  input_file = get_lines(filename)\n",
        "  data = []\n",
        "  for line in input_file:\n",
        "    data_split = line.strip().split('.@')\n",
        "    if len(data_split) == 2:\n",
        "      line_data = {\n",
        "          'Sentence': data_split[0].lower(),\n",
        "          'Sentiment': data_split[1]\n",
        "      }\n",
        "    data.append(line_data)\n",
        "\n",
        "  return data\n"
      ],
      "metadata": {
        "id": "FDpvIYBSoO8t"
      },
      "execution_count": 4,
      "outputs": []
    },
    {
      "cell_type": "code",
      "source": [
        "input_file = preprocess_text(path)\n",
        "dataset = pd.DataFrame(input_file)\n",
        "dataset.head()"
      ],
      "metadata": {
        "colab": {
          "base_uri": "https://localhost:8080/",
          "height": 206
        },
        "id": "SG5y5xi6pI_g",
        "outputId": "f64e0c23-d3a9-4091-84e0-d4d8a71e481b"
      },
      "execution_count": 5,
      "outputs": [
        {
          "output_type": "execute_result",
          "data": {
            "text/plain": [
              "                                            Sentence Sentiment\n",
              "0  according to gran , the company has no plans t...   neutral\n",
              "1  with the new production plant the company woul...  positive\n",
              "2  for the last quarter of 2010 , componenta 's n...  positive\n",
              "3  in the third quarter of 2010 , net sales incre...  positive\n",
              "4  operating profit rose to eur 13.1 mn from eur ...  positive"
            ],
            "text/html": [
              "\n",
              "  <div id=\"df-30847f2f-2db6-4b7f-8163-51fbc3307107\">\n",
              "    <div class=\"colab-df-container\">\n",
              "      <div>\n",
              "<style scoped>\n",
              "    .dataframe tbody tr th:only-of-type {\n",
              "        vertical-align: middle;\n",
              "    }\n",
              "\n",
              "    .dataframe tbody tr th {\n",
              "        vertical-align: top;\n",
              "    }\n",
              "\n",
              "    .dataframe thead th {\n",
              "        text-align: right;\n",
              "    }\n",
              "</style>\n",
              "<table border=\"1\" class=\"dataframe\">\n",
              "  <thead>\n",
              "    <tr style=\"text-align: right;\">\n",
              "      <th></th>\n",
              "      <th>Sentence</th>\n",
              "      <th>Sentiment</th>\n",
              "    </tr>\n",
              "  </thead>\n",
              "  <tbody>\n",
              "    <tr>\n",
              "      <th>0</th>\n",
              "      <td>according to gran , the company has no plans t...</td>\n",
              "      <td>neutral</td>\n",
              "    </tr>\n",
              "    <tr>\n",
              "      <th>1</th>\n",
              "      <td>with the new production plant the company woul...</td>\n",
              "      <td>positive</td>\n",
              "    </tr>\n",
              "    <tr>\n",
              "      <th>2</th>\n",
              "      <td>for the last quarter of 2010 , componenta 's n...</td>\n",
              "      <td>positive</td>\n",
              "    </tr>\n",
              "    <tr>\n",
              "      <th>3</th>\n",
              "      <td>in the third quarter of 2010 , net sales incre...</td>\n",
              "      <td>positive</td>\n",
              "    </tr>\n",
              "    <tr>\n",
              "      <th>4</th>\n",
              "      <td>operating profit rose to eur 13.1 mn from eur ...</td>\n",
              "      <td>positive</td>\n",
              "    </tr>\n",
              "  </tbody>\n",
              "</table>\n",
              "</div>\n",
              "      <button class=\"colab-df-convert\" onclick=\"convertToInteractive('df-30847f2f-2db6-4b7f-8163-51fbc3307107')\"\n",
              "              title=\"Convert this dataframe to an interactive table.\"\n",
              "              style=\"display:none;\">\n",
              "        \n",
              "  <svg xmlns=\"http://www.w3.org/2000/svg\" height=\"24px\"viewBox=\"0 0 24 24\"\n",
              "       width=\"24px\">\n",
              "    <path d=\"M0 0h24v24H0V0z\" fill=\"none\"/>\n",
              "    <path d=\"M18.56 5.44l.94 2.06.94-2.06 2.06-.94-2.06-.94-.94-2.06-.94 2.06-2.06.94zm-11 1L8.5 8.5l.94-2.06 2.06-.94-2.06-.94L8.5 2.5l-.94 2.06-2.06.94zm10 10l.94 2.06.94-2.06 2.06-.94-2.06-.94-.94-2.06-.94 2.06-2.06.94z\"/><path d=\"M17.41 7.96l-1.37-1.37c-.4-.4-.92-.59-1.43-.59-.52 0-1.04.2-1.43.59L10.3 9.45l-7.72 7.72c-.78.78-.78 2.05 0 2.83L4 21.41c.39.39.9.59 1.41.59.51 0 1.02-.2 1.41-.59l7.78-7.78 2.81-2.81c.8-.78.8-2.07 0-2.86zM5.41 20L4 18.59l7.72-7.72 1.47 1.35L5.41 20z\"/>\n",
              "  </svg>\n",
              "      </button>\n",
              "      \n",
              "  <style>\n",
              "    .colab-df-container {\n",
              "      display:flex;\n",
              "      flex-wrap:wrap;\n",
              "      gap: 12px;\n",
              "    }\n",
              "\n",
              "    .colab-df-convert {\n",
              "      background-color: #E8F0FE;\n",
              "      border: none;\n",
              "      border-radius: 50%;\n",
              "      cursor: pointer;\n",
              "      display: none;\n",
              "      fill: #1967D2;\n",
              "      height: 32px;\n",
              "      padding: 0 0 0 0;\n",
              "      width: 32px;\n",
              "    }\n",
              "\n",
              "    .colab-df-convert:hover {\n",
              "      background-color: #E2EBFA;\n",
              "      box-shadow: 0px 1px 2px rgba(60, 64, 67, 0.3), 0px 1px 3px 1px rgba(60, 64, 67, 0.15);\n",
              "      fill: #174EA6;\n",
              "    }\n",
              "\n",
              "    [theme=dark] .colab-df-convert {\n",
              "      background-color: #3B4455;\n",
              "      fill: #D2E3FC;\n",
              "    }\n",
              "\n",
              "    [theme=dark] .colab-df-convert:hover {\n",
              "      background-color: #434B5C;\n",
              "      box-shadow: 0px 1px 3px 1px rgba(0, 0, 0, 0.15);\n",
              "      filter: drop-shadow(0px 1px 2px rgba(0, 0, 0, 0.3));\n",
              "      fill: #FFFFFF;\n",
              "    }\n",
              "  </style>\n",
              "\n",
              "      <script>\n",
              "        const buttonEl =\n",
              "          document.querySelector('#df-30847f2f-2db6-4b7f-8163-51fbc3307107 button.colab-df-convert');\n",
              "        buttonEl.style.display =\n",
              "          google.colab.kernel.accessAllowed ? 'block' : 'none';\n",
              "\n",
              "        async function convertToInteractive(key) {\n",
              "          const element = document.querySelector('#df-30847f2f-2db6-4b7f-8163-51fbc3307107');\n",
              "          const dataTable =\n",
              "            await google.colab.kernel.invokeFunction('convertToInteractive',\n",
              "                                                     [key], {});\n",
              "          if (!dataTable) return;\n",
              "\n",
              "          const docLinkHtml = 'Like what you see? Visit the ' +\n",
              "            '<a target=\"_blank\" href=https://colab.research.google.com/notebooks/data_table.ipynb>data table notebook</a>'\n",
              "            + ' to learn more about interactive tables.';\n",
              "          element.innerHTML = '';\n",
              "          dataTable['output_type'] = 'display_data';\n",
              "          await google.colab.output.renderOutput(dataTable, element);\n",
              "          const docLink = document.createElement('div');\n",
              "          docLink.innerHTML = docLinkHtml;\n",
              "          element.appendChild(docLink);\n",
              "        }\n",
              "      </script>\n",
              "    </div>\n",
              "  </div>\n",
              "  "
            ]
          },
          "metadata": {},
          "execution_count": 5
        }
      ]
    },
    {
      "cell_type": "code",
      "source": [
        "dataset['Sentiment'].value_counts()"
      ],
      "metadata": {
        "colab": {
          "base_uri": "https://localhost:8080/"
        },
        "id": "NNWQd3tVrC4v",
        "outputId": "34f08980-1b0d-426e-c05a-8f73bb9eceb8"
      },
      "execution_count": null,
      "outputs": [
        {
          "output_type": "execute_result",
          "data": {
            "text/plain": [
              "neutral     2146\n",
              "positive     891\n",
              "negative     416\n",
              "Name: Sentiment, dtype: int64"
            ]
          },
          "metadata": {},
          "execution_count": 6
        }
      ]
    },
    {
      "cell_type": "markdown",
      "source": [
        "# Exploring data"
      ],
      "metadata": {
        "id": "kQmcZup86lR9"
      }
    },
    {
      "cell_type": "markdown",
      "source": [
        "https://huggingface.co/sentence-transformers/LaBSE"
      ],
      "metadata": {
        "id": "HkzmZj3xc0mT"
      }
    },
    {
      "cell_type": "code",
      "source": [
        "random_10_sentences = dataset.sample(n=10)\n",
        "\n",
        "for _, s in random_10_sentences.iterrows():\n",
        "  print('-'*20)\n",
        "  print(f\"Sentiment: {s['Sentiment']}\")\n",
        "  print(f\"Sentence:\\n{s['Sentence']}\")\n",
        "  print('-'*20)\n",
        "  print('\\n\\n')"
      ],
      "metadata": {
        "colab": {
          "base_uri": "https://localhost:8080/"
        },
        "id": "CkIACIm56neb",
        "outputId": "fbe59f1f-74fa-46c2-d7c4-4940a74eb5f5"
      },
      "execution_count": null,
      "outputs": [
        {
          "output_type": "stream",
          "name": "stdout",
          "text": [
            "--------------------\n",
            "Sentiment: neutral\n",
            "Sentence:\n",
            "the annual report will be sent automatically to shareholders holding at least 2,000 sampo plc shares \n",
            "--------------------\n",
            "\n",
            "\n",
            "\n",
            "--------------------\n",
            "Sentiment: neutral\n",
            "Sentence:\n",
            "as an alternative to the share exchange , panostaja offers a full cash consideration at the value of 1.27 euro $ 1.7 per share \n",
            "--------------------\n",
            "\n",
            "\n",
            "\n",
            "--------------------\n",
            "Sentiment: neutral\n",
            "Sentence:\n",
            "finnish talvivaara mining co hel : tlv1v said thursday it had picked bofa merrill lynch and jpmorgan nyse : jpm as joint bookrunners of its planned issue of convertible notes worth up to eur250m usd332m \n",
            "--------------------\n",
            "\n",
            "\n",
            "\n",
            "--------------------\n",
            "Sentiment: neutral\n",
            "Sentence:\n",
            "rautalinko was resposnible also for mobility services , and his job in this division will be continued by marek hintze \n",
            "--------------------\n",
            "\n",
            "\n",
            "\n",
            "--------------------\n",
            "Sentiment: negative\n",
            "Sentence:\n",
            "the dismissed staff members will now take the matter to court unless it can be settled outside \n",
            "--------------------\n",
            "\n",
            "\n",
            "\n",
            "--------------------\n",
            "Sentiment: neutral\n",
            "Sentence:\n",
            "the maximum amount of the capital loan will be eur30m and the minimum subscription -- eur10 ,000 \n",
            "--------------------\n",
            "\n",
            "\n",
            "\n",
            "--------------------\n",
            "Sentiment: neutral\n",
            "Sentence:\n",
            "the bank 's leasing arm nordea liising ended the year with a profit of 4.4 million euros \n",
            "--------------------\n",
            "\n",
            "\n",
            "\n",
            "--------------------\n",
            "Sentiment: neutral\n",
            "Sentence:\n",
            "net loss in the same period in 2009 was euro18 .6 million \n",
            "--------------------\n",
            "\n",
            "\n",
            "\n",
            "--------------------\n",
            "Sentiment: neutral\n",
            "Sentence:\n",
            "the unit 's clients are mainly in the field of specialist convenience goods , as well as in the textile , shoe and furniture businesses \n",
            "--------------------\n",
            "\n",
            "\n",
            "\n",
            "--------------------\n",
            "Sentiment: neutral\n",
            "Sentence:\n",
            "teleste bk optiflex amplifier products will be used in ongoing capacity upgrade of kdg 's network to bi-directionality \n",
            "--------------------\n",
            "\n",
            "\n",
            "\n"
          ]
        }
      ]
    },
    {
      "cell_type": "code",
      "source": [
        "dataset.groupby('Sentiment').count().plot(kind='bar')"
      ],
      "metadata": {
        "colab": {
          "base_uri": "https://localhost:8080/",
          "height": 542
        },
        "id": "ntV3cE5aAt2m",
        "outputId": "ce8a104b-52b0-4b8e-a9eb-7f126bd0121e"
      },
      "execution_count": null,
      "outputs": [
        {
          "output_type": "display_data",
          "data": {
            "text/html": [
              "<html>\n",
              "<head><meta charset=\"utf-8\" /></head>\n",
              "<body>\n",
              "    <div>            <script src=\"https://cdnjs.cloudflare.com/ajax/libs/mathjax/2.7.5/MathJax.js?config=TeX-AMS-MML_SVG\"></script><script type=\"text/javascript\">if (window.MathJax) {MathJax.Hub.Config({SVG: {font: \"STIX-Web\"}});}</script>                <script type=\"text/javascript\">window.PlotlyConfig = {MathJaxConfig: 'local'};</script>\n",
              "        <script src=\"https://cdn.plot.ly/plotly-2.8.3.min.js\"></script>                <div id=\"11a57323-c2a3-490f-aa8b-c5447eb16176\" class=\"plotly-graph-div\" style=\"height:525px; width:100%;\"></div>            <script type=\"text/javascript\">                                    window.PLOTLYENV=window.PLOTLYENV || {};                                    if (document.getElementById(\"11a57323-c2a3-490f-aa8b-c5447eb16176\")) {                    Plotly.newPlot(                        \"11a57323-c2a3-490f-aa8b-c5447eb16176\",                        [{\"alignmentgroup\":\"True\",\"hovertemplate\":\"variable=Sentence<br>Sentiment=%{x}<br>value=%{y}<extra></extra>\",\"legendgroup\":\"Sentence\",\"marker\":{\"color\":\"#636efa\",\"pattern\":{\"shape\":\"\"}},\"name\":\"Sentence\",\"offsetgroup\":\"Sentence\",\"orientation\":\"v\",\"showlegend\":true,\"textposition\":\"auto\",\"x\":[\"negative\",\"neutral\",\"positive\"],\"xaxis\":\"x\",\"y\":[416,2146,891],\"yaxis\":\"y\",\"type\":\"bar\"}],                        {\"template\":{\"data\":{\"bar\":[{\"error_x\":{\"color\":\"#2a3f5f\"},\"error_y\":{\"color\":\"#2a3f5f\"},\"marker\":{\"line\":{\"color\":\"#E5ECF6\",\"width\":0.5},\"pattern\":{\"fillmode\":\"overlay\",\"size\":10,\"solidity\":0.2}},\"type\":\"bar\"}],\"barpolar\":[{\"marker\":{\"line\":{\"color\":\"#E5ECF6\",\"width\":0.5},\"pattern\":{\"fillmode\":\"overlay\",\"size\":10,\"solidity\":0.2}},\"type\":\"barpolar\"}],\"carpet\":[{\"aaxis\":{\"endlinecolor\":\"#2a3f5f\",\"gridcolor\":\"white\",\"linecolor\":\"white\",\"minorgridcolor\":\"white\",\"startlinecolor\":\"#2a3f5f\"},\"baxis\":{\"endlinecolor\":\"#2a3f5f\",\"gridcolor\":\"white\",\"linecolor\":\"white\",\"minorgridcolor\":\"white\",\"startlinecolor\":\"#2a3f5f\"},\"type\":\"carpet\"}],\"choropleth\":[{\"colorbar\":{\"outlinewidth\":0,\"ticks\":\"\"},\"type\":\"choropleth\"}],\"contour\":[{\"colorbar\":{\"outlinewidth\":0,\"ticks\":\"\"},\"colorscale\":[[0.0,\"#0d0887\"],[0.1111111111111111,\"#46039f\"],[0.2222222222222222,\"#7201a8\"],[0.3333333333333333,\"#9c179e\"],[0.4444444444444444,\"#bd3786\"],[0.5555555555555556,\"#d8576b\"],[0.6666666666666666,\"#ed7953\"],[0.7777777777777778,\"#fb9f3a\"],[0.8888888888888888,\"#fdca26\"],[1.0,\"#f0f921\"]],\"type\":\"contour\"}],\"contourcarpet\":[{\"colorbar\":{\"outlinewidth\":0,\"ticks\":\"\"},\"type\":\"contourcarpet\"}],\"heatmap\":[{\"colorbar\":{\"outlinewidth\":0,\"ticks\":\"\"},\"colorscale\":[[0.0,\"#0d0887\"],[0.1111111111111111,\"#46039f\"],[0.2222222222222222,\"#7201a8\"],[0.3333333333333333,\"#9c179e\"],[0.4444444444444444,\"#bd3786\"],[0.5555555555555556,\"#d8576b\"],[0.6666666666666666,\"#ed7953\"],[0.7777777777777778,\"#fb9f3a\"],[0.8888888888888888,\"#fdca26\"],[1.0,\"#f0f921\"]],\"type\":\"heatmap\"}],\"heatmapgl\":[{\"colorbar\":{\"outlinewidth\":0,\"ticks\":\"\"},\"colorscale\":[[0.0,\"#0d0887\"],[0.1111111111111111,\"#46039f\"],[0.2222222222222222,\"#7201a8\"],[0.3333333333333333,\"#9c179e\"],[0.4444444444444444,\"#bd3786\"],[0.5555555555555556,\"#d8576b\"],[0.6666666666666666,\"#ed7953\"],[0.7777777777777778,\"#fb9f3a\"],[0.8888888888888888,\"#fdca26\"],[1.0,\"#f0f921\"]],\"type\":\"heatmapgl\"}],\"histogram\":[{\"marker\":{\"pattern\":{\"fillmode\":\"overlay\",\"size\":10,\"solidity\":0.2}},\"type\":\"histogram\"}],\"histogram2d\":[{\"colorbar\":{\"outlinewidth\":0,\"ticks\":\"\"},\"colorscale\":[[0.0,\"#0d0887\"],[0.1111111111111111,\"#46039f\"],[0.2222222222222222,\"#7201a8\"],[0.3333333333333333,\"#9c179e\"],[0.4444444444444444,\"#bd3786\"],[0.5555555555555556,\"#d8576b\"],[0.6666666666666666,\"#ed7953\"],[0.7777777777777778,\"#fb9f3a\"],[0.8888888888888888,\"#fdca26\"],[1.0,\"#f0f921\"]],\"type\":\"histogram2d\"}],\"histogram2dcontour\":[{\"colorbar\":{\"outlinewidth\":0,\"ticks\":\"\"},\"colorscale\":[[0.0,\"#0d0887\"],[0.1111111111111111,\"#46039f\"],[0.2222222222222222,\"#7201a8\"],[0.3333333333333333,\"#9c179e\"],[0.4444444444444444,\"#bd3786\"],[0.5555555555555556,\"#d8576b\"],[0.6666666666666666,\"#ed7953\"],[0.7777777777777778,\"#fb9f3a\"],[0.8888888888888888,\"#fdca26\"],[1.0,\"#f0f921\"]],\"type\":\"histogram2dcontour\"}],\"mesh3d\":[{\"colorbar\":{\"outlinewidth\":0,\"ticks\":\"\"},\"type\":\"mesh3d\"}],\"parcoords\":[{\"line\":{\"colorbar\":{\"outlinewidth\":0,\"ticks\":\"\"}},\"type\":\"parcoords\"}],\"pie\":[{\"automargin\":true,\"type\":\"pie\"}],\"scatter\":[{\"marker\":{\"colorbar\":{\"outlinewidth\":0,\"ticks\":\"\"}},\"type\":\"scatter\"}],\"scatter3d\":[{\"line\":{\"colorbar\":{\"outlinewidth\":0,\"ticks\":\"\"}},\"marker\":{\"colorbar\":{\"outlinewidth\":0,\"ticks\":\"\"}},\"type\":\"scatter3d\"}],\"scattercarpet\":[{\"marker\":{\"colorbar\":{\"outlinewidth\":0,\"ticks\":\"\"}},\"type\":\"scattercarpet\"}],\"scattergeo\":[{\"marker\":{\"colorbar\":{\"outlinewidth\":0,\"ticks\":\"\"}},\"type\":\"scattergeo\"}],\"scattergl\":[{\"marker\":{\"colorbar\":{\"outlinewidth\":0,\"ticks\":\"\"}},\"type\":\"scattergl\"}],\"scattermapbox\":[{\"marker\":{\"colorbar\":{\"outlinewidth\":0,\"ticks\":\"\"}},\"type\":\"scattermapbox\"}],\"scatterpolar\":[{\"marker\":{\"colorbar\":{\"outlinewidth\":0,\"ticks\":\"\"}},\"type\":\"scatterpolar\"}],\"scatterpolargl\":[{\"marker\":{\"colorbar\":{\"outlinewidth\":0,\"ticks\":\"\"}},\"type\":\"scatterpolargl\"}],\"scatterternary\":[{\"marker\":{\"colorbar\":{\"outlinewidth\":0,\"ticks\":\"\"}},\"type\":\"scatterternary\"}],\"surface\":[{\"colorbar\":{\"outlinewidth\":0,\"ticks\":\"\"},\"colorscale\":[[0.0,\"#0d0887\"],[0.1111111111111111,\"#46039f\"],[0.2222222222222222,\"#7201a8\"],[0.3333333333333333,\"#9c179e\"],[0.4444444444444444,\"#bd3786\"],[0.5555555555555556,\"#d8576b\"],[0.6666666666666666,\"#ed7953\"],[0.7777777777777778,\"#fb9f3a\"],[0.8888888888888888,\"#fdca26\"],[1.0,\"#f0f921\"]],\"type\":\"surface\"}],\"table\":[{\"cells\":{\"fill\":{\"color\":\"#EBF0F8\"},\"line\":{\"color\":\"white\"}},\"header\":{\"fill\":{\"color\":\"#C8D4E3\"},\"line\":{\"color\":\"white\"}},\"type\":\"table\"}]},\"layout\":{\"annotationdefaults\":{\"arrowcolor\":\"#2a3f5f\",\"arrowhead\":0,\"arrowwidth\":1},\"autotypenumbers\":\"strict\",\"coloraxis\":{\"colorbar\":{\"outlinewidth\":0,\"ticks\":\"\"}},\"colorscale\":{\"diverging\":[[0,\"#8e0152\"],[0.1,\"#c51b7d\"],[0.2,\"#de77ae\"],[0.3,\"#f1b6da\"],[0.4,\"#fde0ef\"],[0.5,\"#f7f7f7\"],[0.6,\"#e6f5d0\"],[0.7,\"#b8e186\"],[0.8,\"#7fbc41\"],[0.9,\"#4d9221\"],[1,\"#276419\"]],\"sequential\":[[0.0,\"#0d0887\"],[0.1111111111111111,\"#46039f\"],[0.2222222222222222,\"#7201a8\"],[0.3333333333333333,\"#9c179e\"],[0.4444444444444444,\"#bd3786\"],[0.5555555555555556,\"#d8576b\"],[0.6666666666666666,\"#ed7953\"],[0.7777777777777778,\"#fb9f3a\"],[0.8888888888888888,\"#fdca26\"],[1.0,\"#f0f921\"]],\"sequentialminus\":[[0.0,\"#0d0887\"],[0.1111111111111111,\"#46039f\"],[0.2222222222222222,\"#7201a8\"],[0.3333333333333333,\"#9c179e\"],[0.4444444444444444,\"#bd3786\"],[0.5555555555555556,\"#d8576b\"],[0.6666666666666666,\"#ed7953\"],[0.7777777777777778,\"#fb9f3a\"],[0.8888888888888888,\"#fdca26\"],[1.0,\"#f0f921\"]]},\"colorway\":[\"#636efa\",\"#EF553B\",\"#00cc96\",\"#ab63fa\",\"#FFA15A\",\"#19d3f3\",\"#FF6692\",\"#B6E880\",\"#FF97FF\",\"#FECB52\"],\"font\":{\"color\":\"#2a3f5f\"},\"geo\":{\"bgcolor\":\"white\",\"lakecolor\":\"white\",\"landcolor\":\"#E5ECF6\",\"showlakes\":true,\"showland\":true,\"subunitcolor\":\"white\"},\"hoverlabel\":{\"align\":\"left\"},\"hovermode\":\"closest\",\"mapbox\":{\"style\":\"light\"},\"paper_bgcolor\":\"white\",\"plot_bgcolor\":\"#E5ECF6\",\"polar\":{\"angularaxis\":{\"gridcolor\":\"white\",\"linecolor\":\"white\",\"ticks\":\"\"},\"bgcolor\":\"#E5ECF6\",\"radialaxis\":{\"gridcolor\":\"white\",\"linecolor\":\"white\",\"ticks\":\"\"}},\"scene\":{\"xaxis\":{\"backgroundcolor\":\"#E5ECF6\",\"gridcolor\":\"white\",\"gridwidth\":2,\"linecolor\":\"white\",\"showbackground\":true,\"ticks\":\"\",\"zerolinecolor\":\"white\"},\"yaxis\":{\"backgroundcolor\":\"#E5ECF6\",\"gridcolor\":\"white\",\"gridwidth\":2,\"linecolor\":\"white\",\"showbackground\":true,\"ticks\":\"\",\"zerolinecolor\":\"white\"},\"zaxis\":{\"backgroundcolor\":\"#E5ECF6\",\"gridcolor\":\"white\",\"gridwidth\":2,\"linecolor\":\"white\",\"showbackground\":true,\"ticks\":\"\",\"zerolinecolor\":\"white\"}},\"shapedefaults\":{\"line\":{\"color\":\"#2a3f5f\"}},\"ternary\":{\"aaxis\":{\"gridcolor\":\"white\",\"linecolor\":\"white\",\"ticks\":\"\"},\"baxis\":{\"gridcolor\":\"white\",\"linecolor\":\"white\",\"ticks\":\"\"},\"bgcolor\":\"#E5ECF6\",\"caxis\":{\"gridcolor\":\"white\",\"linecolor\":\"white\",\"ticks\":\"\"}},\"title\":{\"x\":0.05},\"xaxis\":{\"automargin\":true,\"gridcolor\":\"white\",\"linecolor\":\"white\",\"ticks\":\"\",\"title\":{\"standoff\":15},\"zerolinecolor\":\"white\",\"zerolinewidth\":2},\"yaxis\":{\"automargin\":true,\"gridcolor\":\"white\",\"linecolor\":\"white\",\"ticks\":\"\",\"title\":{\"standoff\":15},\"zerolinecolor\":\"white\",\"zerolinewidth\":2}}},\"xaxis\":{\"anchor\":\"y\",\"domain\":[0.0,1.0],\"title\":{\"text\":\"Sentiment\"}},\"yaxis\":{\"anchor\":\"x\",\"domain\":[0.0,1.0],\"title\":{\"text\":\"value\"}},\"legend\":{\"title\":{\"text\":\"variable\"},\"tracegroupgap\":0},\"margin\":{\"t\":60},\"barmode\":\"relative\"},                        {\"responsive\": true}                    ).then(function(){\n",
              "                            \n",
              "var gd = document.getElementById('11a57323-c2a3-490f-aa8b-c5447eb16176');\n",
              "var x = new MutationObserver(function (mutations, observer) {{\n",
              "        var display = window.getComputedStyle(gd).display;\n",
              "        if (!display || display === 'none') {{\n",
              "            console.log([gd, 'removed!']);\n",
              "            Plotly.purge(gd);\n",
              "            observer.disconnect();\n",
              "        }}\n",
              "}});\n",
              "\n",
              "// Listen for the removal of the full notebook cells\n",
              "var notebookContainer = gd.closest('#notebook-container');\n",
              "if (notebookContainer) {{\n",
              "    x.observe(notebookContainer, {childList: true});\n",
              "}}\n",
              "\n",
              "// Listen for the clearing of the current output cell\n",
              "var outputEl = gd.closest('.output');\n",
              "if (outputEl) {{\n",
              "    x.observe(outputEl, {childList: true});\n",
              "}}\n",
              "\n",
              "                        })                };                            </script>        </div>\n",
              "</body>\n",
              "</html>"
            ]
          },
          "metadata": {}
        }
      ]
    },
    {
      "cell_type": "code",
      "source": [
        "dataset['length'] = dataset.Sentence.str.split().apply(len)\n",
        "\n",
        "dataset.length.describe()"
      ],
      "metadata": {
        "colab": {
          "base_uri": "https://localhost:8080/"
        },
        "id": "zaM4uwIIA_Ow",
        "outputId": "95238693-3459-49ae-db3e-14385ee07de0"
      },
      "execution_count": null,
      "outputs": [
        {
          "output_type": "execute_result",
          "data": {
            "text/plain": [
              "count    3453.000000\n",
              "mean       21.713003\n",
              "std         9.964168\n",
              "min         3.000000\n",
              "25%        14.000000\n",
              "50%        20.000000\n",
              "75%        28.000000\n",
              "max        80.000000\n",
              "Name: length, dtype: float64"
            ]
          },
          "metadata": {},
          "execution_count": 9
        }
      ]
    },
    {
      "cell_type": "code",
      "source": [
        "dataset.length.plot(kind='hist')"
      ],
      "metadata": {
        "colab": {
          "base_uri": "https://localhost:8080/",
          "height": 542
        },
        "id": "waFsw8WxBVWy",
        "outputId": "45eeeae8-7279-4b64-acec-8016b5b38f66"
      },
      "execution_count": null,
      "outputs": [
        {
          "output_type": "display_data",
          "data": {
            "text/html": [
              "<html>\n",
              "<head><meta charset=\"utf-8\" /></head>\n",
              "<body>\n",
              "    <div>            <script src=\"https://cdnjs.cloudflare.com/ajax/libs/mathjax/2.7.5/MathJax.js?config=TeX-AMS-MML_SVG\"></script><script type=\"text/javascript\">if (window.MathJax) {MathJax.Hub.Config({SVG: {font: \"STIX-Web\"}});}</script>                <script type=\"text/javascript\">window.PlotlyConfig = {MathJaxConfig: 'local'};</script>\n",
              "        <script src=\"https://cdn.plot.ly/plotly-2.8.3.min.js\"></script>                <div id=\"27335e95-6c1e-4e4c-b557-1c4ac36d3195\" class=\"plotly-graph-div\" style=\"height:525px; width:100%;\"></div>            <script type=\"text/javascript\">                                    window.PLOTLYENV=window.PLOTLYENV || {};                                    if (document.getElementById(\"27335e95-6c1e-4e4c-b557-1c4ac36d3195\")) {                    Plotly.newPlot(                        \"27335e95-6c1e-4e4c-b557-1c4ac36d3195\",                        [{\"alignmentgroup\":\"True\",\"bingroup\":\"x\",\"hovertemplate\":\"variable=length<br>value=%{x}<br>count=%{y}<extra></extra>\",\"legendgroup\":\"length\",\"marker\":{\"color\":\"#636efa\",\"pattern\":{\"shape\":\"\"}},\"name\":\"length\",\"offsetgroup\":\"length\",\"orientation\":\"v\",\"showlegend\":true,\"x\":[24,32,38,28,23,21,29,30,37,33,29,33,49,42,22,26,22,49,36,36,31,26,29,28,28,35,34,25,21,38,22,42,18,31,29,31,34,7,10,10,28,38,33,47,50,40,26,39,49,20,15,27,33,25,23,21,30,27,24,46,43,18,23,17,24,39,27,30,26,32,28,8,21,29,16,14,11,16,29,21,18,27,10,19,15,27,18,14,10,17,16,12,33,17,27,29,11,16,18,13,27,21,25,14,14,18,18,44,23,17,29,20,29,20,39,26,28,28,16,21,14,17,13,11,20,27,18,29,29,26,26,28,31,30,30,30,30,28,29,30,30,30,6,7,13,28,14,14,14,14,9,10,50,13,38,47,31,42,41,47,34,41,39,36,43,44,33,16,28,24,26,21,14,27,30,37,22,21,24,19,24,24,26,26,13,36,16,17,45,43,45,45,45,18,42,17,15,13,16,19,13,33,11,10,17,16,17,17,13,17,11,11,17,13,8,19,12,12,14,30,9,11,10,16,17,16,13,12,21,20,14,16,15,23,12,23,38,15,31,28,31,13,19,14,22,19,15,19,40,29,49,17,19,19,15,19,24,10,18,15,27,20,15,27,33,33,25,21,15,16,18,11,20,24,8,8,42,30,38,15,36,12,16,27,25,42,18,14,22,14,10,38,15,32,15,48,14,17,8,12,13,25,13,11,12,18,14,19,13,8,10,17,34,10,34,23,20,25,18,47,13,22,19,15,19,13,25,6,18,30,47,23,35,27,42,33,37,37,19,13,36,20,43,43,29,29,24,27,19,19,25,25,17,20,9,11,14,14,14,48,19,25,38,30,18,23,14,14,35,34,19,14,21,28,12,21,23,25,20,17,17,13,24,8,17,11,34,11,13,25,31,14,20,23,30,12,21,12,34,28,42,42,24,27,35,38,22,22,35,12,31,15,18,17,23,22,20,34,41,37,23,30,25,26,23,39,39,43,14,14,31,10,23,9,19,26,12,25,35,27,35,25,26,28,20,29,42,15,26,31,7,31,18,12,32,27,25,13,20,19,41,56,38,41,45,47,27,27,27,42,25,39,40,30,25,25,31,54,12,9,22,17,42,42,20,18,46,18,41,24,23,43,43,17,27,15,13,29,26,19,22,30,28,19,16,41,46,46,46,37,20,29,19,26,39,33,32,32,15,21,18,17,17,21,17,30,16,21,17,23,30,44,31,29,29,14,15,30,32,18,17,31,31,22,48,29,25,21,23,11,17,30,35,34,16,25,13,43,16,16,17,9,17,24,28,14,13,24,16,13,24,26,10,17,18,24,39,16,32,28,17,25,21,11,21,30,35,21,16,31,18,25,37,9,34,27,10,11,30,11,29,27,45,39,28,42,20,21,17,20,13,14,11,12,27,26,26,26,26,22,32,42,32,11,17,17,22,12,15,32,14,14,12,28,11,17,13,21,24,24,13,22,26,25,13,12,10,13,39,23,37,10,8,25,22,16,14,10,9,9,36,17,22,22,13,44,33,40,22,15,28,23,17,12,13,23,15,48,10,9,35,34,24,13,10,14,16,11,14,5,29,22,12,7,25,25,10,20,36,22,9,25,23,13,23,25,37,20,21,17,17,15,7,24,16,32,26,19,26,15,18,24,48,24,3,14,23,13,22,51,36,32,29,31,15,24,39,10,23,22,25,29,30,11,11,31,35,27,35,33,22,31,28,13,26,19,16,26,34,20,23,27,29,15,19,18,33,11,15,7,11,12,11,11,11,15,34,10,36,12,21,37,29,12,14,14,13,20,23,22,21,21,21,13,11,23,20,9,9,39,21,16,22,34,23,23,11,11,11,9,13,21,18,16,20,28,11,17,18,29,15,9,19,27,13,25,15,11,16,33,15,28,14,37,20,20,15,39,26,42,15,15,10,11,29,17,12,30,44,7,42,32,22,22,5,16,11,19,15,12,18,21,14,14,38,29,22,37,24,9,14,27,27,25,25,26,25,26,22,20,23,25,24,7,11,39,14,26,26,13,31,25,22,32,15,26,12,18,30,22,30,8,24,8,26,45,7,21,17,24,18,52,9,26,17,18,17,19,17,12,28,20,11,14,32,12,14,18,13,24,15,32,17,34,34,19,13,38,19,27,19,33,32,43,14,20,17,16,12,17,11,29,17,17,51,9,23,23,50,50,14,30,34,22,15,20,26,16,19,23,19,13,9,19,21,43,33,18,19,7,18,17,18,18,13,18,25,25,10,30,42,16,22,12,22,7,36,37,25,20,11,24,12,20,18,14,20,12,25,33,19,16,16,26,31,14,26,29,18,7,10,38,37,30,26,26,16,16,24,17,37,26,14,23,20,30,18,23,35,29,15,16,23,5,8,23,22,32,27,30,25,27,31,12,26,24,24,24,27,16,27,16,21,20,25,7,23,23,37,15,33,8,22,47,32,17,21,51,31,16,37,20,45,44,33,20,32,19,8,8,17,13,12,8,17,13,47,18,7,8,6,26,30,34,29,33,11,31,16,16,23,7,11,16,21,16,28,10,18,20,19,21,14,26,6,25,13,21,27,23,39,26,30,41,24,37,38,34,21,16,7,23,8,30,30,19,33,38,12,21,24,17,28,20,22,13,29,29,33,26,29,26,40,20,36,22,28,21,29,17,19,24,28,23,23,22,31,27,18,33,19,40,26,26,11,31,27,18,28,38,13,17,18,38,16,15,25,14,13,40,31,25,26,16,24,12,26,22,33,18,26,18,6,18,43,24,25,28,24,18,30,15,80,27,27,22,40,19,20,25,30,21,48,22,29,20,13,17,20,23,35,24,52,27,14,35,22,20,30,29,16,34,35,17,24,24,27,37,41,19,41,20,15,15,17,37,18,40,10,21,14,8,20,19,21,25,28,11,11,18,18,40,16,10,24,15,13,16,15,34,11,15,17,16,50,25,23,19,10,29,26,15,19,9,37,19,17,12,16,18,36,18,34,14,18,17,14,22,15,13,33,18,23,22,10,30,8,36,28,28,38,29,26,20,9,30,22,24,10,18,28,23,22,15,47,17,14,11,10,21,39,38,41,38,37,48,21,36,37,28,20,12,23,12,15,11,26,13,11,30,10,15,47,14,31,15,24,20,20,20,21,8,37,32,37,46,20,45,20,16,13,12,14,9,25,13,15,18,10,29,19,12,21,21,21,21,28,9,22,30,31,14,11,12,15,33,12,44,12,10,19,13,16,11,14,9,26,18,7,25,20,6,41,45,18,18,20,19,19,7,7,16,19,13,16,19,16,11,25,14,28,45,46,38,38,36,20,46,44,40,41,43,41,15,28,21,21,21,21,30,19,9,17,16,15,19,20,35,17,16,27,10,19,33,22,13,15,12,20,11,24,27,27,14,7,19,10,19,18,13,12,19,36,13,7,16,34,20,18,15,15,13,10,9,12,21,30,30,5,39,14,38,38,16,33,33,38,21,54,9,12,14,15,27,22,17,22,21,33,19,33,21,21,20,10,10,12,21,3,22,20,10,15,8,20,18,24,19,22,25,9,15,18,21,8,21,10,35,10,22,22,25,25,22,13,26,28,15,7,10,8,7,23,10,19,15,31,13,23,7,7,27,20,17,34,16,23,17,16,28,15,19,10,7,20,30,25,31,34,29,14,22,37,17,21,11,37,11,20,14,23,20,17,30,11,21,9,13,13,17,24,24,17,44,17,10,26,21,21,9,5,5,5,5,7,35,5,30,14,32,7,15,6,56,59,19,18,8,37,20,29,16,15,11,10,6,6,15,9,3,18,22,18,27,8,11,14,27,30,39,18,10,10,10,10,16,36,14,14,18,22,32,31,18,15,18,26,27,6,50,23,15,27,17,17,22,15,9,12,24,20,28,19,17,20,29,16,14,12,9,5,14,14,11,25,20,26,10,18,19,29,14,15,11,13,14,11,32,23,15,14,28,12,12,15,13,18,26,12,21,15,17,9,16,28,11,15,20,33,17,12,13,13,14,18,11,30,16,9,20,23,12,8,20,10,8,14,16,31,10,18,20,26,12,23,38,13,20,30,37,15,7,10,19,16,32,12,8,16,17,34,14,8,14,17,11,9,10,12,15,12,7,11,10,19,22,37,11,12,16,37,6,18,14,14,42,38,31,56,32,16,9,12,16,28,35,34,39,12,27,22,19,39,22,27,14,22,16,20,15,13,19,16,31,15,14,25,37,16,11,29,26,10,17,42,28,29,19,41,27,28,42,27,18,18,22,46,25,11,13,34,10,25,22,23,25,14,5,39,12,32,16,13,23,43,16,8,28,28,20,15,8,16,61,24,23,13,35,34,17,16,23,20,7,20,20,6,35,30,31,9,9,9,9,26,26,31,41,8,11,9,9,20,9,24,17,18,30,16,28,35,6,23,11,23,31,28,17,31,11,8,5,5,5,5,36,31,35,13,30,47,24,22,12,12,22,24,27,20,30,20,24,26,25,23,22,20,24,33,16,12,17,21,20,16,13,21,21,26,26,50,30,31,39,31,12,14,10,17,26,17,35,15,23,26,23,11,15,19,31,14,4,14,11,28,20,23,8,3,11,8,7,13,17,20,21,13,45,24,11,15,13,20,12,23,18,22,17,20,36,30,30,38,38,41,28,16,11,28,24,22,17,18,20,13,27,48,21,4,14,11,22,8,20,12,20,5,5,5,9,19,28,13,13,9,9,11,16,12,11,13,26,22,19,10,13,17,5,24,7,20,20,9,12,13,37,28,20,22,21,36,47,27,21,9,10,3,15,14,21,20,23,43,25,16,18,13,25,29,41,40,18,15,25,19,23,15,27,34,19,50,18,21,40,26,36,22,34,23,54,8,20,36,38,28,39,7,4,14,20,21,13,17,23,25,16,21,10,12,13,19,22,13,15,34,31,20,42,24,39,10,9,11,35,11,10,11,12,10,13,17,29,18,19,17,11,7,32,17,17,19,16,15,9,10,44,44,18,23,13,28,16,19,21,10,14,10,24,6,14,25,21,20,8,15,21,21,12,12,8,6,17,13,26,16,17,9,9,21,17,22,13,22,30,26,26,22,14,20,17,19,30,17,9,27,17,13,9,15,30,6,25,24,32,26,28,16,18,37,12,9,14,11,8,16,31,10,16,33,17,11,13,40,11,9,15,23,29,20,12,12,12,30,30,39,24,21,12,12,17,10,13,11,11,13,24,15,15,25,16,14,15,26,15,11,21,22,9,6,8,11,15,20,30,12,30,6,6,25,25,14,11,8,14,8,26,22,17,16,28,15,9,12,17,33,10,19,11,14,38,22,8,22,18,9,27,17,10,24,25,12,20,9,10,9,8,8,8,9,9,9,9,9,9,10,12,30,21,11,11,7,13,21,13,30,26,16,33,25,19,10,13,13,14,15,6,47,19,11,26,37,23,17,27,5,20,40,15,9,38,16,11,16,23,19,29,12,12,15,15,10,30,34,24,12,24,18,22,46,4,4,13,15,9,29,13,27,17,15,9,16,23,15,18,13,22,13,13,5,12,43,24,16,23,37,20,30,34,24,17,12,30,18,25,24,35,25,45,47,26,4,12,16,18,32,9,14,11,24,26,16,18,27,18,12,21,15,15,26,15,25,21,14,15,22,22,42,19,8,15,16,27,6,16,12,24,19,9,22,22,20,18,44,24,30,9,28,9,29,36,16,28,30,23,29,22,19,32,36,17,23,19,17,16,12,16,19,29,31,31,11,9,21,10,19,10,15,15,14,13,26,37,23,25,18,13,14,17,10,39,41,22,20,34,24,12,19,14,22,18,22,24,14,12,41,27,12,19,22,32,20,27,33,33,23,14,22,8,13,27,22,18,26,47,34,40,22,15,25,21,33,25,16,8,7,6,6,19,13,6,17,12,31,24,12,24,21,23,14,15,18,27,19,30,38,10,23,22,20,20,13,18,7,27,23,10,19,9,29,27,21,14,12,13,21,12,24,20,13,14,16,18,18,18,35,35,31,38,8,21,23,16,17,35,19,10,9,12,12,28,27,25,7,8,15,12,27,28,32,38,22,9,16,17,24,19,11,10,27,24,21,21,33,31,15,29,29,21,18,8,8,11,7,27,19,23,25,26,16,16,20,15,27,14,13,39,45,45,48,12,20,13,43,24,12,10,9,40,9,14,11,11,30,33,9,17,30,15,11,19,24,11,18,46,23,22,13,21,33,25,14,11,38,27,26,14,20,16,16,22,19,14,16,7,33,15,19,35,20,29,16,13,41,19,31,32,24,26,36,17,32,8,22,21,15,7,13,12,12,14,18,11,14,11,9,19,42,12,19,11,25,9,32,8,9,10,9,12,8,12,10,15,23,48,22,11,28,21,24,13,10,13,9,37,18,18,12,30,33,21,11,16,26,14,23,18,14,22,35,31,31,20,11,18,23,30,16,29,18,21,17,33,20,15,25,9,32,34,19,15,33,30,27,14,13,14,15,28,29,22,26,27,15,23,18,12,14,27,31,20,15,21,21,21,21,27,16,16,21,17,25,18,23,20,23,18,10,10,24,44,28,33,31,21,21,25,21,20,14,15,23,35,7,9,20,20,13,43,18,20,32,32,26,21,10,19,10,26,10,23,20,22,22,22,15,33,16,15,16,6,29,39,40,22,40,21,23,7,14,23,14,18,18,16,10,18,18,16,7,19,19,9,21,28,19,17,24,29,29,29,25,14,22,26,18,18,24,17,25,22,32,26,36,18,13,42,20,21,19,27,18,15,35,41,27,9,15,15,8,45,42,20,17,17,19,15,49,4,12,19,11,15,26,14,13,33,18,38,23,29,23,12,37,29,17,25,16,25,10,19,14,10,13,21,15,25,18,15,24,14,17,33,23,19,10,16,16,20,20,12,33,33,15,18,7,21,17,9,20,36,24,39,12,15,9,28,11,10,10,19,15,25,14,17,34,18,7,10,32,22,20,19,31,16,33,36,21,24,15,10,22,8,20,41,41,14,45,45,42,42,18,19,19,20,27,11,28,15,12,23,20,20,12,17,17,20,13,34,31,27,35,35,19,28,26,24,19,11,10,46,13,17,16,12,23,17,23,17,14,23,8,24,17,14,23,18,22,7,14,35,25,19,14,24,24,8,9,12,24,16,17,39,22,30,31,31,22,25,35,21,20,39,30,30,16,21,15,30,39,41,29,20,18,22,29,33,24,20,34,14,25,32,32,24,42,7,25,18,46,39,18,38,20,19,34,16,23,45,19,16,37,55,44,26,28,43,29,29,10,9,33,22,19,42,31,13,22,23,44,20,11,25,53,32,21,31,14,21,28,21,25,24,28,22,36,21,15,17,20,26,18,25,16,13,12,7,38,30,29,24,25,31,19,24,41,15,33,9,21,33,30,16,29,29,32,46,15,30,20,39,9,20,20,21,12,49,29,29,22,27,51,12,21,29,34,36,44,46,32,12,11,24,18,20,17,13,14,14,42,15,17,23,14,42,38,41,37,39,41,40,24,25,45,43,43,44,44,44,21,19,35,17,16,16,11,31,12,23,13,11,13,17,32,14,17,14,11,16,20,20,18,17,18,4,28,14,27,28,18,12,18,27,19,19,17,9,13,24,28,29,17,27,27,14,16,26,19,16,15,32,10,14,27,11,10,17,14,18,18,14,18,15,18,15,12,16,21,8,10,15,28,11,24,22,16,25,37,16,39,37,13,32,27,38,19,15,19,26,18,23,17,34,24,23,24,43,34,34,27,32,27,8,22,17,17,17,41,16,22,23,39,26,23,30,22,26,41,43,33,24,16,16,26,19,34,23,29,20,26,39,25,22,18],\"xaxis\":\"x\",\"yaxis\":\"y\",\"type\":\"histogram\"}],                        {\"template\":{\"data\":{\"bar\":[{\"error_x\":{\"color\":\"#2a3f5f\"},\"error_y\":{\"color\":\"#2a3f5f\"},\"marker\":{\"line\":{\"color\":\"#E5ECF6\",\"width\":0.5},\"pattern\":{\"fillmode\":\"overlay\",\"size\":10,\"solidity\":0.2}},\"type\":\"bar\"}],\"barpolar\":[{\"marker\":{\"line\":{\"color\":\"#E5ECF6\",\"width\":0.5},\"pattern\":{\"fillmode\":\"overlay\",\"size\":10,\"solidity\":0.2}},\"type\":\"barpolar\"}],\"carpet\":[{\"aaxis\":{\"endlinecolor\":\"#2a3f5f\",\"gridcolor\":\"white\",\"linecolor\":\"white\",\"minorgridcolor\":\"white\",\"startlinecolor\":\"#2a3f5f\"},\"baxis\":{\"endlinecolor\":\"#2a3f5f\",\"gridcolor\":\"white\",\"linecolor\":\"white\",\"minorgridcolor\":\"white\",\"startlinecolor\":\"#2a3f5f\"},\"type\":\"carpet\"}],\"choropleth\":[{\"colorbar\":{\"outlinewidth\":0,\"ticks\":\"\"},\"type\":\"choropleth\"}],\"contour\":[{\"colorbar\":{\"outlinewidth\":0,\"ticks\":\"\"},\"colorscale\":[[0.0,\"#0d0887\"],[0.1111111111111111,\"#46039f\"],[0.2222222222222222,\"#7201a8\"],[0.3333333333333333,\"#9c179e\"],[0.4444444444444444,\"#bd3786\"],[0.5555555555555556,\"#d8576b\"],[0.6666666666666666,\"#ed7953\"],[0.7777777777777778,\"#fb9f3a\"],[0.8888888888888888,\"#fdca26\"],[1.0,\"#f0f921\"]],\"type\":\"contour\"}],\"contourcarpet\":[{\"colorbar\":{\"outlinewidth\":0,\"ticks\":\"\"},\"type\":\"contourcarpet\"}],\"heatmap\":[{\"colorbar\":{\"outlinewidth\":0,\"ticks\":\"\"},\"colorscale\":[[0.0,\"#0d0887\"],[0.1111111111111111,\"#46039f\"],[0.2222222222222222,\"#7201a8\"],[0.3333333333333333,\"#9c179e\"],[0.4444444444444444,\"#bd3786\"],[0.5555555555555556,\"#d8576b\"],[0.6666666666666666,\"#ed7953\"],[0.7777777777777778,\"#fb9f3a\"],[0.8888888888888888,\"#fdca26\"],[1.0,\"#f0f921\"]],\"type\":\"heatmap\"}],\"heatmapgl\":[{\"colorbar\":{\"outlinewidth\":0,\"ticks\":\"\"},\"colorscale\":[[0.0,\"#0d0887\"],[0.1111111111111111,\"#46039f\"],[0.2222222222222222,\"#7201a8\"],[0.3333333333333333,\"#9c179e\"],[0.4444444444444444,\"#bd3786\"],[0.5555555555555556,\"#d8576b\"],[0.6666666666666666,\"#ed7953\"],[0.7777777777777778,\"#fb9f3a\"],[0.8888888888888888,\"#fdca26\"],[1.0,\"#f0f921\"]],\"type\":\"heatmapgl\"}],\"histogram\":[{\"marker\":{\"pattern\":{\"fillmode\":\"overlay\",\"size\":10,\"solidity\":0.2}},\"type\":\"histogram\"}],\"histogram2d\":[{\"colorbar\":{\"outlinewidth\":0,\"ticks\":\"\"},\"colorscale\":[[0.0,\"#0d0887\"],[0.1111111111111111,\"#46039f\"],[0.2222222222222222,\"#7201a8\"],[0.3333333333333333,\"#9c179e\"],[0.4444444444444444,\"#bd3786\"],[0.5555555555555556,\"#d8576b\"],[0.6666666666666666,\"#ed7953\"],[0.7777777777777778,\"#fb9f3a\"],[0.8888888888888888,\"#fdca26\"],[1.0,\"#f0f921\"]],\"type\":\"histogram2d\"}],\"histogram2dcontour\":[{\"colorbar\":{\"outlinewidth\":0,\"ticks\":\"\"},\"colorscale\":[[0.0,\"#0d0887\"],[0.1111111111111111,\"#46039f\"],[0.2222222222222222,\"#7201a8\"],[0.3333333333333333,\"#9c179e\"],[0.4444444444444444,\"#bd3786\"],[0.5555555555555556,\"#d8576b\"],[0.6666666666666666,\"#ed7953\"],[0.7777777777777778,\"#fb9f3a\"],[0.8888888888888888,\"#fdca26\"],[1.0,\"#f0f921\"]],\"type\":\"histogram2dcontour\"}],\"mesh3d\":[{\"colorbar\":{\"outlinewidth\":0,\"ticks\":\"\"},\"type\":\"mesh3d\"}],\"parcoords\":[{\"line\":{\"colorbar\":{\"outlinewidth\":0,\"ticks\":\"\"}},\"type\":\"parcoords\"}],\"pie\":[{\"automargin\":true,\"type\":\"pie\"}],\"scatter\":[{\"marker\":{\"colorbar\":{\"outlinewidth\":0,\"ticks\":\"\"}},\"type\":\"scatter\"}],\"scatter3d\":[{\"line\":{\"colorbar\":{\"outlinewidth\":0,\"ticks\":\"\"}},\"marker\":{\"colorbar\":{\"outlinewidth\":0,\"ticks\":\"\"}},\"type\":\"scatter3d\"}],\"scattercarpet\":[{\"marker\":{\"colorbar\":{\"outlinewidth\":0,\"ticks\":\"\"}},\"type\":\"scattercarpet\"}],\"scattergeo\":[{\"marker\":{\"colorbar\":{\"outlinewidth\":0,\"ticks\":\"\"}},\"type\":\"scattergeo\"}],\"scattergl\":[{\"marker\":{\"colorbar\":{\"outlinewidth\":0,\"ticks\":\"\"}},\"type\":\"scattergl\"}],\"scattermapbox\":[{\"marker\":{\"colorbar\":{\"outlinewidth\":0,\"ticks\":\"\"}},\"type\":\"scattermapbox\"}],\"scatterpolar\":[{\"marker\":{\"colorbar\":{\"outlinewidth\":0,\"ticks\":\"\"}},\"type\":\"scatterpolar\"}],\"scatterpolargl\":[{\"marker\":{\"colorbar\":{\"outlinewidth\":0,\"ticks\":\"\"}},\"type\":\"scatterpolargl\"}],\"scatterternary\":[{\"marker\":{\"colorbar\":{\"outlinewidth\":0,\"ticks\":\"\"}},\"type\":\"scatterternary\"}],\"surface\":[{\"colorbar\":{\"outlinewidth\":0,\"ticks\":\"\"},\"colorscale\":[[0.0,\"#0d0887\"],[0.1111111111111111,\"#46039f\"],[0.2222222222222222,\"#7201a8\"],[0.3333333333333333,\"#9c179e\"],[0.4444444444444444,\"#bd3786\"],[0.5555555555555556,\"#d8576b\"],[0.6666666666666666,\"#ed7953\"],[0.7777777777777778,\"#fb9f3a\"],[0.8888888888888888,\"#fdca26\"],[1.0,\"#f0f921\"]],\"type\":\"surface\"}],\"table\":[{\"cells\":{\"fill\":{\"color\":\"#EBF0F8\"},\"line\":{\"color\":\"white\"}},\"header\":{\"fill\":{\"color\":\"#C8D4E3\"},\"line\":{\"color\":\"white\"}},\"type\":\"table\"}]},\"layout\":{\"annotationdefaults\":{\"arrowcolor\":\"#2a3f5f\",\"arrowhead\":0,\"arrowwidth\":1},\"autotypenumbers\":\"strict\",\"coloraxis\":{\"colorbar\":{\"outlinewidth\":0,\"ticks\":\"\"}},\"colorscale\":{\"diverging\":[[0,\"#8e0152\"],[0.1,\"#c51b7d\"],[0.2,\"#de77ae\"],[0.3,\"#f1b6da\"],[0.4,\"#fde0ef\"],[0.5,\"#f7f7f7\"],[0.6,\"#e6f5d0\"],[0.7,\"#b8e186\"],[0.8,\"#7fbc41\"],[0.9,\"#4d9221\"],[1,\"#276419\"]],\"sequential\":[[0.0,\"#0d0887\"],[0.1111111111111111,\"#46039f\"],[0.2222222222222222,\"#7201a8\"],[0.3333333333333333,\"#9c179e\"],[0.4444444444444444,\"#bd3786\"],[0.5555555555555556,\"#d8576b\"],[0.6666666666666666,\"#ed7953\"],[0.7777777777777778,\"#fb9f3a\"],[0.8888888888888888,\"#fdca26\"],[1.0,\"#f0f921\"]],\"sequentialminus\":[[0.0,\"#0d0887\"],[0.1111111111111111,\"#46039f\"],[0.2222222222222222,\"#7201a8\"],[0.3333333333333333,\"#9c179e\"],[0.4444444444444444,\"#bd3786\"],[0.5555555555555556,\"#d8576b\"],[0.6666666666666666,\"#ed7953\"],[0.7777777777777778,\"#fb9f3a\"],[0.8888888888888888,\"#fdca26\"],[1.0,\"#f0f921\"]]},\"colorway\":[\"#636efa\",\"#EF553B\",\"#00cc96\",\"#ab63fa\",\"#FFA15A\",\"#19d3f3\",\"#FF6692\",\"#B6E880\",\"#FF97FF\",\"#FECB52\"],\"font\":{\"color\":\"#2a3f5f\"},\"geo\":{\"bgcolor\":\"white\",\"lakecolor\":\"white\",\"landcolor\":\"#E5ECF6\",\"showlakes\":true,\"showland\":true,\"subunitcolor\":\"white\"},\"hoverlabel\":{\"align\":\"left\"},\"hovermode\":\"closest\",\"mapbox\":{\"style\":\"light\"},\"paper_bgcolor\":\"white\",\"plot_bgcolor\":\"#E5ECF6\",\"polar\":{\"angularaxis\":{\"gridcolor\":\"white\",\"linecolor\":\"white\",\"ticks\":\"\"},\"bgcolor\":\"#E5ECF6\",\"radialaxis\":{\"gridcolor\":\"white\",\"linecolor\":\"white\",\"ticks\":\"\"}},\"scene\":{\"xaxis\":{\"backgroundcolor\":\"#E5ECF6\",\"gridcolor\":\"white\",\"gridwidth\":2,\"linecolor\":\"white\",\"showbackground\":true,\"ticks\":\"\",\"zerolinecolor\":\"white\"},\"yaxis\":{\"backgroundcolor\":\"#E5ECF6\",\"gridcolor\":\"white\",\"gridwidth\":2,\"linecolor\":\"white\",\"showbackground\":true,\"ticks\":\"\",\"zerolinecolor\":\"white\"},\"zaxis\":{\"backgroundcolor\":\"#E5ECF6\",\"gridcolor\":\"white\",\"gridwidth\":2,\"linecolor\":\"white\",\"showbackground\":true,\"ticks\":\"\",\"zerolinecolor\":\"white\"}},\"shapedefaults\":{\"line\":{\"color\":\"#2a3f5f\"}},\"ternary\":{\"aaxis\":{\"gridcolor\":\"white\",\"linecolor\":\"white\",\"ticks\":\"\"},\"baxis\":{\"gridcolor\":\"white\",\"linecolor\":\"white\",\"ticks\":\"\"},\"bgcolor\":\"#E5ECF6\",\"caxis\":{\"gridcolor\":\"white\",\"linecolor\":\"white\",\"ticks\":\"\"}},\"title\":{\"x\":0.05},\"xaxis\":{\"automargin\":true,\"gridcolor\":\"white\",\"linecolor\":\"white\",\"ticks\":\"\",\"title\":{\"standoff\":15},\"zerolinecolor\":\"white\",\"zerolinewidth\":2},\"yaxis\":{\"automargin\":true,\"gridcolor\":\"white\",\"linecolor\":\"white\",\"ticks\":\"\",\"title\":{\"standoff\":15},\"zerolinecolor\":\"white\",\"zerolinewidth\":2}}},\"xaxis\":{\"anchor\":\"y\",\"domain\":[0.0,1.0],\"title\":{\"text\":\"value\"}},\"yaxis\":{\"anchor\":\"x\",\"domain\":[0.0,1.0],\"title\":{\"text\":\"count\"}},\"legend\":{\"title\":{\"text\":\"variable\"},\"tracegroupgap\":0},\"margin\":{\"t\":60},\"barmode\":\"relative\"},                        {\"responsive\": true}                    ).then(function(){\n",
              "                            \n",
              "var gd = document.getElementById('27335e95-6c1e-4e4c-b557-1c4ac36d3195');\n",
              "var x = new MutationObserver(function (mutations, observer) {{\n",
              "        var display = window.getComputedStyle(gd).display;\n",
              "        if (!display || display === 'none') {{\n",
              "            console.log([gd, 'removed!']);\n",
              "            Plotly.purge(gd);\n",
              "            observer.disconnect();\n",
              "        }}\n",
              "}});\n",
              "\n",
              "// Listen for the removal of the full notebook cells\n",
              "var notebookContainer = gd.closest('#notebook-container');\n",
              "if (notebookContainer) {{\n",
              "    x.observe(notebookContainer, {childList: true});\n",
              "}}\n",
              "\n",
              "// Listen for the clearing of the current output cell\n",
              "var outputEl = gd.closest('.output');\n",
              "if (outputEl) {{\n",
              "    x.observe(outputEl, {childList: true});\n",
              "}}\n",
              "\n",
              "                        })                };                            </script>        </div>\n",
              "</body>\n",
              "</html>"
            ]
          },
          "metadata": {}
        }
      ]
    },
    {
      "cell_type": "code",
      "source": [
        "np.percentile(dataset.length, 95)"
      ],
      "metadata": {
        "colab": {
          "base_uri": "https://localhost:8080/"
        },
        "id": "44QF3YEqBuY1",
        "outputId": "9295ce52-d0a0-4b2d-92a5-15b191d2590d"
      },
      "execution_count": null,
      "outputs": [
        {
          "output_type": "execute_result",
          "data": {
            "text/plain": [
              "41.0"
            ]
          },
          "metadata": {},
          "execution_count": 11
        }
      ]
    },
    {
      "cell_type": "code",
      "source": [
        "from wordcloud import WordCloud, STOPWORDS\n",
        "\n",
        "def wordcloud_gen(df, sentiment):\n",
        "  combine_sentences = \" \".join([sentence for sentence in df[df.Sentiment == sentiment]['Sentence']])\n",
        "\n",
        "  wc = WordCloud(background_color='white', max_words=41, stopwords=STOPWORDS)\n",
        "  plt.figure(figsize=(10,10))\n",
        "  plt.imshow(wc.generate(combine_sentences))\n",
        "  plt.title(f'{sentiment} words')\n",
        "  plt.axis('off')\n",
        "  plt.show()"
      ],
      "metadata": {
        "id": "i-PmFvG3Ccih"
      },
      "execution_count": null,
      "outputs": []
    },
    {
      "cell_type": "code",
      "source": [
        "wordcloud_gen(dataset, 'neutral')"
      ],
      "metadata": {
        "colab": {
          "base_uri": "https://localhost:8080/",
          "height": 326
        },
        "id": "ryn4mANbDgWe",
        "outputId": "46ca1d6b-2d25-4db4-8eba-b3e36df46308"
      },
      "execution_count": null,
      "outputs": [
        {
          "output_type": "display_data",
          "data": {
            "text/plain": [
              "<Figure size 720x720 with 1 Axes>"
            ],
            "image/png": "[encoded data removed]"
          },
          "metadata": {
            "needs_background": "light"
          }
        }
      ]
    },
    {
      "cell_type": "code",
      "source": [
        "wordcloud_gen(dataset, 'positive')"
      ],
      "metadata": {
        "colab": {
          "base_uri": "https://localhost:8080/",
          "height": 326
        },
        "id": "5Hu-ZJeTDgTm",
        "outputId": "75279e3b-3522-47d0-ba71-6a8657f8a690"
      },
      "execution_count": null,
      "outputs": [
        {
          "output_type": "display_data",
          "data": {
            "text/plain": [
              "<Figure size 720x720 with 1 Axes>"
            ],
            "image/png": "[encoded data removed]"
          },
          "metadata": {
            "needs_background": "light"
          }
        }
      ]
    },
    {
      "cell_type": "code",
      "source": [
        "wordcloud_gen(dataset, 'neutral')"
      ],
      "metadata": {
        "colab": {
          "base_uri": "https://localhost:8080/",
          "height": 326
        },
        "id": "kB_RHMFUDgFO",
        "outputId": "e021f283-d938-4078-ab2d-b7d7f9296397"
      },
      "execution_count": null,
      "outputs": [
        {
          "output_type": "display_data",
          "data": {
            "text/plain": [
              "<Figure size 720x720 with 1 Axes>"
            ],
            "image/png": "[encoded data removed]"
          },
          "metadata": {
            "needs_background": "light"
          }
        }
      ]
    },
    {
      "cell_type": "markdown",
      "source": [
        "# Text preprocessing"
      ],
      "metadata": {
        "id": "mkfFyn6YQOEx"
      }
    },
    {
      "cell_type": "code",
      "source": [
        "def preprocessing_sentences(sentence):\n",
        "  # Removing non letters\n",
        "  sentence = re.sub(r'[^a-zA-Z0-9]', ' ', sentence)\n",
        "\n",
        "  # Creating word tokens\n",
        "  words = sentence.split()\n",
        "\n",
        "  # Removing stopwords\n",
        "  words = [word for word in words if word not in stopwords.words('english')]\n",
        "\n",
        "  # Stemming\n",
        "  words = [PorterStemmer().stem(word) for word in words]\n",
        "\n",
        "  return \" \".join(words)\n"
      ],
      "metadata": {
        "id": "K9Z6wnuyQPd2"
      },
      "execution_count": 6,
      "outputs": []
    },
    {
      "cell_type": "code",
      "source": [
        "dataset['clean_sentences'] = dataset['Sentence'].apply(preprocessing_sentences)"
      ],
      "metadata": {
        "id": "OGz0XboqRAbs"
      },
      "execution_count": 7,
      "outputs": []
    },
    {
      "cell_type": "code",
      "source": [
        "random_3_sentences = dataset.sample(n=3)\n",
        "\n",
        "for _, s in random_3_sentences.iterrows():\n",
        "  print('-'*20)\n",
        "  print(f\"Sentiment: {s['Sentiment']}\\n\")\n",
        "  print(f\"Sentence:\\n{s['Sentence']}\\n\")\n",
        "  print(f'Clean sentence:\\n{s[\"clean_sentences\"]}')\n",
        "  print('-'*20)\n",
        "  print('\\n')"
      ],
      "metadata": {
        "colab": {
          "base_uri": "https://localhost:8080/"
        },
        "id": "k9ec5aLsRGfW",
        "outputId": "7fec58ed-5fe8-4e55-ca4f-b21232d7d5d1"
      },
      "execution_count": 8,
      "outputs": [
        {
          "output_type": "stream",
          "name": "stdout",
          "text": [
            "--------------------\n",
            "Sentiment: neutral\n",
            "\n",
            "Sentence:\n",
            "the store is located in poznan in a shopping center named pestka , the company added \n",
            "\n",
            "Clean sentence:\n",
            "store locat poznan shop center name pestka compani ad\n",
            "--------------------\n",
            "\n",
            "\n",
            "--------------------\n",
            "Sentiment: negative\n",
            "\n",
            "Sentence:\n",
            "changes in the market situation and tougher price competition have substantially reduced demand for bread packaging manufactured at the kauhava plant , according to the company \n",
            "\n",
            "Clean sentence:\n",
            "chang market situat tougher price competit substanti reduc demand bread packag manufactur kauhava plant accord compani\n",
            "--------------------\n",
            "\n",
            "\n",
            "--------------------\n",
            "Sentiment: neutral\n",
            "\n",
            "Sentence:\n",
            "compagnie de financement foncier - is to issue a benchmark , 10 year covered deal in euros \n",
            "\n",
            "Clean sentence:\n",
            "compagni de financ foncier issu benchmark 10 year cover deal euro\n",
            "--------------------\n",
            "\n",
            "\n"
          ]
        }
      ]
    },
    {
      "cell_type": "code",
      "source": [
        "from sklearn.preprocessing import LabelEncoder\n",
        "\n",
        "le = LabelEncoder()\n",
        "\n",
        "dataset['class'] = le.fit_transform(dataset['Sentiment'])\n",
        "\n",
        "dataset['clean_length'] = dataset.clean_sentences.str.split().apply(len)\n",
        "\n",
        "dataset.head()"
      ],
      "metadata": {
        "colab": {
          "base_uri": "https://localhost:8080/",
          "height": 337
        },
        "id": "dlOlRTz-RRbW",
        "outputId": "93af9343-d822-4c81-afc4-677c36d89c89"
      },
      "execution_count": 9,
      "outputs": [
        {
          "output_type": "execute_result",
          "data": {
            "text/plain": [
              "                                            Sentence Sentiment  \\\n",
              "0  according to gran , the company has no plans t...   neutral   \n",
              "1  with the new production plant the company woul...  positive   \n",
              "2  for the last quarter of 2010 , componenta 's n...  positive   \n",
              "3  in the third quarter of 2010 , net sales incre...  positive   \n",
              "4  operating profit rose to eur 13.1 mn from eur ...  positive   \n",
              "\n",
              "                                     clean_sentences  class  clean_length  \n",
              "0  accord gran compani plan move product russia a...      1            10  \n",
              "1  new product plant compani would increas capac ...      2            20  \n",
              "2  last quarter 2010 componenta net sale doubl eu...      2            21  \n",
              "3  third quarter 2010 net sale increas 5 2 eur 20...      2            20  \n",
              "4  oper profit rose eur 13 1 mn eur 8 7 mn corres...      2            19  "
            ],
            "text/html": [
              "\n",
              "  <div id=\"df-16991fb7-54a8-4bc0-8b9d-4db38cdb894c\">\n",
              "    <div class=\"colab-df-container\">\n",
              "      <div>\n",
              "<style scoped>\n",
              "    .dataframe tbody tr th:only-of-type {\n",
              "        vertical-align: middle;\n",
              "    }\n",
              "\n",
              "    .dataframe tbody tr th {\n",
              "        vertical-align: top;\n",
              "    }\n",
              "\n",
              "    .dataframe thead th {\n",
              "        text-align: right;\n",
              "    }\n",
              "</style>\n",
              "<table border=\"1\" class=\"dataframe\">\n",
              "  <thead>\n",
              "    <tr style=\"text-align: right;\">\n",
              "      <th></th>\n",
              "      <th>Sentence</th>\n",
              "      <th>Sentiment</th>\n",
              "      <th>clean_sentences</th>\n",
              "      <th>class</th>\n",
              "      <th>clean_length</th>\n",
              "    </tr>\n",
              "  </thead>\n",
              "  <tbody>\n",
              "    <tr>\n",
              "      <th>0</th>\n",
              "      <td>according to gran , the company has no plans t...</td>\n",
              "      <td>neutral</td>\n",
              "      <td>accord gran compani plan move product russia a...</td>\n",
              "      <td>1</td>\n",
              "      <td>10</td>\n",
              "    </tr>\n",
              "    <tr>\n",
              "      <th>1</th>\n",
              "      <td>with the new production plant the company woul...</td>\n",
              "      <td>positive</td>\n",
              "      <td>new product plant compani would increas capac ...</td>\n",
              "      <td>2</td>\n",
              "      <td>20</td>\n",
              "    </tr>\n",
              "    <tr>\n",
              "      <th>2</th>\n",
              "      <td>for the last quarter of 2010 , componenta 's n...</td>\n",
              "      <td>positive</td>\n",
              "      <td>last quarter 2010 componenta net sale doubl eu...</td>\n",
              "      <td>2</td>\n",
              "      <td>21</td>\n",
              "    </tr>\n",
              "    <tr>\n",
              "      <th>3</th>\n",
              "      <td>in the third quarter of 2010 , net sales incre...</td>\n",
              "      <td>positive</td>\n",
              "      <td>third quarter 2010 net sale increas 5 2 eur 20...</td>\n",
              "      <td>2</td>\n",
              "      <td>20</td>\n",
              "    </tr>\n",
              "    <tr>\n",
              "      <th>4</th>\n",
              "      <td>operating profit rose to eur 13.1 mn from eur ...</td>\n",
              "      <td>positive</td>\n",
              "      <td>oper profit rose eur 13 1 mn eur 8 7 mn corres...</td>\n",
              "      <td>2</td>\n",
              "      <td>19</td>\n",
              "    </tr>\n",
              "  </tbody>\n",
              "</table>\n",
              "</div>\n",
              "      <button class=\"colab-df-convert\" onclick=\"convertToInteractive('df-16991fb7-54a8-4bc0-8b9d-4db38cdb894c')\"\n",
              "              title=\"Convert this dataframe to an interactive table.\"\n",
              "              style=\"display:none;\">\n",
              "        \n",
              "  <svg xmlns=\"http://www.w3.org/2000/svg\" height=\"24px\"viewBox=\"0 0 24 24\"\n",
              "       width=\"24px\">\n",
              "    <path d=\"M0 0h24v24H0V0z\" fill=\"none\"/>\n",
              "    <path d=\"M18.56 5.44l.94 2.06.94-2.06 2.06-.94-2.06-.94-.94-2.06-.94 2.06-2.06.94zm-11 1L8.5 8.5l.94-2.06 2.06-.94-2.06-.94L8.5 2.5l-.94 2.06-2.06.94zm10 10l.94 2.06.94-2.06 2.06-.94-2.06-.94-.94-2.06-.94 2.06-2.06.94z\"/><path d=\"M17.41 7.96l-1.37-1.37c-.4-.4-.92-.59-1.43-.59-.52 0-1.04.2-1.43.59L10.3 9.45l-7.72 7.72c-.78.78-.78 2.05 0 2.83L4 21.41c.39.39.9.59 1.41.59.51 0 1.02-.2 1.41-.59l7.78-7.78 2.81-2.81c.8-.78.8-2.07 0-2.86zM5.41 20L4 18.59l7.72-7.72 1.47 1.35L5.41 20z\"/>\n",
              "  </svg>\n",
              "      </button>\n",
              "      \n",
              "  <style>\n",
              "    .colab-df-container {\n",
              "      display:flex;\n",
              "      flex-wrap:wrap;\n",
              "      gap: 12px;\n",
              "    }\n",
              "\n",
              "    .colab-df-convert {\n",
              "      background-color: #E8F0FE;\n",
              "      border: none;\n",
              "      border-radius: 50%;\n",
              "      cursor: pointer;\n",
              "      display: none;\n",
              "      fill: #1967D2;\n",
              "      height: 32px;\n",
              "      padding: 0 0 0 0;\n",
              "      width: 32px;\n",
              "    }\n",
              "\n",
              "    .colab-df-convert:hover {\n",
              "      background-color: #E2EBFA;\n",
              "      box-shadow: 0px 1px 2px rgba(60, 64, 67, 0.3), 0px 1px 3px 1px rgba(60, 64, 67, 0.15);\n",
              "      fill: #174EA6;\n",
              "    }\n",
              "\n",
              "    [theme=dark] .colab-df-convert {\n",
              "      background-color: #3B4455;\n",
              "      fill: #D2E3FC;\n",
              "    }\n",
              "\n",
              "    [theme=dark] .colab-df-convert:hover {\n",
              "      background-color: #434B5C;\n",
              "      box-shadow: 0px 1px 3px 1px rgba(0, 0, 0, 0.15);\n",
              "      filter: drop-shadow(0px 1px 2px rgba(0, 0, 0, 0.3));\n",
              "      fill: #FFFFFF;\n",
              "    }\n",
              "  </style>\n",
              "\n",
              "      <script>\n",
              "        const buttonEl =\n",
              "          document.querySelector('#df-16991fb7-54a8-4bc0-8b9d-4db38cdb894c button.colab-df-convert');\n",
              "        buttonEl.style.display =\n",
              "          google.colab.kernel.accessAllowed ? 'block' : 'none';\n",
              "\n",
              "        async function convertToInteractive(key) {\n",
              "          const element = document.querySelector('#df-16991fb7-54a8-4bc0-8b9d-4db38cdb894c');\n",
              "          const dataTable =\n",
              "            await google.colab.kernel.invokeFunction('convertToInteractive',\n",
              "                                                     [key], {});\n",
              "          if (!dataTable) return;\n",
              "\n",
              "          const docLinkHtml = 'Like what you see? Visit the ' +\n",
              "            '<a target=\"_blank\" href=https://colab.research.google.com/notebooks/data_table.ipynb>data table notebook</a>'\n",
              "            + ' to learn more about interactive tables.';\n",
              "          element.innerHTML = '';\n",
              "          dataTable['output_type'] = 'display_data';\n",
              "          await google.colab.output.renderOutput(dataTable, element);\n",
              "          const docLink = document.createElement('div');\n",
              "          docLink.innerHTML = docLinkHtml;\n",
              "          element.appendChild(docLink);\n",
              "        }\n",
              "      </script>\n",
              "    </div>\n",
              "  </div>\n",
              "  "
            ]
          },
          "metadata": {},
          "execution_count": 9
        }
      ]
    },
    {
      "cell_type": "code",
      "source": [
        "unique = set()\n",
        "for sentence in list(dataset['clean_sentences']):\n",
        "  unique.update(sentence.split())\n",
        "\n",
        "print(f'Dataset contains {len(unique)} words')\n",
        "print(f'Most of sentences are {np.percentile(dataset.clean_length, 95)} word long')"
      ],
      "metadata": {
        "colab": {
          "base_uri": "https://localhost:8080/"
        },
        "id": "5sGPzFnMSMd4",
        "outputId": "7c3b4d63-42a2-470f-9919-5e12a524e5b5"
      },
      "execution_count": 9,
      "outputs": [
        {
          "output_type": "stream",
          "name": "stdout",
          "text": [
            "Dataset contains 6153 words\n",
            "Most of sentences are 27.0 word long\n"
          ]
        }
      ]
    },
    {
      "cell_type": "code",
      "source": [
        "X = dataset['clean_sentences']\n",
        "y = dataset['class']\n",
        "\n",
        "X_train, X_test, y_train, y_test = train_test_split(X, y, test_size=.15, random_state=42)\n",
        "\n",
        "X_train.shape, y_train.shape, X_test.shape, y_test.shape"
      ],
      "metadata": {
        "colab": {
          "base_uri": "https://localhost:8080/"
        },
        "id": "8331BEy6SgsS",
        "outputId": "696fe04d-676c-4352-92de-7950ddbee6fd"
      },
      "execution_count": 10,
      "outputs": [
        {
          "output_type": "execute_result",
          "data": {
            "text/plain": [
              "((2935,), (2935,), (518,), (518,))"
            ]
          },
          "metadata": {},
          "execution_count": 10
        }
      ]
    },
    {
      "cell_type": "code",
      "source": [
        "max_tokens = 6153\n",
        "\n",
        "from tensorflow.keras.layers import TextVectorization\n",
        "\n",
        "text_vectorizer = TextVectorization(max_tokens=max_tokens,\n",
        "                                    output_sequence_length=27)"
      ],
      "metadata": {
        "id": "jmKoPCzmTwCD"
      },
      "execution_count": 12,
      "outputs": []
    },
    {
      "cell_type": "code",
      "source": [
        "text_vectorizer.adapt(X_train)"
      ],
      "metadata": {
        "id": "z2nGAqgyVLVg"
      },
      "execution_count": 13,
      "outputs": []
    },
    {
      "cell_type": "code",
      "source": [
        "text_vocab = text_vectorizer.get_vocabulary()\n",
        "print(f'Vocabulary consists of {len(text_vocab)} words')"
      ],
      "metadata": {
        "colab": {
          "base_uri": "https://localhost:8080/"
        },
        "id": "uUCahVaSVVqe",
        "outputId": "8ebc32fc-2c95-4b02-9143-230c34184d86"
      },
      "execution_count": 14,
      "outputs": [
        {
          "output_type": "stream",
          "name": "stdout",
          "text": [
            "Vocabulary consists of 5638 words\n"
          ]
        }
      ]
    },
    {
      "cell_type": "code",
      "source": [
        "token_embed = tf.keras.layers.Embedding(input_dim=len(text_vocab),\n",
        "                                        output_dim=30,\n",
        "                                        mask_zero=True,\n",
        "                                        name='token_embedding_layer')"
      ],
      "metadata": {
        "id": "fNl98o2LVo33"
      },
      "execution_count": 15,
      "outputs": []
    },
    {
      "cell_type": "code",
      "source": [
        "train_dataset = tf.data.Dataset.from_tensor_slices((X_train, y_train))\n",
        "test_dataset = tf.data.Dataset.from_tensor_slices((X_test, y_test))\n",
        "\n",
        "train_dataset = train_dataset.batch(32).prefetch(tf.data.AUTOTUNE)\n",
        "test_dataset = test_dataset.batch(32).prefetch(tf.data.AUTOTUNE)"
      ],
      "metadata": {
        "id": "u9V3ZTtBcVyo"
      },
      "execution_count": 16,
      "outputs": []
    },
    {
      "cell_type": "markdown",
      "source": [
        "# Helper functions"
      ],
      "metadata": {
        "id": "XYi2qCOwWg7k"
      }
    },
    {
      "cell_type": "code",
      "source": [
        "from sklearn.metrics import accuracy_score, precision_recall_fscore_support\n",
        "def calculate_results(y_true, y_pred):\n",
        "  model_accuracy = accuracy_score(y_true, y_pred) * 100\n",
        "  \n",
        "  model_precision, model_recall, model_f1, _ = precision_recall_fscore_support(y_true, y_pred, average=\"weighted\")\n",
        "  model_results = {\"accuracy\": model_accuracy,\n",
        "                  \"precision\": model_precision,\n",
        "                  \"recall\": model_recall,\n",
        "                  \"f1\": model_f1}\n",
        "  return model_results"
      ],
      "metadata": {
        "id": "sDz02q9xWlDs"
      },
      "execution_count": 15,
      "outputs": []
    },
    {
      "cell_type": "markdown",
      "source": [
        "# Modeling Experimentations"
      ],
      "metadata": {
        "id": "zAvq1O2bUBYO"
      }
    },
    {
      "cell_type": "markdown",
      "source": [
        "## Scikit-Learn classifiers"
      ],
      "metadata": {
        "id": "ebtI_vZWUC1u"
      }
    },
    {
      "cell_type": "code",
      "source": [
        "from sklearn.feature_extraction.text import TfidfVectorizer\n",
        "from sklearn.pipeline import Pipeline"
      ],
      "metadata": {
        "id": "sQhokBn3WJUc"
      },
      "execution_count": null,
      "outputs": []
    },
    {
      "cell_type": "markdown",
      "source": [
        "### Model_0: MultinomialNB"
      ],
      "metadata": {
        "id": "ja150iadWGfy"
      }
    },
    {
      "cell_type": "code",
      "source": [
        "from sklearn.naive_bayes import MultinomialNB\n",
        "\n",
        "model_0 = Pipeline([\n",
        "    ('tfidf',TfidfVectorizer()),\n",
        "    ('clf', MultinomialNB())\n",
        "])\n",
        "\n",
        "model_0.fit(X_train, y_train)\n",
        "\n",
        "y_pred_0 = model_0.predict(X_test)\n",
        "model_0_results = calculate_results(y_test, y_pred_0)\n",
        "model_0_results"
      ],
      "metadata": {
        "colab": {
          "base_uri": "https://localhost:8080/"
        },
        "id": "MaVEQsFuUCVV",
        "outputId": "07b3b559-16b9-4fb7-eeb5-a662bf7a3ff7"
      },
      "execution_count": null,
      "outputs": [
        {
          "output_type": "execute_result",
          "data": {
            "text/plain": [
              "{'accuracy': 74.7104247104247,\n",
              " 'precision': 0.7635623689677743,\n",
              " 'recall': 0.747104247104247,\n",
              " 'f1': 0.6969720323849953}"
            ]
          },
          "metadata": {},
          "execution_count": 28
        }
      ]
    },
    {
      "cell_type": "markdown",
      "source": [
        "### Model_1: KNN"
      ],
      "metadata": {
        "id": "5Hww6KmHXD04"
      }
    },
    {
      "cell_type": "code",
      "source": [
        "from sklearn.neighbors import KNeighborsClassifier\n",
        "\n",
        "model_1 = Pipeline([\n",
        "    ('tfidf',TfidfVectorizer()),\n",
        "    ('clf', KNeighborsClassifier())\n",
        "])\n",
        "\n",
        "model_1.fit(X_train, y_train)\n",
        "\n",
        "y_pred_1 = model_1.predict(X_test)\n",
        "model_1_results = calculate_results(y_test, y_pred_1)\n",
        "model_1_results"
      ],
      "metadata": {
        "colab": {
          "base_uri": "https://localhost:8080/"
        },
        "id": "wsNu6YOBW8h3",
        "outputId": "98ade950-5b99-4154-96e3-6fcfb0c8dcf6"
      },
      "execution_count": null,
      "outputs": [
        {
          "output_type": "execute_result",
          "data": {
            "text/plain": [
              "{'accuracy': 73.55212355212355,\n",
              " 'precision': 0.7362741759536908,\n",
              " 'recall': 0.7355212355212355,\n",
              " 'f1': 0.7108883656086529}"
            ]
          },
          "metadata": {},
          "execution_count": 29
        }
      ]
    },
    {
      "cell_type": "markdown",
      "source": [
        "### Model_2: SVC"
      ],
      "metadata": {
        "id": "IoFmF3LQXZ76"
      }
    },
    {
      "cell_type": "code",
      "source": [
        "from sklearn.svm import SVC\n",
        "\n",
        "model_2 = Pipeline([\n",
        "    ('tfidf',TfidfVectorizer()),\n",
        "    ('clf', SVC())\n",
        "])\n",
        "\n",
        "model_2.fit(X_train, y_train)\n",
        "\n",
        "y_pred_2 = model_2.predict(X_test)\n",
        "model_2_results = calculate_results(y_test, y_pred_2)\n",
        "model_2_results"
      ],
      "metadata": {
        "colab": {
          "base_uri": "https://localhost:8080/"
        },
        "id": "5MEsIhoiXU10",
        "outputId": "77e8208a-b0d5-48c0-d161-798cffca8fe0"
      },
      "execution_count": null,
      "outputs": [
        {
          "output_type": "execute_result",
          "data": {
            "text/plain": [
              "{'accuracy': 81.46718146718148,\n",
              " 'precision': 0.8154084421301527,\n",
              " 'recall': 0.8146718146718147,\n",
              " 'f1': 0.7997443539323214}"
            ]
          },
          "metadata": {},
          "execution_count": 30
        }
      ]
    },
    {
      "cell_type": "markdown",
      "source": [
        "### Model_3: Decision Tree Classifier"
      ],
      "metadata": {
        "id": "kTzLOfMfXsZ0"
      }
    },
    {
      "cell_type": "code",
      "source": [
        "from sklearn.tree import DecisionTreeClassifier\n",
        "\n",
        "model_3 = Pipeline([\n",
        "    ('tfidf',TfidfVectorizer()),\n",
        "    ('clf', DecisionTreeClassifier())\n",
        "])\n",
        "\n",
        "model_3.fit(X_train, y_train)\n",
        "\n",
        "y_pred_3 = model_3.predict(X_test)\n",
        "model_3_results = calculate_results(y_test, y_pred_3)\n",
        "model_3_results"
      ],
      "metadata": {
        "colab": {
          "base_uri": "https://localhost:8080/"
        },
        "id": "o6JBVVCYYtgh",
        "outputId": "8d64facd-b920-4f82-9938-95430f78b14a"
      },
      "execution_count": null,
      "outputs": [
        {
          "output_type": "execute_result",
          "data": {
            "text/plain": [
              "{'accuracy': 78.95752895752895,\n",
              " 'precision': 0.7928024409785365,\n",
              " 'recall': 0.7895752895752896,\n",
              " 'f1': 0.7908784757620976}"
            ]
          },
          "metadata": {},
          "execution_count": 31
        }
      ]
    },
    {
      "cell_type": "markdown",
      "source": [
        "### Model_4: Random Forest Classifier"
      ],
      "metadata": {
        "id": "Z4MGlp5bX4mk"
      }
    },
    {
      "cell_type": "code",
      "source": [
        "from sklearn.ensemble import RandomForestClassifier\n",
        "\n",
        "model_4 = Pipeline([\n",
        "    ('tfidf',TfidfVectorizer()),\n",
        "    ('clf', RandomForestClassifier())\n",
        "])\n",
        "\n",
        "model_4.fit(X_train, y_train)\n",
        "\n",
        "y_pred_4 = model_4.predict(X_test)\n",
        "model_4_results = calculate_results(y_test, y_pred_4)\n",
        "model_4_results"
      ],
      "metadata": {
        "colab": {
          "base_uri": "https://localhost:8080/"
        },
        "id": "Qk-CSrG7Yt8J",
        "outputId": "db7a8e38-586a-42d6-a0f6-84080f3b3ea2"
      },
      "execution_count": null,
      "outputs": [
        {
          "output_type": "execute_result",
          "data": {
            "text/plain": [
              "{'accuracy': 84.74903474903475,\n",
              " 'precision': 0.8489269837997351,\n",
              " 'recall': 0.8474903474903475,\n",
              " 'f1': 0.838440014457076}"
            ]
          },
          "metadata": {},
          "execution_count": 34
        }
      ]
    },
    {
      "cell_type": "markdown",
      "source": [
        "### Model_5: AdaBoostClassifier"
      ],
      "metadata": {
        "id": "9klMPl2LX9rk"
      }
    },
    {
      "cell_type": "code",
      "source": [
        "from sklearn.ensemble import AdaBoostClassifier\n",
        "\n",
        "model_5 = Pipeline([\n",
        "    ('tfidf',TfidfVectorizer()),\n",
        "    ('clf', AdaBoostClassifier())\n",
        "])\n",
        "\n",
        "model_5.fit(X_train, y_train)\n",
        "\n",
        "y_pred_5 = model_5.predict(X_test)\n",
        "model_5_results = calculate_results(y_test, y_pred_5)\n",
        "model_5_results"
      ],
      "metadata": {
        "colab": {
          "base_uri": "https://localhost:8080/"
        },
        "id": "aVH6wUDIYuRR",
        "outputId": "e91aaead-0bac-46b1-cd73-dc7f34a41563"
      },
      "execution_count": null,
      "outputs": [
        {
          "output_type": "execute_result",
          "data": {
            "text/plain": [
              "{'accuracy': 79.34362934362935,\n",
              " 'precision': 0.7864588602293521,\n",
              " 'recall': 0.7934362934362934,\n",
              " 'f1': 0.7869590439027351}"
            ]
          },
          "metadata": {},
          "execution_count": 35
        }
      ]
    },
    {
      "cell_type": "markdown",
      "source": [
        "### Model_6: MLPClassifier"
      ],
      "metadata": {
        "id": "VO83l_nRYHDN"
      }
    },
    {
      "cell_type": "code",
      "source": [
        "from sklearn.neural_network import MLPClassifier\n",
        "\n",
        "model_6 = Pipeline([\n",
        "    ('tfidf',TfidfVectorizer()),\n",
        "    ('clf', MLPClassifier())\n",
        "])\n",
        "\n",
        "model_6.fit(X_train, y_train)\n",
        "\n",
        "y_pred_6 = model_6.predict(X_test)\n",
        "model_6_results = calculate_results(y_test, y_pred_6)\n",
        "model_6_results"
      ],
      "metadata": {
        "colab": {
          "base_uri": "https://localhost:8080/"
        },
        "id": "vNdUhn2XXjzl",
        "outputId": "b6cc1a16-a4c2-4f4c-e84e-94b0541f0bbc"
      },
      "execution_count": null,
      "outputs": [
        {
          "output_type": "execute_result",
          "data": {
            "text/plain": [
              "{'accuracy': 78.95752895752895,\n",
              " 'precision': 0.7882112928778918,\n",
              " 'recall': 0.7895752895752896,\n",
              " 'f1': 0.7872826657081645}"
            ]
          },
          "metadata": {},
          "execution_count": 36
        }
      ]
    },
    {
      "cell_type": "markdown",
      "source": [
        "### Results"
      ],
      "metadata": {
        "id": "cQnu_qyyZzIY"
      }
    },
    {
      "cell_type": "code",
      "source": [
        "sl = {\n",
        "    'MultinomialNB': model_0_results,\n",
        "    'KNN': model_1_results,\n",
        "    'SVC': model_2_results,\n",
        "    'DecisionTreeClassifier': model_3_results,\n",
        "    'RandomForestClassifier': model_4_results,\n",
        "    'AdaBoostClassifier': model_5_results,\n",
        "    'MLPClassifier': model_6_results,\n",
        "}\n",
        "\n",
        "sl_results = pd.DataFrame(sl)\n",
        "sl_results.head()"
      ],
      "metadata": {
        "colab": {
          "base_uri": "https://localhost:8080/",
          "height": 175
        },
        "id": "A_QK88sfZhdY",
        "outputId": "e41b778d-e495-4d58-c517-2ebc1c908573"
      },
      "execution_count": null,
      "outputs": [
        {
          "output_type": "execute_result",
          "data": {
            "text/plain": [
              "           MultinomialNB        KNN        SVC  DecisionTreeClassifier  \\\n",
              "accuracy       74.710425  73.552124  81.467181               78.957529   \n",
              "precision       0.763562   0.736274   0.815408                0.792802   \n",
              "recall          0.747104   0.735521   0.814672                0.789575   \n",
              "f1              0.696972   0.710888   0.799744                0.790878   \n",
              "\n",
              "           RandomForestClassifier  AdaBoostClassifier  MLPClassifier  \n",
              "accuracy                84.749035           79.343629      78.957529  \n",
              "precision                0.848927            0.786459       0.788211  \n",
              "recall                   0.847490            0.793436       0.789575  \n",
              "f1                       0.838440            0.786959       0.787283  "
            ],
            "text/html": [
              "\n",
              "  <div id=\"df-4d63169e-4312-4684-82d1-0295c54f3684\">\n",
              "    <div class=\"colab-df-container\">\n",
              "      <div>\n",
              "<style scoped>\n",
              "    .dataframe tbody tr th:only-of-type {\n",
              "        vertical-align: middle;\n",
              "    }\n",
              "\n",
              "    .dataframe tbody tr th {\n",
              "        vertical-align: top;\n",
              "    }\n",
              "\n",
              "    .dataframe thead th {\n",
              "        text-align: right;\n",
              "    }\n",
              "</style>\n",
              "<table border=\"1\" class=\"dataframe\">\n",
              "  <thead>\n",
              "    <tr style=\"text-align: right;\">\n",
              "      <th></th>\n",
              "      <th>MultinomialNB</th>\n",
              "      <th>KNN</th>\n",
              "      <th>SVC</th>\n",
              "      <th>DecisionTreeClassifier</th>\n",
              "      <th>RandomForestClassifier</th>\n",
              "      <th>AdaBoostClassifier</th>\n",
              "      <th>MLPClassifier</th>\n",
              "    </tr>\n",
              "  </thead>\n",
              "  <tbody>\n",
              "    <tr>\n",
              "      <th>accuracy</th>\n",
              "      <td>74.710425</td>\n",
              "      <td>73.552124</td>\n",
              "      <td>81.467181</td>\n",
              "      <td>78.957529</td>\n",
              "      <td>84.749035</td>\n",
              "      <td>79.343629</td>\n",
              "      <td>78.957529</td>\n",
              "    </tr>\n",
              "    <tr>\n",
              "      <th>precision</th>\n",
              "      <td>0.763562</td>\n",
              "      <td>0.736274</td>\n",
              "      <td>0.815408</td>\n",
              "      <td>0.792802</td>\n",
              "      <td>0.848927</td>\n",
              "      <td>0.786459</td>\n",
              "      <td>0.788211</td>\n",
              "    </tr>\n",
              "    <tr>\n",
              "      <th>recall</th>\n",
              "      <td>0.747104</td>\n",
              "      <td>0.735521</td>\n",
              "      <td>0.814672</td>\n",
              "      <td>0.789575</td>\n",
              "      <td>0.847490</td>\n",
              "      <td>0.793436</td>\n",
              "      <td>0.789575</td>\n",
              "    </tr>\n",
              "    <tr>\n",
              "      <th>f1</th>\n",
              "      <td>0.696972</td>\n",
              "      <td>0.710888</td>\n",
              "      <td>0.799744</td>\n",
              "      <td>0.790878</td>\n",
              "      <td>0.838440</td>\n",
              "      <td>0.786959</td>\n",
              "      <td>0.787283</td>\n",
              "    </tr>\n",
              "  </tbody>\n",
              "</table>\n",
              "</div>\n",
              "      <button class=\"colab-df-convert\" onclick=\"convertToInteractive('df-4d63169e-4312-4684-82d1-0295c54f3684')\"\n",
              "              title=\"Convert this dataframe to an interactive table.\"\n",
              "              style=\"display:none;\">\n",
              "        \n",
              "  <svg xmlns=\"http://www.w3.org/2000/svg\" height=\"24px\"viewBox=\"0 0 24 24\"\n",
              "       width=\"24px\">\n",
              "    <path d=\"M0 0h24v24H0V0z\" fill=\"none\"/>\n",
              "    <path d=\"M18.56 5.44l.94 2.06.94-2.06 2.06-.94-2.06-.94-.94-2.06-.94 2.06-2.06.94zm-11 1L8.5 8.5l.94-2.06 2.06-.94-2.06-.94L8.5 2.5l-.94 2.06-2.06.94zm10 10l.94 2.06.94-2.06 2.06-.94-2.06-.94-.94-2.06-.94 2.06-2.06.94z\"/><path d=\"M17.41 7.96l-1.37-1.37c-.4-.4-.92-.59-1.43-.59-.52 0-1.04.2-1.43.59L10.3 9.45l-7.72 7.72c-.78.78-.78 2.05 0 2.83L4 21.41c.39.39.9.59 1.41.59.51 0 1.02-.2 1.41-.59l7.78-7.78 2.81-2.81c.8-.78.8-2.07 0-2.86zM5.41 20L4 18.59l7.72-7.72 1.47 1.35L5.41 20z\"/>\n",
              "  </svg>\n",
              "      </button>\n",
              "      \n",
              "  <style>\n",
              "    .colab-df-container {\n",
              "      display:flex;\n",
              "      flex-wrap:wrap;\n",
              "      gap: 12px;\n",
              "    }\n",
              "\n",
              "    .colab-df-convert {\n",
              "      background-color: #E8F0FE;\n",
              "      border: none;\n",
              "      border-radius: 50%;\n",
              "      cursor: pointer;\n",
              "      display: none;\n",
              "      fill: #1967D2;\n",
              "      height: 32px;\n",
              "      padding: 0 0 0 0;\n",
              "      width: 32px;\n",
              "    }\n",
              "\n",
              "    .colab-df-convert:hover {\n",
              "      background-color: #E2EBFA;\n",
              "      box-shadow: 0px 1px 2px rgba(60, 64, 67, 0.3), 0px 1px 3px 1px rgba(60, 64, 67, 0.15);\n",
              "      fill: #174EA6;\n",
              "    }\n",
              "\n",
              "    [theme=dark] .colab-df-convert {\n",
              "      background-color: #3B4455;\n",
              "      fill: #D2E3FC;\n",
              "    }\n",
              "\n",
              "    [theme=dark] .colab-df-convert:hover {\n",
              "      background-color: #434B5C;\n",
              "      box-shadow: 0px 1px 3px 1px rgba(0, 0, 0, 0.15);\n",
              "      filter: drop-shadow(0px 1px 2px rgba(0, 0, 0, 0.3));\n",
              "      fill: #FFFFFF;\n",
              "    }\n",
              "  </style>\n",
              "\n",
              "      <script>\n",
              "        const buttonEl =\n",
              "          document.querySelector('#df-4d63169e-4312-4684-82d1-0295c54f3684 button.colab-df-convert');\n",
              "        buttonEl.style.display =\n",
              "          google.colab.kernel.accessAllowed ? 'block' : 'none';\n",
              "\n",
              "        async function convertToInteractive(key) {\n",
              "          const element = document.querySelector('#df-4d63169e-4312-4684-82d1-0295c54f3684');\n",
              "          const dataTable =\n",
              "            await google.colab.kernel.invokeFunction('convertToInteractive',\n",
              "                                                     [key], {});\n",
              "          if (!dataTable) return;\n",
              "\n",
              "          const docLinkHtml = 'Like what you see? Visit the ' +\n",
              "            '<a target=\"_blank\" href=https://colab.research.google.com/notebooks/data_table.ipynb>data table notebook</a>'\n",
              "            + ' to learn more about interactive tables.';\n",
              "          element.innerHTML = '';\n",
              "          dataTable['output_type'] = 'display_data';\n",
              "          await google.colab.output.renderOutput(dataTable, element);\n",
              "          const docLink = document.createElement('div');\n",
              "          docLink.innerHTML = docLinkHtml;\n",
              "          element.appendChild(docLink);\n",
              "        }\n",
              "      </script>\n",
              "    </div>\n",
              "  </div>\n",
              "  "
            ]
          },
          "metadata": {},
          "execution_count": 37
        }
      ]
    },
    {
      "cell_type": "markdown",
      "source": [
        "## CNN classifiers"
      ],
      "metadata": {
        "id": "Xmq5RdaDamyA"
      }
    },
    {
      "cell_type": "markdown",
      "source": [
        "### Model_7: Single Conv1D + MaxPool + single FC"
      ],
      "metadata": {
        "id": "LrbBTSEZa3mu"
      }
    },
    {
      "cell_type": "code",
      "source": [
        "inputs = tf.keras.layers.Input(shape=(1,), dtype=tf.string)\n",
        "\n",
        "text_vectors = text_vectorizer(inputs)\n",
        "token_embeddings = token_embed(text_vectors)\n",
        "\n",
        "x = tf.keras.layers.Conv1D(32, kernel_size=3, padding='same', activation='relu')(token_embeddings)\n",
        "x = tf.keras.layers.GlobalMaxPooling1D()(x)\n",
        "x = tf.keras.layers.Dense(16, activation='relu')(x)\n",
        "\n",
        "outputs = tf.keras.layers.Dense(3, activation='softmax')(x)\n",
        "\n",
        "model_7 = tf.keras.Model(inputs, outputs)\n",
        "\n",
        "model_7.compile(loss='sparse_categorical_crossentropy',\n",
        "                optimizer=tf.keras.optimizers.Adam(learning_rate=.0001),\n",
        "                metrics=['accuracy'])\n",
        "\n",
        "model_7_history = model_7.fit(train_dataset,\n",
        "                              epochs=5,\n",
        "                              validation_data=test_dataset)"
      ],
      "metadata": {
        "colab": {
          "base_uri": "https://localhost:8080/"
        },
        "id": "4lNFeZsGaa6C",
        "outputId": "2fe48923-781c-44ca-b872-dc75845a5b34"
      },
      "execution_count": null,
      "outputs": [
        {
          "output_type": "stream",
          "name": "stdout",
          "text": [
            "Epoch 1/5\n",
            "92/92 [==============================] - 2s 10ms/step - loss: 1.0399 - accuracy: 0.5182 - val_loss: 0.9356 - val_accuracy: 0.7722\n",
            "Epoch 2/5\n",
            "92/92 [==============================] - 1s 7ms/step - loss: 0.7735 - accuracy: 0.9404 - val_loss: 0.7720 - val_accuracy: 0.8147\n",
            "Epoch 3/5\n",
            "92/92 [==============================] - 1s 8ms/step - loss: 0.5953 - accuracy: 0.9278 - val_loss: 0.6617 - val_accuracy: 0.8205\n",
            "Epoch 4/5\n",
            "92/92 [==============================] - 1s 9ms/step - loss: 0.4601 - accuracy: 0.9267 - val_loss: 0.5862 - val_accuracy: 0.8224\n",
            "Epoch 5/5\n",
            "92/92 [==============================] - 1s 9ms/step - loss: 0.3592 - accuracy: 0.9383 - val_loss: 0.5386 - val_accuracy: 0.8243\n"
          ]
        }
      ]
    },
    {
      "cell_type": "code",
      "source": [
        "y_pred_7 = tf.argmax(model_7.predict(test_dataset),axis=1)\n",
        "model_7_results = calculate_results(y_test, y_pred_7)\n",
        "model_7_results"
      ],
      "metadata": {
        "colab": {
          "base_uri": "https://localhost:8080/"
        },
        "id": "hNTKQq0wdHBx",
        "outputId": "89869ab1-def3-414a-be0a-e7ffee06b858"
      },
      "execution_count": null,
      "outputs": [
        {
          "output_type": "stream",
          "name": "stdout",
          "text": [
            "17/17 [==============================] - 0s 2ms/step\n"
          ]
        },
        {
          "output_type": "execute_result",
          "data": {
            "text/plain": [
              "{'accuracy': 82.43243243243244,\n",
              " 'precision': 0.8224312001566343,\n",
              " 'recall': 0.8243243243243243,\n",
              " 'f1': 0.8146766205749018}"
            ]
          },
          "metadata": {},
          "execution_count": 104
        }
      ]
    },
    {
      "cell_type": "markdown",
      "source": [
        "### Model_8: Same as model_7 but no FC layer"
      ],
      "metadata": {
        "id": "8u-abJS2eK4B"
      }
    },
    {
      "cell_type": "code",
      "source": [
        "inputs = tf.keras.layers.Input(shape=(1,), dtype=tf.string)\n",
        "\n",
        "text_vectors = text_vectorizer(inputs)\n",
        "token_embeddings = token_embed(text_vectors)\n",
        "\n",
        "x = tf.keras.layers.Conv1D(32, kernel_size=3, padding='same', activation='relu')(token_embeddings)\n",
        "x = tf.keras.layers.GlobalMaxPooling1D()(x)\n",
        "\n",
        "outputs = tf.keras.layers.Dense(3, activation='softmax')(x)\n",
        "\n",
        "model_8 = tf.keras.Model(inputs, outputs)\n",
        "\n",
        "model_8.compile(loss='sparse_categorical_crossentropy',\n",
        "                optimizer='Adam',\n",
        "                metrics=['accuracy'])\n",
        "\n",
        "model_8_history = model_8.fit(train_dataset,\n",
        "                              epochs=5,\n",
        "                              validation_data=test_dataset)\n",
        "\n",
        "y_pred_8 = tf.argmax(model_8.predict(test_dataset),axis=1)\n",
        "model_8_results = calculate_results(y_test, y_pred_8)\n",
        "model_8_results"
      ],
      "metadata": {
        "colab": {
          "base_uri": "https://localhost:8080/"
        },
        "id": "7Ao4wwbxd05z",
        "outputId": "9dff8705-755c-4e4c-f73d-ca4db32b71bd"
      },
      "execution_count": null,
      "outputs": [
        {
          "output_type": "stream",
          "name": "stdout",
          "text": [
            "Epoch 1/5\n",
            "184/184 [==============================] - 4s 17ms/step - loss: 0.4736 - accuracy: 0.8239 - val_loss: 0.4378 - val_accuracy: 0.8456\n",
            "Epoch 2/5\n",
            "184/184 [==============================] - 4s 19ms/step - loss: 0.1395 - accuracy: 0.9598 - val_loss: 0.4769 - val_accuracy: 0.8552\n",
            "Epoch 3/5\n",
            "184/184 [==============================] - 3s 18ms/step - loss: 0.0567 - accuracy: 0.9877 - val_loss: 0.5385 - val_accuracy: 0.8494\n",
            "Epoch 4/5\n",
            "184/184 [==============================] - 3s 15ms/step - loss: 0.0276 - accuracy: 0.9949 - val_loss: 0.5942 - val_accuracy: 0.8456\n",
            "Epoch 5/5\n",
            "184/184 [==============================] - 3s 18ms/step - loss: 0.0170 - accuracy: 0.9980 - val_loss: 0.6382 - val_accuracy: 0.8417\n",
            "33/33 [==============================] - 0s 4ms/step\n"
          ]
        },
        {
          "output_type": "execute_result",
          "data": {
            "text/plain": [
              "{'accuracy': 84.16988416988417,\n",
              " 'precision': 0.8416884511464031,\n",
              " 'recall': 0.8416988416988417,\n",
              " 'f1': 0.8393313610839459}"
            ]
          },
          "metadata": {},
          "execution_count": 45
        }
      ]
    },
    {
      "cell_type": "markdown",
      "source": [
        "### Model_9: Same as model_7 but average pooling"
      ],
      "metadata": {
        "id": "NRe6M98-ga3m"
      }
    },
    {
      "cell_type": "code",
      "source": [
        "inputs = tf.keras.layers.Input(shape=(1,), dtype=tf.string)\n",
        "\n",
        "text_vectors = text_vectorizer(inputs)\n",
        "token_embeddings = token_embed(text_vectors)\n",
        "\n",
        "x = tf.keras.layers.Conv1D(32, kernel_size=3, padding='same', activation='relu')(token_embeddings)\n",
        "x = tf.keras.layers.GlobalAveragePooling1D()(x)\n",
        "x = tf.keras.layers.Dense(16, activation='relu')(x)\n",
        "\n",
        "outputs = tf.keras.layers.Dense(3, activation='softmax')(x)\n",
        "\n",
        "model_9 = tf.keras.Model(inputs, outputs)\n",
        "\n",
        "model_9.compile(loss='sparse_categorical_crossentropy',\n",
        "                optimizer=tf.keras.optimizers.Adam(learning_rate=.0001),\n",
        "                metrics=['accuracy'])\n",
        "\n",
        "model_9_history = model_9.fit(train_dataset,\n",
        "                              epochs=5,\n",
        "                              validation_data=test_dataset)\n",
        "\n",
        "y_pred_9 = tf.argmax(model_9.predict(test_dataset),axis=1)\n",
        "model_9_results = calculate_results(y_test, y_pred_9)\n",
        "model_9_results"
      ],
      "metadata": {
        "colab": {
          "base_uri": "https://localhost:8080/"
        },
        "id": "NrjOcdededae",
        "outputId": "937fc945-b9cc-47e7-e723-99c2cedec1cd"
      },
      "execution_count": null,
      "outputs": [
        {
          "output_type": "stream",
          "name": "stdout",
          "text": [
            "Epoch 1/5\n",
            "92/92 [==============================] - 3s 14ms/step - loss: 1.0202 - accuracy: 0.5738 - val_loss: 0.9697 - val_accuracy: 0.6178\n",
            "Epoch 2/5\n",
            "92/92 [==============================] - 1s 9ms/step - loss: 0.8892 - accuracy: 0.6228 - val_loss: 0.8842 - val_accuracy: 0.6178\n",
            "Epoch 3/5\n",
            "92/92 [==============================] - 1s 10ms/step - loss: 0.7827 - accuracy: 0.6399 - val_loss: 0.8075 - val_accuracy: 0.6332\n",
            "Epoch 4/5\n",
            "92/92 [==============================] - 1s 7ms/step - loss: 0.6883 - accuracy: 0.6756 - val_loss: 0.7431 - val_accuracy: 0.6795\n",
            "Epoch 5/5\n",
            "92/92 [==============================] - 1s 8ms/step - loss: 0.5961 - accuracy: 0.7349 - val_loss: 0.6748 - val_accuracy: 0.7162\n",
            "17/17 [==============================] - 0s 3ms/step\n"
          ]
        },
        {
          "output_type": "execute_result",
          "data": {
            "text/plain": [
              "{'accuracy': 71.62162162162163,\n",
              " 'precision': 0.7502757859900717,\n",
              " 'recall': 0.7162162162162162,\n",
              " 'f1': 0.6533603028930132}"
            ]
          },
          "metadata": {},
          "execution_count": 105
        }
      ]
    },
    {
      "cell_type": "markdown",
      "source": [
        "### Model_10: Same as model_7 but two conv1d layers"
      ],
      "metadata": {
        "id": "UMWMN24dg8iZ"
      }
    },
    {
      "cell_type": "code",
      "source": [
        "inputs = tf.keras.layers.Input(shape=(1,), dtype=tf.string)\n",
        "\n",
        "text_vectors = text_vectorizer(inputs)\n",
        "token_embeddings = token_embed(text_vectors)\n",
        "\n",
        "x = tf.keras.layers.Conv1D(32, kernel_size=3, padding='same', activation='relu')(token_embeddings)\n",
        "x = tf.keras.layers.Conv1D(32, kernel_size=3, padding='same', activation='relu')(x)\n",
        "x = tf.keras.layers.GlobalMaxPooling1D()(x)\n",
        "x = tf.keras.layers.Dense(16, activation='relu')(x)\n",
        "\n",
        "outputs = tf.keras.layers.Dense(3, activation='softmax')(x)\n",
        "\n",
        "model_10 = tf.keras.Model(inputs, outputs)\n",
        "\n",
        "model_10.compile(loss='sparse_categorical_crossentropy',\n",
        "                optimizer=tf.keras.optimizers.Adam(learning_rate=.0001),\n",
        "                metrics=['accuracy'])\n",
        "\n",
        "model_10_history = model_10.fit(train_dataset,\n",
        "                              epochs=5,\n",
        "                              validation_data=test_dataset)\n",
        "\n",
        "y_pred_10 = tf.argmax(model_10.predict(test_dataset),axis=1)\n",
        "model_10_results = calculate_results(y_test, y_pred_10)\n",
        "model_10_results"
      ],
      "metadata": {
        "colab": {
          "base_uri": "https://localhost:8080/"
        },
        "id": "aGNvRgqGg1r1",
        "outputId": "df834883-fdc7-4c21-8a85-d8d42b6df475"
      },
      "execution_count": null,
      "outputs": [
        {
          "output_type": "stream",
          "name": "stdout",
          "text": [
            "Epoch 1/5\n",
            "92/92 [==============================] - 4s 29ms/step - loss: 0.7968 - accuracy: 0.6269 - val_loss: 0.7509 - val_accuracy: 0.6409\n",
            "Epoch 2/5\n",
            "92/92 [==============================] - 1s 11ms/step - loss: 0.5802 - accuracy: 0.6988 - val_loss: 0.6347 - val_accuracy: 0.7413\n",
            "Epoch 3/5\n",
            "92/92 [==============================] - 1s 9ms/step - loss: 0.4035 - accuracy: 0.8848 - val_loss: 0.5588 - val_accuracy: 0.8108\n",
            "Epoch 4/5\n",
            "92/92 [==============================] - 1s 9ms/step - loss: 0.2797 - accuracy: 0.9683 - val_loss: 0.5094 - val_accuracy: 0.8205\n",
            "Epoch 5/5\n",
            "92/92 [==============================] - 1s 11ms/step - loss: 0.1910 - accuracy: 0.9877 - val_loss: 0.4873 - val_accuracy: 0.8147\n",
            "17/17 [==============================] - 0s 3ms/step\n"
          ]
        },
        {
          "output_type": "execute_result",
          "data": {
            "text/plain": [
              "{'accuracy': 81.46718146718148,\n",
              " 'precision': 0.8093082399534012,\n",
              " 'recall': 0.8146718146718147,\n",
              " 'f1': 0.810589859341338}"
            ]
          },
          "metadata": {},
          "execution_count": 106
        }
      ]
    },
    {
      "cell_type": "markdown",
      "source": [
        "### Model_11: Same as model_7 but introducing dropout layer after embeddings"
      ],
      "metadata": {
        "id": "RqK46qaohkPw"
      }
    },
    {
      "cell_type": "code",
      "source": [
        "inputs = tf.keras.layers.Input(shape=(1,), dtype=tf.string)\n",
        "\n",
        "text_vectors = text_vectorizer(inputs)\n",
        "token_embeddings = token_embed(text_vectors)\n",
        "\n",
        "x = tf.keras.layers.Dropout(.2)(token_embeddings)\n",
        "x = tf.keras.layers.Conv1D(32, kernel_size=3, padding='same', activation='relu')(x)\n",
        "x = tf.keras.layers.GlobalMaxPooling1D()(x)\n",
        "x = tf.keras.layers.Dense(16, activation='relu')(x)\n",
        "\n",
        "outputs = tf.keras.layers.Dense(3, activation='softmax')(x)\n",
        "\n",
        "model_11 = tf.keras.Model(inputs, outputs)\n",
        "\n",
        "model_11.compile(loss='sparse_categorical_crossentropy',\n",
        "                optimizer=tf.keras.optimizers.Adam(learning_rate=.0001),\n",
        "                metrics=['accuracy'])\n",
        "\n",
        "model_11_history = model_11.fit(train_dataset,\n",
        "                              epochs=10,\n",
        "                              validation_data=test_dataset)\n",
        "\n",
        "y_pred_11 = tf.argmax(model_11.predict(test_dataset),axis=1)\n",
        "model_11_results = calculate_results(y_test, y_pred_11)\n",
        "model_11_results"
      ],
      "metadata": {
        "colab": {
          "base_uri": "https://localhost:8080/"
        },
        "id": "dM8PWH2PhSba",
        "outputId": "48115b6d-bf1f-4c19-b7a2-37e7ccb6d110"
      },
      "execution_count": null,
      "outputs": [
        {
          "output_type": "stream",
          "name": "stdout",
          "text": [
            "Epoch 1/10\n",
            "92/92 [==============================] - 3s 10ms/step - loss: 0.8592 - accuracy: 0.6671 - val_loss: 0.8099 - val_accuracy: 0.7394\n",
            "Epoch 2/10\n",
            "92/92 [==============================] - 1s 8ms/step - loss: 0.6827 - accuracy: 0.7400 - val_loss: 0.6883 - val_accuracy: 0.7838\n",
            "Epoch 3/10\n",
            "92/92 [==============================] - 1s 10ms/step - loss: 0.5451 - accuracy: 0.8239 - val_loss: 0.6026 - val_accuracy: 0.8127\n",
            "Epoch 4/10\n",
            "92/92 [==============================] - 1s 10ms/step - loss: 0.4324 - accuracy: 0.8835 - val_loss: 0.5397 - val_accuracy: 0.8108\n",
            "Epoch 5/10\n",
            "92/92 [==============================] - 1s 10ms/step - loss: 0.3396 - accuracy: 0.9267 - val_loss: 0.4983 - val_accuracy: 0.8224\n",
            "Epoch 6/10\n",
            "92/92 [==============================] - 1s 9ms/step - loss: 0.2646 - accuracy: 0.9567 - val_loss: 0.4721 - val_accuracy: 0.8340\n",
            "Epoch 7/10\n",
            "92/92 [==============================] - 1s 10ms/step - loss: 0.2071 - accuracy: 0.9744 - val_loss: 0.4562 - val_accuracy: 0.8282\n",
            "Epoch 8/10\n",
            "92/92 [==============================] - 1s 8ms/step - loss: 0.1658 - accuracy: 0.9816 - val_loss: 0.4492 - val_accuracy: 0.8282\n",
            "Epoch 9/10\n",
            "92/92 [==============================] - 1s 8ms/step - loss: 0.1328 - accuracy: 0.9901 - val_loss: 0.4487 - val_accuracy: 0.8301\n",
            "Epoch 10/10\n",
            "92/92 [==============================] - 1s 8ms/step - loss: 0.1151 - accuracy: 0.9881 - val_loss: 0.4527 - val_accuracy: 0.8282\n",
            "17/17 [==============================] - 0s 2ms/step\n"
          ]
        },
        {
          "output_type": "execute_result",
          "data": {
            "text/plain": [
              "{'accuracy': 82.81853281853282,\n",
              " 'precision': 0.8287273669744679,\n",
              " 'recall': 0.8281853281853282,\n",
              " 'f1': 0.8279034498845851}"
            ]
          },
          "metadata": {},
          "execution_count": 108
        }
      ]
    },
    {
      "cell_type": "markdown",
      "source": [
        "### Model_12: same as model_11 but increasing filters"
      ],
      "metadata": {
        "id": "yMFMt8WkiMD5"
      }
    },
    {
      "cell_type": "code",
      "source": [
        "inputs = tf.keras.layers.Input(shape=(1,), dtype=tf.string)\n",
        "\n",
        "text_vectors = text_vectorizer(inputs)\n",
        "token_embeddings = token_embed(text_vectors)\n",
        "\n",
        "x = tf.keras.layers.Dropout(.2)(token_embeddings)\n",
        "x = tf.keras.layers.Conv1D(64, kernel_size=3, padding='same', activation='relu')(x)\n",
        "x = tf.keras.layers.GlobalMaxPooling1D()(x)\n",
        "x = tf.keras.layers.Dense(16, activation='relu')(x)\n",
        "\n",
        "outputs = tf.keras.layers.Dense(3, activation='softmax')(x)\n",
        "\n",
        "model_12 = tf.keras.Model(inputs, outputs)\n",
        "\n",
        "model_12.compile(loss='sparse_categorical_crossentropy',\n",
        "                optimizer=tf.keras.optimizers.Adam(learning_rate=.0001),\n",
        "                metrics=['accuracy'])\n",
        "\n",
        "model_12_history = model_12.fit(train_dataset,\n",
        "                              epochs=10,\n",
        "                              validation_data=test_dataset)\n",
        "\n",
        "y_pred_12 = tf.argmax(model_12.predict(test_dataset),axis=1)\n",
        "model_12_results = calculate_results(y_test, y_pred_12)\n",
        "model_12_results"
      ],
      "metadata": {
        "colab": {
          "base_uri": "https://localhost:8080/"
        },
        "id": "BpWQeLibh48d",
        "outputId": "ec73dc6f-a26e-49a5-9264-87f0a50414d8"
      },
      "execution_count": null,
      "outputs": [
        {
          "output_type": "stream",
          "name": "stdout",
          "text": [
            "Epoch 1/10\n",
            "92/92 [==============================] - 3s 17ms/step - loss: 0.8666 - accuracy: 0.5986 - val_loss: 0.7565 - val_accuracy: 0.6950\n",
            "Epoch 2/10\n",
            "92/92 [==============================] - 1s 9ms/step - loss: 0.5652 - accuracy: 0.7755 - val_loss: 0.5990 - val_accuracy: 0.7722\n",
            "Epoch 3/10\n",
            "92/92 [==============================] - 1s 9ms/step - loss: 0.4094 - accuracy: 0.8600 - val_loss: 0.5272 - val_accuracy: 0.7915\n",
            "Epoch 4/10\n",
            "92/92 [==============================] - 1s 10ms/step - loss: 0.3100 - accuracy: 0.9019 - val_loss: 0.4896 - val_accuracy: 0.8185\n",
            "Epoch 5/10\n",
            "92/92 [==============================] - 1s 11ms/step - loss: 0.2466 - accuracy: 0.9319 - val_loss: 0.4713 - val_accuracy: 0.8282\n",
            "Epoch 6/10\n",
            "92/92 [==============================] - 1s 11ms/step - loss: 0.2011 - accuracy: 0.9557 - val_loss: 0.4624 - val_accuracy: 0.8282\n",
            "Epoch 7/10\n",
            "92/92 [==============================] - 1s 11ms/step - loss: 0.1672 - accuracy: 0.9700 - val_loss: 0.4582 - val_accuracy: 0.8398\n",
            "Epoch 8/10\n",
            "92/92 [==============================] - 1s 11ms/step - loss: 0.1394 - accuracy: 0.9826 - val_loss: 0.4591 - val_accuracy: 0.8417\n",
            "Epoch 9/10\n",
            "92/92 [==============================] - 1s 10ms/step - loss: 0.1187 - accuracy: 0.9891 - val_loss: 0.4616 - val_accuracy: 0.8378\n",
            "Epoch 10/10\n",
            "92/92 [==============================] - 1s 8ms/step - loss: 0.1002 - accuracy: 0.9898 - val_loss: 0.4669 - val_accuracy: 0.8417\n",
            "17/17 [==============================] - 0s 3ms/step\n"
          ]
        },
        {
          "output_type": "execute_result",
          "data": {
            "text/plain": [
              "{'accuracy': 84.16988416988417,\n",
              " 'precision': 0.84054770224983,\n",
              " 'recall': 0.8416988416988417,\n",
              " 'f1': 0.8410248893597083}"
            ]
          },
          "metadata": {},
          "execution_count": 109
        }
      ]
    },
    {
      "cell_type": "markdown",
      "source": [
        "### Model_13: as same model_12 but increasing kernel_size"
      ],
      "metadata": {
        "id": "r5it_Ak5ih8D"
      }
    },
    {
      "cell_type": "code",
      "source": [
        "inputs = tf.keras.layers.Input(shape=(1,), dtype=tf.string)\n",
        "\n",
        "text_vectors = text_vectorizer(inputs)\n",
        "token_embeddings = token_embed(text_vectors)\n",
        "\n",
        "x = tf.keras.layers.Dropout(.2)(token_embeddings)\n",
        "x = tf.keras.layers.Conv1D(64, kernel_size=5, padding='same', activation='relu')(x)\n",
        "x = tf.keras.layers.GlobalMaxPooling1D()(x)\n",
        "x = tf.keras.layers.Dense(16, activation='relu')(x)\n",
        "\n",
        "outputs = tf.keras.layers.Dense(3, activation='softmax')(x)\n",
        "\n",
        "model_13 = tf.keras.Model(inputs, outputs)\n",
        "\n",
        "model_13.compile(loss='sparse_categorical_crossentropy',\n",
        "                optimizer=tf.keras.optimizers.Adam(learning_rate=.0001),\n",
        "                metrics=['accuracy'])\n",
        "\n",
        "model_13_history = model_13.fit(train_dataset,\n",
        "                              epochs=5,\n",
        "                              validation_data=test_dataset)\n",
        "\n",
        "y_pred_13 = tf.argmax(model_13.predict(test_dataset),axis=1)\n",
        "model_13_results = calculate_results(y_test, y_pred_13)\n",
        "model_13_results"
      ],
      "metadata": {
        "colab": {
          "base_uri": "https://localhost:8080/"
        },
        "id": "oHlNXZc5iZ32",
        "outputId": "e345fdfa-0acc-47b7-e710-b95c33321a09"
      },
      "execution_count": null,
      "outputs": [
        {
          "output_type": "stream",
          "name": "stdout",
          "text": [
            "Epoch 1/5\n",
            "92/92 [==============================] - 3s 14ms/step - loss: 0.7323 - accuracy: 0.6375 - val_loss: 0.6726 - val_accuracy: 0.7239\n",
            "Epoch 2/5\n",
            "92/92 [==============================] - 1s 10ms/step - loss: 0.4191 - accuracy: 0.8797 - val_loss: 0.5277 - val_accuracy: 0.8224\n",
            "Epoch 3/5\n",
            "92/92 [==============================] - 1s 10ms/step - loss: 0.2497 - accuracy: 0.9816 - val_loss: 0.4705 - val_accuracy: 0.8243\n",
            "Epoch 4/5\n",
            "92/92 [==============================] - 1s 9ms/step - loss: 0.1627 - accuracy: 0.9949 - val_loss: 0.4502 - val_accuracy: 0.8243\n",
            "Epoch 5/5\n",
            "92/92 [==============================] - 1s 9ms/step - loss: 0.1176 - accuracy: 0.9956 - val_loss: 0.4466 - val_accuracy: 0.8224\n",
            "17/17 [==============================] - 0s 3ms/step\n"
          ]
        },
        {
          "output_type": "execute_result",
          "data": {
            "text/plain": [
              "{'accuracy': 82.23938223938224,\n",
              " 'precision': 0.8211506289261098,\n",
              " 'recall': 0.8223938223938224,\n",
              " 'f1': 0.8207928640863887}"
            ]
          },
          "metadata": {},
          "execution_count": 110
        }
      ]
    },
    {
      "cell_type": "markdown",
      "source": [
        "### Model_14"
      ],
      "metadata": {
        "id": "VgLMS5xRi_id"
      }
    },
    {
      "cell_type": "code",
      "source": [
        "inputs = tf.keras.layers.Input(shape=(1,), dtype=tf.string)\n",
        "\n",
        "text_vectors = text_vectorizer(inputs)\n",
        "token_embeddings = token_embed(text_vectors)\n",
        "\n",
        "x = tf.keras.layers.Conv1D(64, kernel_size=5, padding=\"same\", activation=\"relu\")(token_embeddings)\n",
        "x = tf.keras.layers.GlobalAveragePooling1D()(x)\n",
        "\n",
        "outputs = tf.keras.layers.Dense(3, activation=\"softmax\")(x)\n",
        "\n",
        "model_14 = tf.keras.Model(inputs, outputs)\n",
        "\n",
        "model_14.compile(loss='sparse_categorical_crossentropy',\n",
        "                optimizer=tf.keras.optimizers.Adam(learning_rate=.0001),\n",
        "                metrics=['accuracy'])\n",
        "\n",
        "model_14_history = model_14.fit(train_dataset,\n",
        "                              epochs=5,\n",
        "                              validation_data=test_dataset)\n",
        "\n",
        "y_pred_14 = tf.argmax(model_14.predict(test_dataset),axis=1)\n",
        "model_14_results = calculate_results(y_test, y_pred_14)\n",
        "model_14_results"
      ],
      "metadata": {
        "colab": {
          "base_uri": "https://localhost:8080/"
        },
        "id": "ob-VjShHiwLY",
        "outputId": "34d0a2b8-fb5e-4843-ac26-1c07c603260a"
      },
      "execution_count": null,
      "outputs": [
        {
          "output_type": "stream",
          "name": "stdout",
          "text": [
            "Epoch 1/5\n",
            "92/92 [==============================] - 2s 12ms/step - loss: 0.8888 - accuracy: 0.6985 - val_loss: 0.7939 - val_accuracy: 0.6950\n",
            "Epoch 2/5\n",
            "92/92 [==============================] - 1s 9ms/step - loss: 0.7019 - accuracy: 0.7220 - val_loss: 0.7005 - val_accuracy: 0.7162\n",
            "Epoch 3/5\n",
            "92/92 [==============================] - 1s 9ms/step - loss: 0.5877 - accuracy: 0.7748 - val_loss: 0.6353 - val_accuracy: 0.7490\n",
            "Epoch 4/5\n",
            "92/92 [==============================] - 1s 7ms/step - loss: 0.4927 - accuracy: 0.8235 - val_loss: 0.5868 - val_accuracy: 0.7780\n",
            "Epoch 5/5\n",
            "92/92 [==============================] - 1s 10ms/step - loss: 0.4159 - accuracy: 0.8508 - val_loss: 0.5510 - val_accuracy: 0.7876\n",
            "17/17 [==============================] - 0s 3ms/step\n"
          ]
        },
        {
          "output_type": "execute_result",
          "data": {
            "text/plain": [
              "{'accuracy': 78.76447876447877,\n",
              " 'precision': 0.8032507613851719,\n",
              " 'recall': 0.7876447876447876,\n",
              " 'f1': 0.7470583401140108}"
            ]
          },
          "metadata": {},
          "execution_count": 111
        }
      ]
    },
    {
      "cell_type": "markdown",
      "source": [
        "### Model_15"
      ],
      "metadata": {
        "id": "lC3_y1zzkZT9"
      }
    },
    {
      "cell_type": "code",
      "source": [
        "inputs = tf.keras.layers.Input(shape=(1,), dtype=tf.string)\n",
        "\n",
        "text_vectors = text_vectorizer(inputs)\n",
        "token_embeddings = token_embed(text_vectors)\n",
        "\n",
        "x = tf.keras.layers.Conv1D(256, kernel_size=3, activation=\"relu\")(token_embeddings)\n",
        "x = tf.keras.layers.Conv1D(256, kernel_size=3, activation=\"relu\")(x)\n",
        "x = tf.keras.layers.MaxPooling1D(2)(x)\n",
        "\n",
        "x = tf.keras.layers.Conv1D(256, kernel_size=3, activation=\"relu\")(x)\n",
        "x = tf.keras.layers.Conv1D(256, kernel_size=3, activation=\"relu\")(x)\n",
        "x = tf.keras.layers.MaxPooling1D(3)(x)\n",
        "x = tf.keras.layers.GlobalAveragePooling1D()(x)\n",
        "\n",
        "x = tf.keras.layers.Dense(256, activation='relu')(x)\n",
        "\n",
        "outputs = tf.keras.layers.Dense(3, activation='softmax')(x)\n",
        "\n",
        "model_15 = tf.keras.Model(inputs, outputs)\n",
        "\n",
        "model_15.compile(loss='sparse_categorical_crossentropy',\n",
        "                optimizer=tf.keras.optimizers.Adam(learning_rate=.0001),\n",
        "                metrics=['accuracy'])\n",
        "\n",
        "model_15_history = model_15.fit(train_dataset,\n",
        "                              epochs=5,\n",
        "                              validation_data=test_dataset)\n",
        "\n",
        "y_pred_15 = tf.argmax(model_15.predict(test_dataset),axis=1)\n",
        "model_15_results = calculate_results(y_test, y_pred_15)\n",
        "model_15_results"
      ],
      "metadata": {
        "colab": {
          "base_uri": "https://localhost:8080/"
        },
        "id": "-G7VwXhVjW3Y",
        "outputId": "7bc266e6-68a6-4a96-9a88-4468c409f056"
      },
      "execution_count": null,
      "outputs": [
        {
          "output_type": "stream",
          "name": "stdout",
          "text": [
            "Epoch 1/5\n",
            "92/92 [==============================] - 10s 100ms/step - loss: 0.5163 - accuracy: 0.7819 - val_loss: 0.6075 - val_accuracy: 0.8127\n",
            "Epoch 2/5\n",
            "92/92 [==============================] - 9s 96ms/step - loss: 0.0816 - accuracy: 0.9779 - val_loss: 0.7971 - val_accuracy: 0.8205\n",
            "Epoch 3/5\n",
            "92/92 [==============================] - 9s 96ms/step - loss: 0.0465 - accuracy: 0.9850 - val_loss: 0.9208 - val_accuracy: 0.8166\n",
            "Epoch 4/5\n",
            "92/92 [==============================] - 9s 96ms/step - loss: 0.0291 - accuracy: 0.9918 - val_loss: 1.0096 - val_accuracy: 0.8166\n",
            "Epoch 5/5\n",
            "92/92 [==============================] - 9s 96ms/step - loss: 0.0224 - accuracy: 0.9915 - val_loss: 1.0967 - val_accuracy: 0.8108\n",
            "17/17 [==============================] - 0s 14ms/step\n"
          ]
        },
        {
          "output_type": "execute_result",
          "data": {
            "text/plain": [
              "{'accuracy': 81.08108108108108,\n",
              " 'precision': 0.8223991597071376,\n",
              " 'recall': 0.8108108108108109,\n",
              " 'f1': 0.8099496894657339}"
            ]
          },
          "metadata": {},
          "execution_count": 112
        }
      ]
    },
    {
      "cell_type": "markdown",
      "source": [
        "### Model_16: Conv1D and LSTM mix"
      ],
      "metadata": {
        "id": "mdWMY6xGm127"
      }
    },
    {
      "cell_type": "code",
      "source": [
        "inputs = tf.keras.layers.Input(shape=(1,), dtype=tf.string)\n",
        "\n",
        "text_vectors = text_vectorizer(inputs)\n",
        "token_embeddings = token_embed(text_vectors)\n",
        "\n",
        "x = tf.keras.layers.Conv1D(32, kernel_size=3, padding='same', activation=\"relu\")(token_embeddings)\n",
        "x = tf.keras.layers.MaxPooling1D(2)(x)\n",
        "x = tf.keras.layers.Bidirectional(tf.keras.layers.LSTM(32))(x)\n",
        "x = tf.keras.layers.Dropout(.4)(x)\n",
        "\n",
        "outputs = tf.keras.layers.Dense(3, activation='softmax')(x)\n",
        "\n",
        "model_16 = tf.keras.Model(inputs, outputs)\n",
        "\n",
        "model_16.compile(loss='sparse_categorical_crossentropy',\n",
        "                optimizer=tf.keras.optimizers.Adam(learning_rate=.0001),\n",
        "                metrics=['accuracy'])\n",
        "\n",
        "model_16_history = model_16.fit(train_dataset,\n",
        "                              epochs=5,\n",
        "                              validation_data=test_dataset)\n",
        "\n",
        "y_pred_16 = tf.argmax(model_16.predict(test_dataset),axis=1)\n",
        "model_16_results = calculate_results(y_test, y_pred_16)\n",
        "model_16_results"
      ],
      "metadata": {
        "colab": {
          "base_uri": "https://localhost:8080/"
        },
        "id": "lp0Duv7ZlbXV",
        "outputId": "cd7f7903-ab4c-4a42-96ea-fb87297dc636"
      },
      "execution_count": null,
      "outputs": [
        {
          "output_type": "stream",
          "name": "stdout",
          "text": [
            "Epoch 1/5\n",
            "92/92 [==============================] - 11s 31ms/step - loss: 0.9114 - accuracy: 0.6467 - val_loss: 0.7940 - val_accuracy: 0.6506\n",
            "Epoch 2/5\n",
            "92/92 [==============================] - 2s 18ms/step - loss: 0.6275 - accuracy: 0.7560 - val_loss: 0.6089 - val_accuracy: 0.7722\n",
            "Epoch 3/5\n",
            "92/92 [==============================] - 2s 18ms/step - loss: 0.3816 - accuracy: 0.8688 - val_loss: 0.5013 - val_accuracy: 0.8224\n",
            "Epoch 4/5\n",
            "92/92 [==============================] - 2s 21ms/step - loss: 0.2222 - accuracy: 0.9458 - val_loss: 0.4846 - val_accuracy: 0.8398\n",
            "Epoch 5/5\n",
            "92/92 [==============================] - 2s 18ms/step - loss: 0.1339 - accuracy: 0.9785 - val_loss: 0.4885 - val_accuracy: 0.8436\n",
            "17/17 [==============================] - 1s 6ms/step\n"
          ]
        },
        {
          "output_type": "execute_result",
          "data": {
            "text/plain": [
              "{'accuracy': 84.36293436293437,\n",
              " 'precision': 0.8453262749092805,\n",
              " 'recall': 0.8436293436293436,\n",
              " 'f1': 0.8421507979773895}"
            ]
          },
          "metadata": {},
          "execution_count": 113
        }
      ]
    },
    {
      "cell_type": "markdown",
      "source": [
        "### Model_17: same as model 16 but SGD instead of adam"
      ],
      "metadata": {
        "id": "cebWTHbPn8Fx"
      }
    },
    {
      "cell_type": "code",
      "source": [
        "inputs = tf.keras.layers.Input(shape=(1,), dtype=tf.string)\n",
        "\n",
        "text_vectors = text_vectorizer(inputs)\n",
        "token_embeddings = token_embed(text_vectors)\n",
        "\n",
        "x = tf.keras.layers.Conv1D(32, kernel_size=3, padding='same', activation=\"relu\")(token_embeddings)\n",
        "x = tf.keras.layers.MaxPooling1D(2)(x)\n",
        "x = tf.keras.layers.Bidirectional(tf.keras.layers.LSTM(32))(x)\n",
        "x = tf.keras.layers.Dropout(.4)(x)\n",
        "\n",
        "outputs = tf.keras.layers.Dense(3, activation='softmax')(x)\n",
        "\n",
        "model_17 = tf.keras.Model(inputs, outputs)\n",
        "\n",
        "epochs=5\n",
        "lr = 0.001\n",
        "decay_rate = lr / epochs\n",
        "\n",
        "model_17.compile(loss='sparse_categorical_crossentropy',\n",
        "                optimizer=tf.keras.optimizers.SGD(learning_rate=lr),\n",
        "                metrics=['accuracy'])\n",
        "\n",
        "model_17_history = model_17.fit(train_dataset,\n",
        "                              epochs=epochs,\n",
        "                              validation_data=test_dataset)\n",
        "\n",
        "y_pred_17 = tf.argmax(model_17.predict(test_dataset),axis=1)\n",
        "model_17_results = calculate_results(y_test, y_pred_17)\n",
        "model_17_results"
      ],
      "metadata": {
        "colab": {
          "base_uri": "https://localhost:8080/"
        },
        "id": "9jy4LneRnhHI",
        "outputId": "65beb7b6-cbdc-47b3-bf37-76b3f91457e9"
      },
      "execution_count": null,
      "outputs": [
        {
          "output_type": "stream",
          "name": "stdout",
          "text": [
            "Epoch 1/5\n",
            "92/92 [==============================] - 7s 30ms/step - loss: 1.1201 - accuracy: 0.2767 - val_loss: 1.0570 - val_accuracy: 0.3282\n",
            "Epoch 2/5\n",
            "92/92 [==============================] - 2s 16ms/step - loss: 1.0351 - accuracy: 0.4893 - val_loss: 0.9906 - val_accuracy: 0.6293\n",
            "Epoch 3/5\n",
            "92/92 [==============================] - 2s 18ms/step - loss: 0.9774 - accuracy: 0.6160 - val_loss: 0.9447 - val_accuracy: 0.6197\n",
            "Epoch 4/5\n",
            "92/92 [==============================] - 1s 16ms/step - loss: 0.9361 - accuracy: 0.6290 - val_loss: 0.9124 - val_accuracy: 0.6178\n",
            "Epoch 5/5\n",
            "92/92 [==============================] - 1s 16ms/step - loss: 0.9065 - accuracy: 0.6249 - val_loss: 0.8889 - val_accuracy: 0.6178\n",
            "17/17 [==============================] - 1s 6ms/step\n"
          ]
        },
        {
          "output_type": "stream",
          "name": "stderr",
          "text": [
            "/usr/local/lib/python3.7/dist-packages/sklearn/metrics/_classification.py:1318: UndefinedMetricWarning: Precision and F-score are ill-defined and being set to 0.0 in labels with no predicted samples. Use `zero_division` parameter to control this behavior.\n",
            "  _warn_prf(average, modifier, msg_start, len(result))\n"
          ]
        },
        {
          "output_type": "execute_result",
          "data": {
            "text/plain": [
              "{'accuracy': 61.77606177606177,\n",
              " 'precision': 0.3816281808559801,\n",
              " 'recall': 0.6177606177606177,\n",
              " 'f1': 0.4717980851632403}"
            ]
          },
          "metadata": {},
          "execution_count": 114
        }
      ]
    },
    {
      "cell_type": "markdown",
      "source": [
        "### Model_24: Word2vec + CNN"
      ],
      "metadata": {
        "id": "NviA6kwCQKPY"
      }
    },
    {
      "cell_type": "code",
      "source": [
        "sen = []\n",
        "for sentence in X_train.to_list():\n",
        "  sen.append(sentence.split())\n",
        "\n",
        "sen[0]"
      ],
      "metadata": {
        "colab": {
          "base_uri": "https://localhost:8080/"
        },
        "id": "rk-9F71NQhpY",
        "outputId": "9f8ae212-3d77-448c-fd41-27952e7954da"
      },
      "execution_count": null,
      "outputs": [
        {
          "output_type": "execute_result",
          "data": {
            "text/plain": [
              "['cooper', 'doubl', 'switch', 'convert', 'capac']"
            ]
          },
          "metadata": {},
          "execution_count": 35
        }
      ]
    },
    {
      "cell_type": "code",
      "source": [
        "from gensim.models.word2vec import Word2Vec\n",
        "word2vec_model = Word2Vec(sen, size=500, window=3, min_count=1, workers=9)\n",
        "print(word2vec_model)"
      ],
      "metadata": {
        "id": "TihuehWbQPDQ",
        "colab": {
          "base_uri": "https://localhost:8080/"
        },
        "outputId": "b43c5672-4711-4db8-9c80-49e28cf78267"
      },
      "execution_count": null,
      "outputs": [
        {
          "output_type": "stream",
          "name": "stderr",
          "text": [
            "WARNING:gensim.models.base_any2vec:under 10 jobs per worker: consider setting a smaller `batch_words' for smoother alpha decay\n"
          ]
        },
        {
          "output_type": "stream",
          "name": "stdout",
          "text": [
            "Word2Vec(vocab=5636, size=500, alpha=0.025)\n"
          ]
        }
      ]
    },
    {
      "cell_type": "code",
      "source": [
        "from tensorflow.keras.preprocessing.text import Tokenizer\n",
        "from tensorflow.keras.preprocessing.sequence import pad_sequences\n",
        "\n",
        "token = Tokenizer(5636)\n",
        "token.fit_on_texts(X)\n",
        "text = token.texts_to_sequences(X)\n",
        "\n",
        "text = pad_sequences(text, 50)\n",
        "\n",
        "x_tr, x_te, y_tr, y_t = train_test_split(np.array(text), y, test_size=0.2)"
      ],
      "metadata": {
        "id": "Kwkg6LhnRMAM"
      },
      "execution_count": null,
      "outputs": []
    },
    {
      "cell_type": "code",
      "source": [
        "model_24 = tf.keras.Sequential([\n",
        "    word2vec_model.wv.get_keras_embedding(True),\n",
        "    tf.keras.layers.Dropout(.2),\n",
        "    tf.keras.layers.Conv1D(50,3,activation='relu', padding='same'),\n",
        "    tf.keras.layers.Conv1D(50,3, activation='relu', padding='same'),\n",
        "    tf.keras.layers.MaxPool1D(),\n",
        "    tf.keras.layers.Conv1D(100,3,activation='relu', padding='same'),\n",
        "    tf.keras.layers.Conv1D(100,3, activation='relu', padding='same'),\n",
        "    tf.keras.layers.MaxPool1D(),\n",
        "    tf.keras.layers.Dropout(.2),\n",
        "    tf.keras.layers.Conv1D(200,3,activation='relu', padding='same'),\n",
        "    tf.keras.layers.Conv1D(200,3, activation='relu', padding='same'),\n",
        "    tf.keras.layers.GlobalAveragePooling1D(),\n",
        "    tf.keras.layers.Dropout(.2),\n",
        "    tf.keras.layers.Dense(200, activation='relu'),\n",
        "    tf.keras.layers.Dropout(.2),\n",
        "    tf.keras.layers.Dense(3, activation='softmax'),\n",
        "])\n"
      ],
      "metadata": {
        "id": "Pbiacvk6SKtD"
      },
      "execution_count": null,
      "outputs": []
    },
    {
      "cell_type": "code",
      "source": [
        "model_24.compile(loss='sparse_categorical_crossentropy',\n",
        "                optimizer=tf.keras.optimizers.Adam(),\n",
        "                metrics=['accuracy'])\n",
        "\n",
        "model_24_history = model_24.fit(x_tr, y_tr,\n",
        "                              epochs=3,\n",
        "                              batch_size=16,\n",
        "                              validation_data=(x_te, y_t))"
      ],
      "metadata": {
        "id": "9HNX7UBLU845"
      },
      "execution_count": null,
      "outputs": []
    },
    {
      "cell_type": "code",
      "source": [
        "y_pred_24 = tf.argmax(model_24.predict(x_te),axis=1)"
      ],
      "metadata": {
        "colab": {
          "base_uri": "https://localhost:8080/"
        },
        "id": "EK-ZLaQzXoSR",
        "outputId": "c809d8ed-a758-4627-b793-0eb1b6f51701"
      },
      "execution_count": null,
      "outputs": [
        {
          "output_type": "stream",
          "name": "stdout",
          "text": [
            "22/22 [==============================] - 1s 30ms/step\n"
          ]
        }
      ]
    },
    {
      "cell_type": "code",
      "source": [
        "model_24_results = calculate_results(y_t, y_pred_24)\n",
        "model_24_results"
      ],
      "metadata": {
        "colab": {
          "base_uri": "https://localhost:8080/"
        },
        "id": "HGwSYArXYEqn",
        "outputId": "235c1fa3-751a-4c09-906c-46c1173f77b7"
      },
      "execution_count": null,
      "outputs": [
        {
          "output_type": "execute_result",
          "data": {
            "text/plain": [
              "{'accuracy': 77.85817655571635,\n",
              " 'precision': 0.7596855230491524,\n",
              " 'recall': 0.7785817655571635,\n",
              " 'f1': 0.7559141201031575}"
            ]
          },
          "metadata": {},
          "execution_count": 74
        }
      ]
    },
    {
      "cell_type": "markdown",
      "source": [
        "### Model 31: Best DNN model_16 with regularizations"
      ],
      "metadata": {
        "id": "tigQg2fWlNTb"
      }
    },
    {
      "cell_type": "markdown",
      "source": [
        "#### Regularization on Conv1D Layer [UPDATE: No improvements with l1, l2, l1_2]"
      ],
      "metadata": {
        "id": "3Xg_LmeQlaSh"
      }
    },
    {
      "cell_type": "code",
      "source": [
        "inputs = tf.keras.layers.Input(shape=(1,), dtype=tf.string)\n",
        "\n",
        "text_vectors = text_vectorizer(inputs)\n",
        "token_embeddings = token_embed(text_vectors)\n",
        "\n",
        "x = tf.keras.layers.Conv1D(32, kernel_size=3,\n",
        "                           padding='same', activation=\"relu\",\n",
        "                           kernel_regularizer='l1_l2')(token_embeddings)\n",
        "x = tf.keras.layers.MaxPooling1D(2)(x)\n",
        "x = tf.keras.layers.Bidirectional(tf.keras.layers.LSTM(32))(x)\n",
        "x = tf.keras.layers.Dropout(.4)(x)\n",
        "\n",
        "outputs = tf.keras.layers.Dense(3, activation='softmax')(x)\n",
        "\n",
        "model_31 = tf.keras.Model(inputs, outputs)\n",
        "\n",
        "model_31.compile(loss='sparse_categorical_crossentropy',\n",
        "                optimizer=tf.keras.optimizers.Adam(learning_rate=.0001),\n",
        "                metrics=['accuracy'])\n",
        "\n",
        "model_31_history = model_31.fit(train_dataset,\n",
        "                              epochs=20,\n",
        "                              validation_data=test_dataset,\n",
        "                              verbose=0)\n",
        "\n",
        "y_pred_31 = tf.argmax(model_31.predict(test_dataset),axis=1)\n",
        "model_31_results = calculate_results(y_test, y_pred_31)\n",
        "model_31_results"
      ],
      "metadata": {
        "colab": {
          "base_uri": "https://localhost:8080/"
        },
        "id": "xChtEIpNlQZo",
        "outputId": "19aec772-1a07-406d-b923-7e642aa9d3ea"
      },
      "execution_count": null,
      "outputs": [
        {
          "output_type": "stream",
          "name": "stdout",
          "text": [
            "17/17 [==============================] - 1s 5ms/step\n"
          ]
        },
        {
          "output_type": "execute_result",
          "data": {
            "text/plain": [
              "{'accuracy': 77.99227799227799,\n",
              " 'precision': 0.7773966617133992,\n",
              " 'recall': 0.7799227799227799,\n",
              " 'f1': 0.7773988612782847}"
            ]
          },
          "metadata": {},
          "execution_count": 89
        }
      ]
    },
    {
      "cell_type": "markdown",
      "source": [
        "#### Regularization on LSTM [UPDATE: No improvements with l1, l2, l1_2]"
      ],
      "metadata": {
        "id": "d0d6ng9gmo-w"
      }
    },
    {
      "cell_type": "code",
      "source": [
        "inputs = tf.keras.layers.Input(shape=(1,), dtype=tf.string)\n",
        "\n",
        "text_vectors = text_vectorizer(inputs)\n",
        "token_embeddings = token_embed(text_vectors)\n",
        "\n",
        "x = tf.keras.layers.Conv1D(32, kernel_size=3,\n",
        "                           padding='same', activation=\"relu\")(token_embeddings)\n",
        "x = tf.keras.layers.MaxPooling1D(2)(x)\n",
        "x = tf.keras.layers.Bidirectional(tf.keras.layers.LSTM(32,\n",
        "                           kernel_regularizer='l2'))(x)\n",
        "x = tf.keras.layers.Dropout(.4)(x)\n",
        "\n",
        "outputs = tf.keras.layers.Dense(3, activation='softmax')(x)\n",
        "\n",
        "model_32 = tf.keras.Model(inputs, outputs)\n",
        "\n",
        "model_32.compile(loss='sparse_categorical_crossentropy',\n",
        "                optimizer=tf.keras.optimizers.Adam(learning_rate=.0001),\n",
        "                metrics=['accuracy'])\n",
        "\n",
        "model_32_history = model_32.fit(train_dataset,\n",
        "                              epochs=20,\n",
        "                              validation_data=test_dataset,\n",
        "                              verbose=0)\n",
        "\n",
        "y_pred_32 = tf.argmax(model_32.predict(test_dataset),axis=1)\n",
        "model_32_results = calculate_results(y_test, y_pred_32)\n",
        "model_32_results"
      ],
      "metadata": {
        "colab": {
          "base_uri": "https://localhost:8080/"
        },
        "id": "OfEdWvYzmtOg",
        "outputId": "0d178794-fdad-48c1-c12b-0fde6488b60a"
      },
      "execution_count": null,
      "outputs": [
        {
          "output_type": "stream",
          "name": "stdout",
          "text": [
            "17/17 [==============================] - 1s 6ms/step\n"
          ]
        },
        {
          "output_type": "execute_result",
          "data": {
            "text/plain": [
              "{'accuracy': 75.0965250965251,\n",
              " 'precision': 0.7585622493541057,\n",
              " 'recall': 0.750965250965251,\n",
              " 'f1': 0.7532232375137855}"
            ]
          },
          "metadata": {},
          "execution_count": 92
        }
      ]
    },
    {
      "cell_type": "markdown",
      "source": [
        "### Best DNN model_16 modifications\n",
        "\n",
        "- Additional layers -> performence worse\n",
        "- LSTM inner dropouts -> worse"
      ],
      "metadata": {
        "id": "_q0vnjHene3c"
      }
    },
    {
      "cell_type": "code",
      "source": [
        "\n",
        "\n",
        "inputs = tf.keras.layers.Input(shape=(1,), dtype=tf.string)\n",
        "\n",
        "text_vectors = text_vectorizer(inputs)\n",
        "token_embeddings = token_embed(text_vectors)\n",
        "\n",
        "x = tf.keras.layers.Conv1D(128, kernel_size=3, padding='same', activation=\"tanh\")(token_embeddings)\n",
        "x = tf.keras.layers.Conv1D(64, kernel_size=3, padding='same', activation=\"tanh\")(x)\n",
        "x = tf.keras.layers.MaxPooling1D(2)(x)\n",
        "x = tf.keras.layers.Bidirectional(tf.keras.layers.LSTM(64, return_sequences=True))(x)\n",
        "x = tf.keras.layers.Bidirectional(tf.keras.layers.LSTM(32))(x)\n",
        "x = tf.keras.layers.Dropout(.4)(x)\n",
        "\n",
        "outputs = tf.keras.layers.Dense(3, activation='softmax')(x)\n",
        "\n",
        "model_33 = tf.keras.Model(inputs, outputs)\n",
        "\n",
        "model_33.compile(loss='sparse_categorical_crossentropy',\n",
        "                optimizer=tf.keras.optimizers.Adam(learning_rate=.0006),\n",
        "                metrics=['accuracy'])\n",
        "\n",
        "model_33_history = model_33.fit(train_dataset,\n",
        "                              epochs=5,\n",
        "                              validation_data=test_dataset)\n",
        "\n",
        "y_pred_33 = tf.argmax(model_33.predict(test_dataset),axis=1)\n",
        "model_33_results = calculate_results(y_test, y_pred_33)\n",
        "model_33_results"
      ],
      "metadata": {
        "colab": {
          "base_uri": "https://localhost:8080/"
        },
        "id": "JbcIDb4Sni2o",
        "outputId": "1d9dfdfb-d594-4bf8-de41-4726df7d6a36"
      },
      "execution_count": null,
      "outputs": [
        {
          "output_type": "stream",
          "name": "stdout",
          "text": [
            "Epoch 1/5\n",
            "92/92 [==============================] - 19s 69ms/step - loss: 0.2217 - accuracy: 0.9118 - val_loss: 1.0351 - val_accuracy: 0.7838\n",
            "Epoch 2/5\n",
            "92/92 [==============================] - 4s 46ms/step - loss: 0.0183 - accuracy: 0.9952 - val_loss: 1.2075 - val_accuracy: 0.7819\n",
            "Epoch 3/5\n",
            "92/92 [==============================] - 5s 60ms/step - loss: 0.0182 - accuracy: 0.9952 - val_loss: 1.1535 - val_accuracy: 0.7915\n",
            "Epoch 4/5\n",
            "92/92 [==============================] - 4s 46ms/step - loss: 0.0212 - accuracy: 0.9945 - val_loss: 1.1903 - val_accuracy: 0.7838\n",
            "Epoch 5/5\n",
            "92/92 [==============================] - 4s 45ms/step - loss: 0.0195 - accuracy: 0.9945 - val_loss: 1.2880 - val_accuracy: 0.7819\n",
            "17/17 [==============================] - 2s 13ms/step\n"
          ]
        },
        {
          "output_type": "execute_result",
          "data": {
            "text/plain": [
              "{'accuracy': 78.18532818532819,\n",
              " 'precision': 0.7845939455370947,\n",
              " 'recall': 0.7818532818532818,\n",
              " 'f1': 0.7829368235118372}"
            ]
          },
          "metadata": {},
          "execution_count": 112
        }
      ]
    },
    {
      "cell_type": "markdown",
      "source": [
        "## Pretrained encoder"
      ],
      "metadata": {
        "id": "uTTln6M5yUd_"
      }
    },
    {
      "cell_type": "code",
      "source": [
        "import tensorflow_hub as hub\n",
        "tf_hub_embedding_layer = hub.KerasLayer(\"https://tfhub.dev/google/universal-sentence-encoder/4\",\n",
        "                                        trainable=False,\n",
        "                                        name=\"universal_sentence_encoder\")"
      ],
      "metadata": {
        "id": "TCNCKwLSqkZO"
      },
      "execution_count": null,
      "outputs": []
    },
    {
      "cell_type": "code",
      "source": [
        "inputs = tf.keras.layers.Input(shape=[], dtype=tf.string)\n",
        "pretrained_embedding = tf_hub_embedding_layer(inputs)\n",
        "x = tf.keras.layers.Dense(128, activation=\"relu\")(pretrained_embedding)\n",
        "outputs = tf.keras.layers.Dense(3, activation=\"softmax\")(x)\n",
        "model_18 = tf.keras.Model(inputs=inputs,\n",
        "                        outputs=outputs)\n",
        "\n",
        "# Compile the model\n",
        "model_18.compile(loss=\"sparse_categorical_crossentropy\",\n",
        "                optimizer=tf.keras.optimizers.Adam(learning_rate=.0001),\n",
        "                metrics=[\"accuracy\"])\n",
        "\n",
        "model_18_history = model_18.fit(train_dataset,\n",
        "                              epochs=20,\n",
        "                              validation_data=test_dataset)\n",
        "\n",
        "y_pred_18 = tf.argmax(model_18.predict(test_dataset),axis=1)\n",
        "model_18_results = calculate_results(y_test, y_pred_18)\n",
        "model_18_results"
      ],
      "metadata": {
        "colab": {
          "base_uri": "https://localhost:8080/"
        },
        "id": "w5m-QvfjycIO",
        "outputId": "1aa61162-6d66-4bb1-fa31-5e27542bae94"
      },
      "execution_count": null,
      "outputs": [
        {
          "output_type": "stream",
          "name": "stdout",
          "text": [
            "Epoch 1/20\n",
            "92/92 [==============================] - 4s 24ms/step - loss: 1.0535 - accuracy: 0.5826 - val_loss: 1.0098 - val_accuracy: 0.6197\n",
            "Epoch 2/20\n",
            "92/92 [==============================] - 2s 18ms/step - loss: 0.9708 - accuracy: 0.6228 - val_loss: 0.9315 - val_accuracy: 0.6216\n",
            "Epoch 3/20\n",
            "92/92 [==============================] - 1s 15ms/step - loss: 0.9033 - accuracy: 0.6303 - val_loss: 0.8733 - val_accuracy: 0.6293\n",
            "Epoch 4/20\n",
            "92/92 [==============================] - 2s 17ms/step - loss: 0.8547 - accuracy: 0.6446 - val_loss: 0.8301 - val_accuracy: 0.6390\n",
            "Epoch 5/20\n",
            "92/92 [==============================] - 2s 18ms/step - loss: 0.8175 - accuracy: 0.6627 - val_loss: 0.7940 - val_accuracy: 0.6699\n",
            "Epoch 6/20\n",
            "92/92 [==============================] - 1s 15ms/step - loss: 0.7864 - accuracy: 0.6821 - val_loss: 0.7628 - val_accuracy: 0.6931\n",
            "Epoch 7/20\n",
            "92/92 [==============================] - 2s 18ms/step - loss: 0.7594 - accuracy: 0.6913 - val_loss: 0.7365 - val_accuracy: 0.7027\n",
            "Epoch 8/20\n",
            "92/92 [==============================] - 2s 17ms/step - loss: 0.7357 - accuracy: 0.7049 - val_loss: 0.7141 - val_accuracy: 0.7201\n",
            "Epoch 9/20\n",
            "92/92 [==============================] - 2s 19ms/step - loss: 0.7148 - accuracy: 0.7083 - val_loss: 0.6951 - val_accuracy: 0.7201\n",
            "Epoch 10/20\n",
            "92/92 [==============================] - 2s 17ms/step - loss: 0.6963 - accuracy: 0.7169 - val_loss: 0.6789 - val_accuracy: 0.7336\n",
            "Epoch 11/20\n",
            "92/92 [==============================] - 1s 16ms/step - loss: 0.6797 - accuracy: 0.7257 - val_loss: 0.6651 - val_accuracy: 0.7432\n",
            "Epoch 12/20\n",
            "92/92 [==============================] - 2s 17ms/step - loss: 0.6648 - accuracy: 0.7370 - val_loss: 0.6531 - val_accuracy: 0.7471\n",
            "Epoch 13/20\n",
            "92/92 [==============================] - 1s 15ms/step - loss: 0.6514 - accuracy: 0.7404 - val_loss: 0.6429 - val_accuracy: 0.7490\n",
            "Epoch 14/20\n",
            "92/92 [==============================] - 1s 15ms/step - loss: 0.6393 - accuracy: 0.7468 - val_loss: 0.6341 - val_accuracy: 0.7568\n",
            "Epoch 15/20\n",
            "92/92 [==============================] - 1s 15ms/step - loss: 0.6283 - accuracy: 0.7509 - val_loss: 0.6264 - val_accuracy: 0.7568\n",
            "Epoch 16/20\n",
            "92/92 [==============================] - 1s 16ms/step - loss: 0.6183 - accuracy: 0.7581 - val_loss: 0.6197 - val_accuracy: 0.7625\n",
            "Epoch 17/20\n",
            "92/92 [==============================] - 2s 16ms/step - loss: 0.6091 - accuracy: 0.7629 - val_loss: 0.6138 - val_accuracy: 0.7625\n",
            "Epoch 18/20\n",
            "92/92 [==============================] - 1s 15ms/step - loss: 0.6006 - accuracy: 0.7673 - val_loss: 0.6085 - val_accuracy: 0.7587\n",
            "Epoch 19/20\n",
            "92/92 [==============================] - 2s 17ms/step - loss: 0.5927 - accuracy: 0.7687 - val_loss: 0.6039 - val_accuracy: 0.7529\n",
            "Epoch 20/20\n",
            "92/92 [==============================] - 2s 18ms/step - loss: 0.5854 - accuracy: 0.7700 - val_loss: 0.5998 - val_accuracy: 0.7625\n",
            "17/17 [==============================] - 1s 13ms/step\n"
          ]
        },
        {
          "output_type": "execute_result",
          "data": {
            "text/plain": [
              "{'accuracy': 76.25482625482626,\n",
              " 'precision': 0.7425477034523303,\n",
              " 'recall': 0.7625482625482626,\n",
              " 'f1': 0.7444059542467647}"
            ]
          },
          "metadata": {},
          "execution_count": 118
        }
      ]
    },
    {
      "cell_type": "markdown",
      "source": [
        "### Char encodings"
      ],
      "metadata": {
        "id": "2Dk0U1lj0RO5"
      }
    },
    {
      "cell_type": "code",
      "source": [
        "def split_chars(text):\n",
        "  return \" \".join(list(text))"
      ],
      "metadata": {
        "id": "72DcfJ_uzkY2"
      },
      "execution_count": null,
      "outputs": []
    },
    {
      "cell_type": "code",
      "source": [
        "train_chars = [split_chars(sentence) for sentence in X_train.to_list()]\n",
        "test_chars = [split_chars(sentence) for sentence in X_test.to_list()]\n",
        "\n",
        "train_chars[0]"
      ],
      "metadata": {
        "colab": {
          "base_uri": "https://localhost:8080/",
          "height": 35
        },
        "id": "p3w_XPUxyvxv",
        "outputId": "52a32080-7489-438e-f6c7-c8cc7b9a8d0c"
      },
      "execution_count": null,
      "outputs": [
        {
          "output_type": "execute_result",
          "data": {
            "text/plain": [
              "'c o o p e r   d o u b l   s w i t c h   c o n v e r t   c a p a c'"
            ],
            "application/vnd.google.colaboratory.intrinsic+json": {
              "type": "string"
            }
          },
          "metadata": {},
          "execution_count": 121
        }
      ]
    },
    {
      "cell_type": "code",
      "source": [
        "char_lens = [len(sentence) for sentence in X_train.to_list()]\n",
        "output_sequence_char_len = int(np.percentile(char_lens, 95))\n",
        "output_sequence_char_len"
      ],
      "metadata": {
        "colab": {
          "base_uri": "https://localhost:8080/"
        },
        "id": "4Bgsge6zzfkF",
        "outputId": "8ba1a10b-92fb-4013-f359-559739c98031"
      },
      "execution_count": null,
      "outputs": [
        {
          "output_type": "execute_result",
          "data": {
            "text/plain": [
              "158"
            ]
          },
          "metadata": {},
          "execution_count": 124
        }
      ]
    },
    {
      "cell_type": "code",
      "source": [
        "import string\n",
        "alphabet = string.ascii_lowercase + string.digits + string.punctuation\n",
        "\n",
        "NUM_CHARS = len(alphabet)\n",
        "char_vectorizer = TextVectorization(max_tokens=NUM_CHARS,  \n",
        "                                    output_sequence_length=output_sequence_char_len,\n",
        "                                    standardize=\"lower_and_strip_punctuation\",\n",
        "                                    name=\"char_vectorizer\")\n",
        "\n",
        "char_vectorizer.adapt(train_chars)\n",
        "\n",
        "char_embed = tf.keras.layers.Embedding(input_dim=NUM_CHARS,\n",
        "                              output_dim=25,\n",
        "                              mask_zero=False,\n",
        "                              name=\"char_embed\")"
      ],
      "metadata": {
        "id": "dfE0QoQZz0_O"
      },
      "execution_count": null,
      "outputs": []
    },
    {
      "cell_type": "code",
      "source": [
        "train_char_dataset = tf.data.Dataset.from_tensor_slices((train_chars, y_train)).batch(32).prefetch(tf.data.AUTOTUNE)\n",
        "test_char_dataset = tf.data.Dataset.from_tensor_slices((test_chars, y_test)).batch(32).prefetch(tf.data.AUTOTUNE)"
      ],
      "metadata": {
        "id": "PA9pFbvZ1GZd"
      },
      "execution_count": null,
      "outputs": []
    },
    {
      "cell_type": "code",
      "source": [
        "X_train.shape[0]/32"
      ],
      "metadata": {
        "colab": {
          "base_uri": "https://localhost:8080/"
        },
        "id": "lmOh0TrI2DXb",
        "outputId": "b18d4094-3cb5-4de6-aacc-dd2c8bb161f6"
      },
      "execution_count": null,
      "outputs": [
        {
          "output_type": "execute_result",
          "data": {
            "text/plain": [
              "91.71875"
            ]
          },
          "metadata": {},
          "execution_count": 132
        }
      ]
    },
    {
      "cell_type": "code",
      "source": [
        "inputs = tf.keras.layers.Input(shape=(1,), dtype=\"string\")\n",
        "\n",
        "char_vectors = char_vectorizer(inputs)\n",
        "char_embeddings = char_embed(char_vectors)\n",
        "\n",
        "x = tf.keras.layers.Conv1D(32, kernel_size=3, padding='same', activation='relu')(char_embeddings)\n",
        "x = tf.keras.layers.GlobalMaxPooling1D()(x)\n",
        "x = tf.keras.layers.Dense(16, activation='relu')(x)\n",
        "\n",
        "outputs = tf.keras.layers.Dense(3, activation='softmax')(x)\n",
        "\n",
        "model_19 = tf.keras.Model(inputs, outputs)\n",
        "\n",
        "model_19.compile(loss='sparse_categorical_crossentropy',\n",
        "                optimizer=tf.keras.optimizers.Adam(),\n",
        "                metrics=['accuracy'])\n",
        "\n",
        "model_19_history = model_19.fit(train_char_dataset,\n",
        "                              epochs=10,\n",
        "                              validation_data=test_char_dataset)\n",
        "\n",
        "y_pred_19 = tf.argmax(model_19.predict(test_dataset),axis=1)\n",
        "model_19_results = calculate_results(y_test, y_pred_19)\n",
        "model_19_results"
      ],
      "metadata": {
        "colab": {
          "base_uri": "https://localhost:8080/"
        },
        "id": "ennTmo6z0vZw",
        "outputId": "17a78ee1-90ec-4f67-abd3-3d2af913c8ec"
      },
      "execution_count": null,
      "outputs": [
        {
          "output_type": "stream",
          "name": "stdout",
          "text": [
            "Epoch 1/10\n",
            "92/92 [==============================] - 2s 14ms/step - loss: 0.9188 - accuracy: 0.6221 - val_loss: 0.8727 - val_accuracy: 0.6178\n",
            "Epoch 2/10\n",
            "92/92 [==============================] - 1s 11ms/step - loss: 0.8591 - accuracy: 0.6242 - val_loss: 0.8134 - val_accuracy: 0.6313\n",
            "Epoch 3/10\n",
            "92/92 [==============================] - 1s 12ms/step - loss: 0.8026 - accuracy: 0.6521 - val_loss: 0.7687 - val_accuracy: 0.6660\n",
            "Epoch 4/10\n",
            "92/92 [==============================] - 1s 14ms/step - loss: 0.7678 - accuracy: 0.6756 - val_loss: 0.7464 - val_accuracy: 0.6911\n",
            "Epoch 5/10\n",
            "92/92 [==============================] - 1s 13ms/step - loss: 0.7431 - accuracy: 0.6879 - val_loss: 0.7325 - val_accuracy: 0.6834\n",
            "Epoch 6/10\n",
            "92/92 [==============================] - 1s 13ms/step - loss: 0.7224 - accuracy: 0.7002 - val_loss: 0.7232 - val_accuracy: 0.6911\n",
            "Epoch 7/10\n",
            "92/92 [==============================] - 1s 13ms/step - loss: 0.7032 - accuracy: 0.7083 - val_loss: 0.7128 - val_accuracy: 0.6988\n",
            "Epoch 8/10\n",
            "92/92 [==============================] - 1s 14ms/step - loss: 0.6837 - accuracy: 0.7186 - val_loss: 0.7026 - val_accuracy: 0.6988\n",
            "Epoch 9/10\n",
            "92/92 [==============================] - 1s 11ms/step - loss: 0.6652 - accuracy: 0.7274 - val_loss: 0.6894 - val_accuracy: 0.7046\n",
            "Epoch 10/10\n",
            "92/92 [==============================] - 1s 14ms/step - loss: 0.6473 - accuracy: 0.7363 - val_loss: 0.6798 - val_accuracy: 0.7027\n",
            "17/17 [==============================] - 0s 5ms/step\n"
          ]
        },
        {
          "output_type": "stream",
          "name": "stderr",
          "text": [
            "/usr/local/lib/python3.7/dist-packages/sklearn/metrics/_classification.py:1318: UndefinedMetricWarning: Precision and F-score are ill-defined and being set to 0.0 in labels with no predicted samples. Use `zero_division` parameter to control this behavior.\n",
            "  _warn_prf(average, modifier, msg_start, len(result))\n"
          ]
        },
        {
          "output_type": "execute_result",
          "data": {
            "text/plain": [
              "{'accuracy': 61.77606177606177,\n",
              " 'precision': 0.3816281808559801,\n",
              " 'recall': 0.6177606177606177,\n",
              " 'f1': 0.4717980851632403}"
            ]
          },
          "metadata": {},
          "execution_count": 133
        }
      ]
    },
    {
      "cell_type": "markdown",
      "source": [
        "## LSTM models"
      ],
      "metadata": {
        "id": "DhzNvEiF3R00"
      }
    },
    {
      "cell_type": "markdown",
      "source": [
        "### Model_20"
      ],
      "metadata": {
        "id": "dTuAuhvW4EAP"
      }
    },
    {
      "cell_type": "code",
      "source": [
        "inputs = tf.keras.layers.Input(shape=(1,), dtype=tf.string)\n",
        "\n",
        "text_vectors = text_vectorizer(inputs)\n",
        "token_embeddings = token_embed(text_vectors)\n",
        "\n",
        "x = tf.keras.layers.SpatialDropout1D(.4)(token_embeddings)\n",
        "x = tf.keras.layers.LSTM(196, dropout=.2, recurrent_dropout=.2)(x)\n",
        "\n",
        "outputs = tf.keras.layers.Dense(3, activation='softmax')(x)\n",
        "\n",
        "model_20 = tf.keras.Model(inputs, outputs)\n",
        "\n",
        "model_20.compile(loss='sparse_categorical_crossentropy',\n",
        "                optimizer=tf.keras.optimizers.Adam(),\n",
        "                metrics=['accuracy'])\n",
        "\n",
        "model_20_history = model_20.fit(train_dataset,\n",
        "                              epochs=5,\n",
        "                              validation_data=test_dataset)\n",
        "\n",
        "y_pred_20 = tf.argmax(model_20.predict(test_dataset),axis=1)\n",
        "model_20_results = calculate_results(y_test, y_pred_20)\n",
        "model_20_results"
      ],
      "metadata": {
        "colab": {
          "base_uri": "https://localhost:8080/"
        },
        "id": "TXyW0Fqc1cjz",
        "outputId": "3d2d8a2e-21c1-4669-ed75-3a3064b90003"
      },
      "execution_count": null,
      "outputs": [
        {
          "output_type": "stream",
          "name": "stdout",
          "text": [
            "Epoch 1/5\n",
            "92/92 [==============================] - 20s 163ms/step - loss: 0.1807 - accuracy: 0.9496 - val_loss: 0.7129 - val_accuracy: 0.8069\n",
            "Epoch 2/5\n",
            "92/92 [==============================] - 15s 159ms/step - loss: 0.0584 - accuracy: 0.9860 - val_loss: 0.8741 - val_accuracy: 0.7915\n",
            "Epoch 3/5\n",
            "92/92 [==============================] - 14s 156ms/step - loss: 0.0479 - accuracy: 0.9860 - val_loss: 0.7722 - val_accuracy: 0.8069\n",
            "Epoch 4/5\n",
            "92/92 [==============================] - 14s 152ms/step - loss: 0.0459 - accuracy: 0.9884 - val_loss: 0.8204 - val_accuracy: 0.8069\n",
            "Epoch 5/5\n",
            "92/92 [==============================] - 15s 163ms/step - loss: 0.0305 - accuracy: 0.9908 - val_loss: 0.8592 - val_accuracy: 0.8069\n",
            "17/17 [==============================] - 1s 22ms/step\n"
          ]
        },
        {
          "output_type": "execute_result",
          "data": {
            "text/plain": [
              "{'accuracy': 80.6949806949807,\n",
              " 'precision': 0.8147152519837226,\n",
              " 'recall': 0.806949806949807,\n",
              " 'f1': 0.8082447058566576}"
            ]
          },
          "metadata": {},
          "execution_count": 134
        }
      ]
    },
    {
      "cell_type": "markdown",
      "source": [
        "### Model_21"
      ],
      "metadata": {
        "id": "Yt2VAMtj5MyB"
      }
    },
    {
      "cell_type": "code",
      "source": [
        "inputs = tf.keras.layers.Input(shape=(1,), dtype=tf.string)\n",
        "\n",
        "text_vectors = text_vectorizer(inputs)\n",
        "token_embeddings = token_embed(text_vectors)\n",
        "\n",
        "x = tf.keras.layers.Bidirectional(tf.keras.layers.LSTM(168))(token_embeddings)\n",
        "x = tf.keras.layers.Dense(10, activation='relu')(x)\n",
        "\n",
        "outputs = tf.keras.layers.Dense(3, activation='softmax')(x)\n",
        "\n",
        "model_21 = tf.keras.Model(inputs, outputs)\n",
        "\n",
        "model_21.compile(loss='sparse_categorical_crossentropy',\n",
        "                optimizer=tf.keras.optimizers.Adam(),\n",
        "                metrics=['accuracy'])\n",
        "\n",
        "model_21_history = model_21.fit(train_dataset,\n",
        "                              epochs=5,\n",
        "                              validation_data=test_dataset)\n",
        "\n",
        "y_pred_21 = tf.argmax(model_21.predict(test_dataset),axis=1)\n",
        "model_21_results = calculate_results(y_test, y_pred_21)\n",
        "model_21_results"
      ],
      "metadata": {
        "colab": {
          "base_uri": "https://localhost:8080/"
        },
        "id": "EK5OEhaU4mT1",
        "outputId": "57b123c9-8191-42ea-b766-8b76535643c1"
      },
      "execution_count": null,
      "outputs": [
        {
          "output_type": "stream",
          "name": "stdout",
          "text": [
            "Epoch 1/5\n",
            "92/92 [==============================] - 76s 166ms/step - loss: 0.1863 - accuracy: 0.9451 - val_loss: 0.6692 - val_accuracy: 0.8050\n",
            "Epoch 2/5\n",
            "92/92 [==============================] - 12s 130ms/step - loss: 0.0318 - accuracy: 0.9911 - val_loss: 0.7965 - val_accuracy: 0.8166\n",
            "Epoch 3/5\n",
            "92/92 [==============================] - 12s 129ms/step - loss: 0.0195 - accuracy: 0.9932 - val_loss: 0.8466 - val_accuracy: 0.8224\n",
            "Epoch 4/5\n",
            "92/92 [==============================] - 15s 159ms/step - loss: 0.0095 - accuracy: 0.9973 - val_loss: 0.9818 - val_accuracy: 0.8166\n",
            "Epoch 5/5\n",
            "92/92 [==============================] - 12s 132ms/step - loss: 0.0098 - accuracy: 0.9966 - val_loss: 1.0492 - val_accuracy: 0.8127\n",
            "17/17 [==============================] - 6s 34ms/step\n"
          ]
        },
        {
          "output_type": "execute_result",
          "data": {
            "text/plain": [
              "{'accuracy': 81.27413127413128,\n",
              " 'precision': 0.8184490120173787,\n",
              " 'recall': 0.8127413127413128,\n",
              " 'f1': 0.8127202384858981}"
            ]
          },
          "metadata": {},
          "execution_count": 135
        }
      ]
    },
    {
      "cell_type": "markdown",
      "source": [
        "### Model_25: Multiple LSTM layers"
      ],
      "metadata": {
        "id": "-8BvVt37ZF7R"
      }
    },
    {
      "cell_type": "code",
      "source": [
        "inputs = tf.keras.layers.Input(shape=(1,), dtype=tf.string)\n",
        "\n",
        "text_vectors = text_vectorizer(inputs)\n",
        "token_embeddings = token_embed(text_vectors)\n",
        "\n",
        "x = tf.keras.layers.Bidirectional(tf.keras.layers.LSTM(256, dropout=.2, recurrent_dropout=.2, return_sequences=True))(token_embeddings)\n",
        "x = tf.keras.layers.Bidirectional(tf.keras.layers.LSTM(64, dropout=.1, recurrent_dropout=.3))(x)\n",
        "x = tf.keras.layers.Dense(10, activation='relu')(x)\n",
        "\n",
        "outputs = tf.keras.layers.Dense(3, activation='softmax')(x)\n",
        "\n",
        "model_25 = tf.keras.Model(inputs, outputs)\n",
        "\n",
        "model_25.compile(loss='sparse_categorical_crossentropy',\n",
        "                optimizer=tf.keras.optimizers.Adam(),\n",
        "                metrics=['accuracy'])\n",
        "\n",
        "model_25_history = model_25.fit(train_dataset,\n",
        "                              epochs=5,\n",
        "                              validation_data=test_dataset)\n",
        "\n",
        "y_pred_25 = tf.argmax(model_25.predict(test_dataset),axis=1)\n",
        "model_25_results = calculate_results(y_test, y_pred_25)\n",
        "model_25_results"
      ],
      "metadata": {
        "colab": {
          "base_uri": "https://localhost:8080/"
        },
        "id": "aTNJjrHbZJlR",
        "outputId": "d679e9b7-75f6-42e4-b965-1bd78ff8fb22"
      },
      "execution_count": null,
      "outputs": [
        {
          "output_type": "stream",
          "name": "stdout",
          "text": [
            "Epoch 1/5\n",
            "92/92 [==============================] - 85s 738ms/step - loss: 0.4410 - accuracy: 0.8228 - val_loss: 0.9396 - val_accuracy: 0.7529\n",
            "Epoch 2/5\n",
            "92/92 [==============================] - 63s 681ms/step - loss: 0.2908 - accuracy: 0.8661 - val_loss: 0.8205 - val_accuracy: 0.7510\n",
            "Epoch 3/5\n",
            "92/92 [==============================] - 63s 686ms/step - loss: 0.1952 - accuracy: 0.9213 - val_loss: 0.9880 - val_accuracy: 0.7490\n",
            "Epoch 4/5\n",
            "92/92 [==============================] - 67s 726ms/step - loss: 0.1372 - accuracy: 0.9499 - val_loss: 0.9161 - val_accuracy: 0.7645\n",
            "Epoch 5/5\n",
            "92/92 [==============================] - 71s 777ms/step - loss: 0.1073 - accuracy: 0.9618 - val_loss: 1.0579 - val_accuracy: 0.7741\n",
            "17/17 [==============================] - 3s 116ms/step\n"
          ]
        },
        {
          "output_type": "execute_result",
          "data": {
            "text/plain": [
              "{'accuracy': 77.41312741312741,\n",
              " 'precision': 0.7827694229136483,\n",
              " 'recall': 0.7741312741312741,\n",
              " 'f1': 0.775028975753409}"
            ]
          },
          "metadata": {},
          "execution_count": 78
        }
      ]
    },
    {
      "cell_type": "markdown",
      "source": [
        "### Model_26: Multiple LSTM layers + L1 Regularization"
      ],
      "metadata": {
        "id": "vu0QlOCRc-3k"
      }
    },
    {
      "cell_type": "code",
      "source": [
        "inputs = tf.keras.layers.Input(shape=(1,), dtype=tf.string)\n",
        "\n",
        "text_vectors = text_vectorizer(inputs)\n",
        "token_embeddings = token_embed(text_vectors)\n",
        "\n",
        "x = tf.keras.layers.Bidirectional(tf.keras.layers.LSTM(64,\n",
        "                                                       dropout=.2,\n",
        "                                                       recurrent_dropout=.2,\n",
        "                                                       return_sequences=True,\n",
        "                                                       recurrent_regularizer='l1'))(token_embeddings)\n",
        "x = tf.keras.layers.Bidirectional(tf.keras.layers.LSTM(32,\n",
        "                                                       dropout=.1,\n",
        "                                                       recurrent_dropout=.3,\n",
        "                                                       return_sequences=True,\n",
        "                                                       recurrent_regularizer='l1'))(x)\n",
        "x = tf.keras.layers.Bidirectional(tf.keras.layers.LSTM(16,\n",
        "                                                       dropout=.2,\n",
        "                                                       recurrent_dropout=.2,\n",
        "                                                       recurrent_regularizer='l1'))(x)\n",
        "x = tf.keras.layers.Dense(10, activation='relu')(x)\n",
        "\n",
        "outputs = tf.keras.layers.Dense(3, activation='softmax')(x)\n",
        "\n",
        "model_26 = tf.keras.Model(inputs, outputs)\n",
        "\n",
        "model_26.compile(loss='sparse_categorical_crossentropy',\n",
        "                optimizer=tf.keras.optimizers.Adam(),\n",
        "                metrics=['accuracy'])\n",
        "\n",
        "model_26_history = model_26.fit(train_dataset,\n",
        "                              epochs=5,\n",
        "                              validation_data=test_dataset)\n",
        "\n",
        "y_pred_26 = tf.argmax(model_26.predict(test_dataset),axis=1)\n",
        "model_26_results = calculate_results(y_test, y_pred_26)\n",
        "model_26_results"
      ],
      "metadata": {
        "colab": {
          "base_uri": "https://localhost:8080/"
        },
        "id": "Nl8UDpk9dEjo",
        "outputId": "ee288312-d300-4c87-c897-24fc4f724afa"
      },
      "execution_count": null,
      "outputs": [
        {
          "output_type": "stream",
          "name": "stdout",
          "text": [
            "Epoch 1/5\n",
            "92/92 [==============================] - 46s 264ms/step - loss: 11.7204 - accuracy: 0.8334 - val_loss: 3.9834 - val_accuracy: 0.7452\n",
            "Epoch 2/5\n",
            "92/92 [==============================] - 22s 243ms/step - loss: 1.4759 - accuracy: 0.9281 - val_loss: 1.4406 - val_accuracy: 0.7008\n",
            "Epoch 3/5\n",
            "92/92 [==============================] - 22s 241ms/step - loss: 0.3110 - accuracy: 0.9574 - val_loss: 1.3012 - val_accuracy: 0.7085\n",
            "Epoch 4/5\n",
            "92/92 [==============================] - 22s 241ms/step - loss: 0.1673 - accuracy: 0.9707 - val_loss: 1.2513 - val_accuracy: 0.7548\n",
            "Epoch 5/5\n",
            "92/92 [==============================] - 33s 355ms/step - loss: 0.1107 - accuracy: 0.9847 - val_loss: 1.3336 - val_accuracy: 0.7587\n",
            "17/17 [==============================] - 3s 46ms/step\n"
          ]
        },
        {
          "output_type": "execute_result",
          "data": {
            "text/plain": [
              "{'accuracy': 75.86872586872587,\n",
              " 'precision': 0.7776560948997853,\n",
              " 'recall': 0.7586872586872587,\n",
              " 'f1': 0.7623707897370077}"
            ]
          },
          "metadata": {},
          "execution_count": 80
        }
      ]
    },
    {
      "cell_type": "markdown",
      "source": [
        "### Model_27: same as Model_26 but l2 regulizer"
      ],
      "metadata": {
        "id": "hy1tkg1PeTzI"
      }
    },
    {
      "cell_type": "code",
      "source": [
        "inputs = tf.keras.layers.Input(shape=(1,), dtype=tf.string)\n",
        "\n",
        "text_vectors = text_vectorizer(inputs)\n",
        "token_embeddings = token_embed(text_vectors)\n",
        "\n",
        "x = tf.keras.layers.Bidirectional(tf.keras.layers.LSTM(64,\n",
        "                                                       dropout=.2,\n",
        "                                                       recurrent_dropout=.2,\n",
        "                                                       return_sequences=True,\n",
        "                                                       recurrent_regularizer='l2'))(token_embeddings)\n",
        "x = tf.keras.layers.Bidirectional(tf.keras.layers.LSTM(32,\n",
        "                                                       dropout=.1,\n",
        "                                                       recurrent_dropout=.3,\n",
        "                                                       return_sequences=True,\n",
        "                                                       recurrent_regularizer='l2'))(x)\n",
        "x = tf.keras.layers.Bidirectional(tf.keras.layers.LSTM(16,\n",
        "                                                       dropout=.2,\n",
        "                                                       recurrent_dropout=.2,\n",
        "                                                       recurrent_regularizer='l2'))(x)\n",
        "x = tf.keras.layers.Dense(10, activation='relu')(x)\n",
        "\n",
        "outputs = tf.keras.layers.Dense(3, activation='softmax')(x)\n",
        "\n",
        "model_27 = tf.keras.Model(inputs, outputs)\n",
        "\n",
        "model_27.compile(loss='sparse_categorical_crossentropy',\n",
        "                optimizer=tf.keras.optimizers.Adam(),\n",
        "                metrics=['accuracy'])\n",
        "\n",
        "model_27_history = model_27.fit(train_dataset,\n",
        "                              epochs=5,\n",
        "                              validation_data=test_dataset)\n",
        "\n",
        "y_pred_27 = tf.argmax(model_27.predict(test_dataset),axis=1)\n",
        "model_27_results = calculate_results(y_test, y_pred_27)\n",
        "model_27_results"
      ],
      "metadata": {
        "colab": {
          "base_uri": "https://localhost:8080/"
        },
        "id": "sXhPER3LejDS",
        "outputId": "2fc76154-4f8b-4e59-f591-15c86ccd70a6"
      },
      "execution_count": null,
      "outputs": [
        {
          "output_type": "stream",
          "name": "stdout",
          "text": [
            "Epoch 1/5\n",
            "92/92 [==============================] - 46s 278ms/step - loss: 1.4706 - accuracy: 0.8293 - val_loss: 1.1142 - val_accuracy: 0.7568\n",
            "Epoch 2/5\n",
            "92/92 [==============================] - 22s 238ms/step - loss: 0.2730 - accuracy: 0.9819 - val_loss: 1.2014 - val_accuracy: 0.7722\n",
            "Epoch 3/5\n",
            "92/92 [==============================] - 22s 242ms/step - loss: 0.0924 - accuracy: 0.9894 - val_loss: 1.2104 - val_accuracy: 0.7587\n",
            "Epoch 4/5\n",
            "92/92 [==============================] - 22s 236ms/step - loss: 0.0508 - accuracy: 0.9928 - val_loss: 1.2860 - val_accuracy: 0.7529\n",
            "Epoch 5/5\n",
            "92/92 [==============================] - 24s 256ms/step - loss: 0.0367 - accuracy: 0.9928 - val_loss: 1.3251 - val_accuracy: 0.7510\n",
            "17/17 [==============================] - 2s 31ms/step\n"
          ]
        },
        {
          "output_type": "execute_result",
          "data": {
            "text/plain": [
              "{'accuracy': 75.0965250965251,\n",
              " 'precision': 0.7703820111455579,\n",
              " 'recall': 0.750965250965251,\n",
              " 'f1': 0.7541403117826354}"
            ]
          },
          "metadata": {},
          "execution_count": 82
        }
      ]
    },
    {
      "cell_type": "markdown",
      "source": [
        "### Model_28: same as model_26 but l1l2 regulizer"
      ],
      "metadata": {
        "id": "W_hbugWXeZyY"
      }
    },
    {
      "cell_type": "code",
      "source": [
        "inputs = tf.keras.layers.Input(shape=(1,), dtype=tf.string)\n",
        "\n",
        "text_vectors = text_vectorizer(inputs)\n",
        "token_embeddings = token_embed(text_vectors)\n",
        "\n",
        "x = tf.keras.layers.Bidirectional(tf.keras.layers.LSTM(64,\n",
        "                                                       dropout=.2,\n",
        "                                                       recurrent_dropout=.2,\n",
        "                                                       return_sequences=True,\n",
        "                                                       recurrent_regularizer='l1_l2'))(token_embeddings)\n",
        "x = tf.keras.layers.Bidirectional(tf.keras.layers.LSTM(32,\n",
        "                                                       dropout=.1,\n",
        "                                                       recurrent_dropout=.3,\n",
        "                                                       return_sequences=True,\n",
        "                                                       recurrent_regularizer='l1_l2'))(x)\n",
        "x = tf.keras.layers.Bidirectional(tf.keras.layers.LSTM(16,\n",
        "                                                       dropout=.2,\n",
        "                                                       recurrent_dropout=.2,\n",
        "                                                       recurrent_regularizer='l1_l2'))(x)\n",
        "x = tf.keras.layers.Dense(10, activation='relu')(x)\n",
        "\n",
        "outputs = tf.keras.layers.Dense(3, activation='softmax')(x)\n",
        "\n",
        "model_28 = tf.keras.Model(inputs, outputs)\n",
        "\n",
        "model_28.compile(loss='sparse_categorical_crossentropy',\n",
        "                optimizer=tf.keras.optimizers.Adam(),\n",
        "                metrics=['accuracy'])\n",
        "\n",
        "model_28_history = model_28.fit(train_dataset,\n",
        "                              epochs=5,\n",
        "                              validation_data=test_dataset)\n",
        "\n",
        "y_pred_28 = tf.argmax(model_28.predict(test_dataset),axis=1)\n",
        "model_28_results = calculate_results(y_test, y_pred_28)\n",
        "model_28_results"
      ],
      "metadata": {
        "colab": {
          "base_uri": "https://localhost:8080/"
        },
        "id": "Tw_Bgqb-ejtL",
        "outputId": "0e863417-c3c6-4370-884d-89298490de82"
      },
      "execution_count": null,
      "outputs": [
        {
          "output_type": "stream",
          "name": "stdout",
          "text": [
            "Epoch 1/5\n",
            "92/92 [==============================] - 63s 269ms/step - loss: 12.8294 - accuracy: 0.8722 - val_loss: 4.5071 - val_accuracy: 0.7239\n",
            "Epoch 2/5\n",
            "92/92 [==============================] - 22s 242ms/step - loss: 1.6472 - accuracy: 0.9666 - val_loss: 1.4325 - val_accuracy: 0.7413\n",
            "Epoch 3/5\n",
            "92/92 [==============================] - 22s 242ms/step - loss: 0.3094 - accuracy: 0.9809 - val_loss: 1.1662 - val_accuracy: 0.7606\n",
            "Epoch 4/5\n",
            "92/92 [==============================] - 23s 248ms/step - loss: 0.1181 - accuracy: 0.9901 - val_loss: 1.1946 - val_accuracy: 0.7703\n",
            "Epoch 5/5\n",
            "92/92 [==============================] - 24s 265ms/step - loss: 0.0867 - accuracy: 0.9911 - val_loss: 1.2599 - val_accuracy: 0.7703\n",
            "17/17 [==============================] - 3s 35ms/step\n"
          ]
        },
        {
          "output_type": "execute_result",
          "data": {
            "text/plain": [
              "{'accuracy': 77.02702702702703,\n",
              " 'precision': 0.7767370440799826,\n",
              " 'recall': 0.7702702702702703,\n",
              " 'f1': 0.7702305948049158}"
            ]
          },
          "metadata": {},
          "execution_count": 81
        }
      ]
    },
    {
      "cell_type": "markdown",
      "source": [
        "### Model_29: Same as Model_25, but with l1 regularization which was best"
      ],
      "metadata": {
        "id": "lbet9v0AgiNF"
      }
    },
    {
      "cell_type": "code",
      "source": [
        "inputs = tf.keras.layers.Input(shape=(1,), dtype=tf.string)\n",
        "\n",
        "text_vectors = text_vectorizer(inputs)\n",
        "token_embeddings = token_embed(text_vectors)\n",
        "\n",
        "x = tf.keras.layers.Bidirectional(tf.keras.layers.LSTM(256, dropout=.2, recurrent_dropout=.2, return_sequences=True, recurrent_regularizer='l1'))(token_embeddings)\n",
        "x = tf.keras.layers.Bidirectional(tf.keras.layers.LSTM(64, dropout=.1, recurrent_dropout=.3, recurrent_regularizer='l1'))(x)\n",
        "x = tf.keras.layers.Dense(10, activation='relu')(x)\n",
        "\n",
        "outputs = tf.keras.layers.Dense(3, activation='softmax')(x)\n",
        "\n",
        "model_29 = tf.keras.Model(inputs, outputs)\n",
        "\n",
        "model_29.compile(loss='sparse_categorical_crossentropy',\n",
        "                optimizer=tf.keras.optimizers.Adam(),\n",
        "                metrics=['accuracy'])\n",
        "\n",
        "model_29_history = model_29.fit(train_dataset,\n",
        "                              epochs=5,\n",
        "                              validation_data=test_dataset)\n",
        "\n",
        "y_pred_29 = tf.argmax(model_29.predict(test_dataset),axis=1)\n",
        "model_29_results = calculate_results(y_test, y_pred_29)\n",
        "model_29_results"
      ],
      "metadata": {
        "colab": {
          "base_uri": "https://localhost:8080/"
        },
        "id": "y1ibArNsgtjl",
        "outputId": "a04a0c8c-5147-4be0-c61b-8af87ec489fd"
      },
      "execution_count": null,
      "outputs": [
        {
          "output_type": "stream",
          "name": "stdout",
          "text": [
            "Epoch 1/5\n",
            "92/92 [==============================] - 80s 709ms/step - loss: 37.8623 - accuracy: 0.9261 - val_loss: 3.7279 - val_accuracy: 0.7490\n",
            "Epoch 2/5\n",
            "92/92 [==============================] - 62s 673ms/step - loss: 1.1695 - accuracy: 0.9918 - val_loss: 2.0803 - val_accuracy: 0.7587\n",
            "Epoch 3/5\n",
            "92/92 [==============================] - 66s 717ms/step - loss: 0.7075 - accuracy: 0.9925 - val_loss: 2.1202 - val_accuracy: 0.7625\n",
            "Epoch 4/5\n",
            "92/92 [==============================] - 64s 696ms/step - loss: 0.6931 - accuracy: 0.9942 - val_loss: 2.1907 - val_accuracy: 0.7606\n",
            "Epoch 5/5\n",
            "92/92 [==============================] - 62s 674ms/step - loss: 0.6831 - accuracy: 0.9956 - val_loss: 2.1857 - val_accuracy: 0.7625\n",
            "17/17 [==============================] - 3s 114ms/step\n"
          ]
        },
        {
          "output_type": "execute_result",
          "data": {
            "text/plain": [
              "{'accuracy': 76.25482625482626,\n",
              " 'precision': 0.7844895637179029,\n",
              " 'recall': 0.7625482625482626,\n",
              " 'f1': 0.7639452634610054}"
            ]
          },
          "metadata": {},
          "execution_count": 83
        }
      ]
    },
    {
      "cell_type": "markdown",
      "source": [
        "### Model_30: Same as model_29 but regulizer on kernal instead of recurrent"
      ],
      "metadata": {
        "id": "kVYOm0HljNef"
      }
    },
    {
      "cell_type": "code",
      "source": [
        "inputs = tf.keras.layers.Input(shape=(1,), dtype=tf.string)\n",
        "\n",
        "text_vectors = text_vectorizer(inputs)\n",
        "token_embeddings = token_embed(text_vectors)\n",
        "\n",
        "x = tf.keras.layers.Bidirectional(tf.keras.layers.LSTM(256, dropout=.2, recurrent_dropout=.2, return_sequences=True, kernel_regularizer='l1'))(token_embeddings)\n",
        "x = tf.keras.layers.Bidirectional(tf.keras.layers.LSTM(64, dropout=.1, recurrent_dropout=.3, kernel_regularizer='l1'))(x)\n",
        "x = tf.keras.layers.Dense(10, activation='relu')(x)\n",
        "\n",
        "outputs = tf.keras.layers.Dense(3, activation='softmax')(x)\n",
        "\n",
        "model_30 = tf.keras.Model(inputs, outputs)\n",
        "\n",
        "model_30.compile(loss='sparse_categorical_crossentropy',\n",
        "                optimizer=tf.keras.optimizers.Adam(),\n",
        "                metrics=['accuracy'])\n",
        "\n",
        "model_30_history = model_30.fit(train_dataset,\n",
        "                              epochs=5,\n",
        "                              validation_data=test_dataset)\n",
        "\n",
        "y_pred_30 = tf.argmax(model_30.predict(test_dataset),axis=1)\n",
        "model_30_results = calculate_results(y_test, y_pred_30)\n",
        "model_30_results"
      ],
      "metadata": {
        "colab": {
          "base_uri": "https://localhost:8080/"
        },
        "id": "fdYKkSfejXLY",
        "outputId": "70dd8ae8-e861-4a64-b9f9-9363f4cb96cd"
      },
      "execution_count": null,
      "outputs": [
        {
          "output_type": "stream",
          "name": "stdout",
          "text": [
            "Epoch 1/5\n",
            "92/92 [==============================] - 79s 707ms/step - loss: 46.4435 - accuracy: 0.7278 - val_loss: 2.6855 - val_accuracy: 0.7355\n",
            "Epoch 2/5\n",
            "92/92 [==============================] - 64s 697ms/step - loss: 1.3751 - accuracy: 0.8112 - val_loss: 1.4251 - val_accuracy: 0.7220\n",
            "Epoch 3/5\n",
            "92/92 [==============================] - 62s 671ms/step - loss: 1.1471 - accuracy: 0.8235 - val_loss: 1.3527 - val_accuracy: 0.7452\n",
            "Epoch 4/5\n",
            "92/92 [==============================] - 66s 718ms/step - loss: 0.8670 - accuracy: 0.8549 - val_loss: 1.2668 - val_accuracy: 0.7490\n",
            "Epoch 5/5\n",
            "92/92 [==============================] - 69s 756ms/step - loss: 0.9147 - accuracy: 0.8474 - val_loss: 1.2765 - val_accuracy: 0.7568\n",
            "17/17 [==============================] - 3s 127ms/step\n"
          ]
        },
        {
          "output_type": "execute_result",
          "data": {
            "text/plain": [
              "{'accuracy': 75.67567567567568,\n",
              " 'precision': 0.7283372406984546,\n",
              " 'recall': 0.7567567567567568,\n",
              " 'f1': 0.7333383675776359}"
            ]
          },
          "metadata": {},
          "execution_count": 84
        }
      ]
    },
    {
      "cell_type": "markdown",
      "source": [
        "## Transformer"
      ],
      "metadata": {
        "id": "mZpOvMZ-6sg-"
      }
    },
    {
      "cell_type": "code",
      "source": [
        "class TransformerBlock(tf.keras.layers.Layer):\n",
        "    def __init__(self, embed_dim, num_heads, ff_dim, rate=0.1):\n",
        "        super(TransformerBlock, self).__init__()\n",
        "        self.att = tf.keras.layers.MultiHeadAttention(num_heads=num_heads, key_dim=embed_dim)\n",
        "        self.ffn = tf.keras.Sequential(\n",
        "            [tf.keras.layers.Dense(ff_dim, activation=\"relu\"), tf.keras.layers.Dense(embed_dim),]\n",
        "        )\n",
        "        self.layernorm1 = tf.keras.layers.LayerNormalization(epsilon=1e-6)\n",
        "        self.layernorm2 = tf.keras.layers.LayerNormalization(epsilon=1e-6)\n",
        "        self.dropout1 = tf.keras.layers.Dropout(rate)\n",
        "        self.dropout2 = tf.keras.layers.Dropout(rate)\n",
        "\n",
        "    def call(self, inputs, training):\n",
        "        attn_output = self.att(inputs, inputs)\n",
        "        attn_output = self.dropout1(attn_output, training=training)\n",
        "        out1 = self.layernorm1(inputs + attn_output)\n",
        "        ffn_output = self.ffn(out1)\n",
        "        ffn_output = self.dropout2(ffn_output, training=training)\n",
        "        return self.layernorm2(out1 + ffn_output)\n",
        "\n",
        "class TokenAndPositionEmbedding(tf.keras.layers.Layer):\n",
        "    def __init__(self, maxlen, vocab_size, embed_dim):\n",
        "        super(TokenAndPositionEmbedding, self).__init__()\n",
        "        self.token_emb = tf.keras.layers.Embedding(input_dim=vocab_size, output_dim=embed_dim)\n",
        "        self.pos_emb = tf.keras.layers.Embedding(input_dim=maxlen, output_dim=embed_dim)\n",
        "\n",
        "    def call(self, x):\n",
        "        maxlen = tf.shape(x)[-1]\n",
        "        positions = tf.range(start=0, limit=maxlen, delta=1)\n",
        "        positions = self.pos_emb(positions)\n",
        "        x = self.token_emb(x)\n",
        "        return x + positions"
      ],
      "metadata": {
        "id": "GvKG1GTS5mIb"
      },
      "execution_count": null,
      "outputs": []
    },
    {
      "cell_type": "code",
      "source": [
        "embed_dim = 30\n",
        "num_heads = 2\n",
        "ff_dim = 32\n",
        "\n",
        "inputs = tf.keras.layers.Input(shape=(1,), dtype=tf.string)\n",
        "text_vectors = text_vectorizer(inputs)\n",
        "embedding_layer = TokenAndPositionEmbedding(50, len(text_vocab), embed_dim)\n",
        "x = embedding_layer(text_vectors)\n",
        "transformer_block = TransformerBlock(embed_dim, num_heads, ff_dim)\n",
        "x = transformer_block(x)\n",
        "x = tf.keras.layers.GlobalAveragePooling1D()(x)\n",
        "x = tf.keras.layers.Dropout(0.1)(x)\n",
        "x = tf.keras.layers.Dense(20, activation=\"relu\")(x)\n",
        "x = tf.keras.layers.Dropout(0.1)(x)\n",
        "outputs = tf.keras.layers.Dense(3, activation=\"softmax\")(x)\n",
        "\n",
        "model_22 = tf.keras.Model(inputs=inputs, outputs=outputs)\n",
        "\n",
        "model_22.compile(optimizer=tf.keras.optimizers.Adam(),\n",
        "                loss='sparse_categorical_crossentropy',\n",
        "                metrics=['accuracy'])\n",
        "\n",
        "model_22_history = model_22.fit(train_dataset,\n",
        "                              epochs=5,\n",
        "                              validation_data=test_dataset)\n",
        "\n",
        "y_pred_22 = tf.argmax(model_22.predict(test_dataset),axis=1)\n",
        "model_22_results = calculate_results(y_test, y_pred_22)\n",
        "model_22_results"
      ],
      "metadata": {
        "colab": {
          "base_uri": "https://localhost:8080/"
        },
        "id": "Pwy3Rp1j6t66",
        "outputId": "0926cfaa-30c1-4968-c3f8-e0e6db99dfe5"
      },
      "execution_count": null,
      "outputs": [
        {
          "output_type": "stream",
          "name": "stdout",
          "text": [
            "Epoch 1/5\n",
            "92/92 [==============================] - 5s 23ms/step - loss: 0.8446 - accuracy: 0.6334 - val_loss: 0.6583 - val_accuracy: 0.7413\n",
            "Epoch 2/5\n",
            "92/92 [==============================] - 2s 20ms/step - loss: 0.5854 - accuracy: 0.7615 - val_loss: 0.5740 - val_accuracy: 0.7819\n",
            "Epoch 3/5\n",
            "92/92 [==============================] - 2s 17ms/step - loss: 0.3350 - accuracy: 0.8664 - val_loss: 0.5401 - val_accuracy: 0.8108\n",
            "Epoch 4/5\n",
            "92/92 [==============================] - 2s 17ms/step - loss: 0.2732 - accuracy: 0.9026 - val_loss: 0.5930 - val_accuracy: 0.7992\n",
            "Epoch 5/5\n",
            "92/92 [==============================] - 2s 18ms/step - loss: 0.1278 - accuracy: 0.9564 - val_loss: 0.6324 - val_accuracy: 0.8166\n",
            "17/17 [==============================] - 0s 8ms/step\n"
          ]
        },
        {
          "output_type": "execute_result",
          "data": {
            "text/plain": [
              "{'accuracy': 81.66023166023166,\n",
              " 'precision': 0.8250646228675551,\n",
              " 'recall': 0.8166023166023166,\n",
              " 'f1': 0.8193667046285465}"
            ]
          },
          "metadata": {},
          "execution_count": 142
        }
      ]
    },
    {
      "cell_type": "code",
      "source": [
        "embed_dim = 30\n",
        "num_heads = 4\n",
        "ff_dim = 128\n",
        "\n",
        "inputs = tf.keras.layers.Input(shape=(1,), dtype=tf.string)\n",
        "text_vectors = text_vectorizer(inputs)\n",
        "embedding_layer = TokenAndPositionEmbedding(50, len(text_vocab), embed_dim)\n",
        "x = embedding_layer(text_vectors)\n",
        "transformer_block = TransformerBlock(embed_dim, num_heads, ff_dim)\n",
        "x = transformer_block(x)\n",
        "x = tf.keras.layers.GlobalAveragePooling1D()(x)\n",
        "x = tf.keras.layers.Dropout(0.1)(x)\n",
        "x = tf.keras.layers.Dense(20, activation=\"relu\")(x)\n",
        "x = tf.keras.layers.Dropout(0.1)(x)\n",
        "outputs = tf.keras.layers.Dense(3, activation=\"softmax\")(x)\n",
        "\n",
        "model_23 = tf.keras.Model(inputs=inputs, outputs=outputs)\n",
        "\n",
        "model_23.compile(optimizer=tf.keras.optimizers.Adam(.0001),\n",
        "                loss='sparse_categorical_crossentropy',\n",
        "                metrics=['accuracy'])\n",
        "\n",
        "model_23_history = model_23.fit(train_dataset,\n",
        "                              epochs=15,\n",
        "                              validation_data=test_dataset)\n",
        "\n",
        "y_pred_23 = tf.argmax(model_23.predict(test_dataset),axis=1)\n",
        "model_23_results = calculate_results(y_test, y_pred_23)\n",
        "model_23_results"
      ],
      "metadata": {
        "id": "bAnvaN_e7GRs",
        "colab": {
          "base_uri": "https://localhost:8080/"
        },
        "outputId": "effa1005-a75d-47c0-b429-246a01679fc1"
      },
      "execution_count": null,
      "outputs": [
        {
          "output_type": "stream",
          "name": "stdout",
          "text": [
            "Epoch 1/15\n",
            "92/92 [==============================] - 7s 29ms/step - loss: 0.9789 - accuracy: 0.5346 - val_loss: 0.8631 - val_accuracy: 0.6178\n",
            "Epoch 2/15\n",
            "92/92 [==============================] - 2s 24ms/step - loss: 0.8982 - accuracy: 0.6112 - val_loss: 0.8362 - val_accuracy: 0.6255\n",
            "Epoch 3/15\n",
            "92/92 [==============================] - 2s 24ms/step - loss: 0.8632 - accuracy: 0.6334 - val_loss: 0.8060 - val_accuracy: 0.6486\n",
            "Epoch 4/15\n",
            "92/92 [==============================] - 2s 25ms/step - loss: 0.8203 - accuracy: 0.6644 - val_loss: 0.7505 - val_accuracy: 0.6873\n",
            "Epoch 5/15\n",
            "92/92 [==============================] - 2s 25ms/step - loss: 0.7424 - accuracy: 0.7032 - val_loss: 0.6996 - val_accuracy: 0.7278\n",
            "Epoch 6/15\n",
            "92/92 [==============================] - 2s 25ms/step - loss: 0.6692 - accuracy: 0.7407 - val_loss: 0.6645 - val_accuracy: 0.7278\n",
            "Epoch 7/15\n",
            "92/92 [==============================] - 2s 25ms/step - loss: 0.5905 - accuracy: 0.7755 - val_loss: 0.6432 - val_accuracy: 0.7510\n",
            "Epoch 8/15\n",
            "92/92 [==============================] - 2s 25ms/step - loss: 0.5015 - accuracy: 0.8181 - val_loss: 0.6190 - val_accuracy: 0.7741\n",
            "Epoch 9/15\n",
            "92/92 [==============================] - 2s 25ms/step - loss: 0.4202 - accuracy: 0.8532 - val_loss: 0.6329 - val_accuracy: 0.7471\n",
            "Epoch 10/15\n",
            "92/92 [==============================] - 3s 36ms/step - loss: 0.3575 - accuracy: 0.8753 - val_loss: 0.6328 - val_accuracy: 0.7297\n",
            "Epoch 11/15\n",
            "92/92 [==============================] - 2s 24ms/step - loss: 0.2989 - accuracy: 0.9026 - val_loss: 0.6411 - val_accuracy: 0.7394\n",
            "Epoch 12/15\n",
            "92/92 [==============================] - 2s 24ms/step - loss: 0.2518 - accuracy: 0.9155 - val_loss: 0.6582 - val_accuracy: 0.7413\n",
            "Epoch 13/15\n",
            "92/92 [==============================] - 2s 25ms/step - loss: 0.2103 - accuracy: 0.9315 - val_loss: 0.6721 - val_accuracy: 0.7452\n",
            "Epoch 14/15\n",
            "92/92 [==============================] - 2s 24ms/step - loss: 0.1789 - accuracy: 0.9411 - val_loss: 0.7120 - val_accuracy: 0.7413\n",
            "Epoch 15/15\n",
            "92/92 [==============================] - 2s 25ms/step - loss: 0.1470 - accuracy: 0.9560 - val_loss: 0.7289 - val_accuracy: 0.7336\n",
            "17/17 [==============================] - 1s 29ms/step\n"
          ]
        },
        {
          "output_type": "execute_result",
          "data": {
            "text/plain": [
              "{'accuracy': 73.35907335907336,\n",
              " 'precision': 0.7579260249316172,\n",
              " 'recall': 0.7335907335907336,\n",
              " 'f1': 0.7392253302718246}"
            ]
          },
          "metadata": {},
          "execution_count": 31
        }
      ]
    },
    {
      "cell_type": "markdown",
      "source": [
        "## Transformer LaBSE"
      ],
      "metadata": {
        "id": "WZ6gvhEBiErL"
      }
    },
    {
      "cell_type": "code",
      "source": [
        "!pip install tensorflow_text"
      ],
      "metadata": {
        "colab": {
          "base_uri": "https://localhost:8080/",
          "height": 1000
        },
        "id": "jlTj3e-Mw1fI",
        "outputId": "bfe759af-0340-4b82-ce75-fe5406f02686"
      },
      "execution_count": 7,
      "outputs": [
        {
          "output_type": "stream",
          "name": "stdout",
          "text": [
            "Looking in indexes: https://pypi.org/simple, https://us-python.pkg.dev/colab-wheels/public/simple/\n",
            "Collecting tensorflow_text\n",
            "  Downloading tensorflow_text-2.10.0-cp37-cp37m-manylinux_2_17_x86_64.manylinux2014_x86_64.whl (5.9 MB)\n",
            "\u001b[K     |████████████████████████████████| 5.9 MB 6.8 MB/s \n",
            "\u001b[?25hRequirement already satisfied: tensorflow-hub>=0.8.0 in /usr/local/lib/python3.7/dist-packages (from tensorflow_text) (0.12.0)\n",
            "Collecting tensorflow<2.11,>=2.10.0\n",
            "  Downloading tensorflow-2.10.0-cp37-cp37m-manylinux_2_17_x86_64.manylinux2014_x86_64.whl (578.0 MB)\n",
            "\u001b[K     |████████████████████████████████| 578.0 MB 17 kB/s \n",
            "\u001b[?25hRequirement already satisfied: typing-extensions>=3.6.6 in /usr/local/lib/python3.7/dist-packages (from tensorflow<2.11,>=2.10.0->tensorflow_text) (4.1.1)\n",
            "Requirement already satisfied: setuptools in /usr/local/lib/python3.7/dist-packages (from tensorflow<2.11,>=2.10.0->tensorflow_text) (57.4.0)\n",
            "Requirement already satisfied: protobuf<3.20,>=3.9.2 in /usr/local/lib/python3.7/dist-packages (from tensorflow<2.11,>=2.10.0->tensorflow_text) (3.17.3)\n",
            "Requirement already satisfied: opt-einsum>=2.3.2 in /usr/local/lib/python3.7/dist-packages (from tensorflow<2.11,>=2.10.0->tensorflow_text) (3.3.0)\n",
            "Requirement already satisfied: google-pasta>=0.1.1 in /usr/local/lib/python3.7/dist-packages (from tensorflow<2.11,>=2.10.0->tensorflow_text) (0.2.0)\n",
            "Requirement already satisfied: keras-preprocessing>=1.1.1 in /usr/local/lib/python3.7/dist-packages (from tensorflow<2.11,>=2.10.0->tensorflow_text) (1.1.2)\n",
            "Collecting tensorboard<2.11,>=2.10\n",
            "  Downloading tensorboard-2.10.1-py3-none-any.whl (5.9 MB)\n",
            "\u001b[K     |████████████████████████████████| 5.9 MB 41.0 MB/s \n",
            "\u001b[?25hRequirement already satisfied: absl-py>=1.0.0 in /usr/local/lib/python3.7/dist-packages (from tensorflow<2.11,>=2.10.0->tensorflow_text) (1.3.0)\n",
            "Requirement already satisfied: six>=1.12.0 in /usr/local/lib/python3.7/dist-packages (from tensorflow<2.11,>=2.10.0->tensorflow_text) (1.15.0)\n",
            "Requirement already satisfied: wrapt>=1.11.0 in /usr/local/lib/python3.7/dist-packages (from tensorflow<2.11,>=2.10.0->tensorflow_text) (1.14.1)\n",
            "Requirement already satisfied: numpy>=1.20 in /usr/local/lib/python3.7/dist-packages (from tensorflow<2.11,>=2.10.0->tensorflow_text) (1.21.6)\n",
            "Requirement already satisfied: grpcio<2.0,>=1.24.3 in /usr/local/lib/python3.7/dist-packages (from tensorflow<2.11,>=2.10.0->tensorflow_text) (1.50.0)\n",
            "Requirement already satisfied: libclang>=13.0.0 in /usr/local/lib/python3.7/dist-packages (from tensorflow<2.11,>=2.10.0->tensorflow_text) (14.0.6)\n",
            "Requirement already satisfied: termcolor>=1.1.0 in /usr/local/lib/python3.7/dist-packages (from tensorflow<2.11,>=2.10.0->tensorflow_text) (2.0.1)\n",
            "Collecting flatbuffers>=2.0\n",
            "  Downloading flatbuffers-22.10.26-py2.py3-none-any.whl (26 kB)\n",
            "Requirement already satisfied: gast<=0.4.0,>=0.2.1 in /usr/local/lib/python3.7/dist-packages (from tensorflow<2.11,>=2.10.0->tensorflow_text) (0.4.0)\n",
            "Requirement already satisfied: h5py>=2.9.0 in /usr/local/lib/python3.7/dist-packages (from tensorflow<2.11,>=2.10.0->tensorflow_text) (3.1.0)\n",
            "Requirement already satisfied: packaging in /usr/local/lib/python3.7/dist-packages (from tensorflow<2.11,>=2.10.0->tensorflow_text) (21.3)\n",
            "Requirement already satisfied: astunparse>=1.6.0 in /usr/local/lib/python3.7/dist-packages (from tensorflow<2.11,>=2.10.0->tensorflow_text) (1.6.3)\n",
            "Collecting tensorflow-estimator<2.11,>=2.10.0\n",
            "  Downloading tensorflow_estimator-2.10.0-py2.py3-none-any.whl (438 kB)\n",
            "\u001b[K     |████████████████████████████████| 438 kB 60.6 MB/s \n",
            "\u001b[?25hCollecting keras<2.11,>=2.10.0\n",
            "  Downloading keras-2.10.0-py2.py3-none-any.whl (1.7 MB)\n",
            "\u001b[K     |████████████████████████████████| 1.7 MB 53.7 MB/s \n",
            "\u001b[?25hRequirement already satisfied: tensorflow-io-gcs-filesystem>=0.23.1 in /usr/local/lib/python3.7/dist-packages (from tensorflow<2.11,>=2.10.0->tensorflow_text) (0.27.0)\n",
            "Requirement already satisfied: wheel<1.0,>=0.23.0 in /usr/local/lib/python3.7/dist-packages (from astunparse>=1.6.0->tensorflow<2.11,>=2.10.0->tensorflow_text) (0.37.1)\n",
            "Requirement already satisfied: cached-property in /usr/local/lib/python3.7/dist-packages (from h5py>=2.9.0->tensorflow<2.11,>=2.10.0->tensorflow_text) (1.5.2)\n",
            "Requirement already satisfied: tensorboard-data-server<0.7.0,>=0.6.0 in /usr/local/lib/python3.7/dist-packages (from tensorboard<2.11,>=2.10->tensorflow<2.11,>=2.10.0->tensorflow_text) (0.6.1)\n",
            "Requirement already satisfied: tensorboard-plugin-wit>=1.6.0 in /usr/local/lib/python3.7/dist-packages (from tensorboard<2.11,>=2.10->tensorflow<2.11,>=2.10.0->tensorflow_text) (1.8.1)\n",
            "Requirement already satisfied: google-auth<3,>=1.6.3 in /usr/local/lib/python3.7/dist-packages (from tensorboard<2.11,>=2.10->tensorflow<2.11,>=2.10.0->tensorflow_text) (1.35.0)\n",
            "Requirement already satisfied: requests<3,>=2.21.0 in /usr/local/lib/python3.7/dist-packages (from tensorboard<2.11,>=2.10->tensorflow<2.11,>=2.10.0->tensorflow_text) (2.23.0)\n",
            "Requirement already satisfied: markdown>=2.6.8 in /usr/local/lib/python3.7/dist-packages (from tensorboard<2.11,>=2.10->tensorflow<2.11,>=2.10.0->tensorflow_text) (3.4.1)\n",
            "Requirement already satisfied: werkzeug>=1.0.1 in /usr/local/lib/python3.7/dist-packages (from tensorboard<2.11,>=2.10->tensorflow<2.11,>=2.10.0->tensorflow_text) (1.0.1)\n",
            "Requirement already satisfied: google-auth-oauthlib<0.5,>=0.4.1 in /usr/local/lib/python3.7/dist-packages (from tensorboard<2.11,>=2.10->tensorflow<2.11,>=2.10.0->tensorflow_text) (0.4.6)\n",
            "Requirement already satisfied: pyasn1-modules>=0.2.1 in /usr/local/lib/python3.7/dist-packages (from google-auth<3,>=1.6.3->tensorboard<2.11,>=2.10->tensorflow<2.11,>=2.10.0->tensorflow_text) (0.2.8)\n",
            "Requirement already satisfied: rsa<5,>=3.1.4 in /usr/local/lib/python3.7/dist-packages (from google-auth<3,>=1.6.3->tensorboard<2.11,>=2.10->tensorflow<2.11,>=2.10.0->tensorflow_text) (4.9)\n",
            "Requirement already satisfied: cachetools<5.0,>=2.0.0 in /usr/local/lib/python3.7/dist-packages (from google-auth<3,>=1.6.3->tensorboard<2.11,>=2.10->tensorflow<2.11,>=2.10.0->tensorflow_text) (4.2.4)\n",
            "Requirement already satisfied: requests-oauthlib>=0.7.0 in /usr/local/lib/python3.7/dist-packages (from google-auth-oauthlib<0.5,>=0.4.1->tensorboard<2.11,>=2.10->tensorflow<2.11,>=2.10.0->tensorflow_text) (1.3.1)\n",
            "Requirement already satisfied: importlib-metadata>=4.4 in /usr/local/lib/python3.7/dist-packages (from markdown>=2.6.8->tensorboard<2.11,>=2.10->tensorflow<2.11,>=2.10.0->tensorflow_text) (4.13.0)\n",
            "Requirement already satisfied: zipp>=0.5 in /usr/local/lib/python3.7/dist-packages (from importlib-metadata>=4.4->markdown>=2.6.8->tensorboard<2.11,>=2.10->tensorflow<2.11,>=2.10.0->tensorflow_text) (3.10.0)\n",
            "Requirement already satisfied: pyasn1<0.5.0,>=0.4.6 in /usr/local/lib/python3.7/dist-packages (from pyasn1-modules>=0.2.1->google-auth<3,>=1.6.3->tensorboard<2.11,>=2.10->tensorflow<2.11,>=2.10.0->tensorflow_text) (0.4.8)\n",
            "Requirement already satisfied: chardet<4,>=3.0.2 in /usr/local/lib/python3.7/dist-packages (from requests<3,>=2.21.0->tensorboard<2.11,>=2.10->tensorflow<2.11,>=2.10.0->tensorflow_text) (3.0.4)\n",
            "Requirement already satisfied: idna<3,>=2.5 in /usr/local/lib/python3.7/dist-packages (from requests<3,>=2.21.0->tensorboard<2.11,>=2.10->tensorflow<2.11,>=2.10.0->tensorflow_text) (2.10)\n",
            "Requirement already satisfied: urllib3!=1.25.0,!=1.25.1,<1.26,>=1.21.1 in /usr/local/lib/python3.7/dist-packages (from requests<3,>=2.21.0->tensorboard<2.11,>=2.10->tensorflow<2.11,>=2.10.0->tensorflow_text) (1.24.3)\n",
            "Requirement already satisfied: certifi>=2017.4.17 in /usr/local/lib/python3.7/dist-packages (from requests<3,>=2.21.0->tensorboard<2.11,>=2.10->tensorflow<2.11,>=2.10.0->tensorflow_text) (2022.9.24)\n",
            "Requirement already satisfied: oauthlib>=3.0.0 in /usr/local/lib/python3.7/dist-packages (from requests-oauthlib>=0.7.0->google-auth-oauthlib<0.5,>=0.4.1->tensorboard<2.11,>=2.10->tensorflow<2.11,>=2.10.0->tensorflow_text) (3.2.2)\n",
            "Requirement already satisfied: pyparsing!=3.0.5,>=2.0.2 in /usr/local/lib/python3.7/dist-packages (from packaging->tensorflow<2.11,>=2.10.0->tensorflow_text) (3.0.9)\n",
            "Installing collected packages: tensorflow-estimator, tensorboard, keras, flatbuffers, tensorflow, tensorflow-text\n",
            "  Attempting uninstall: tensorflow-estimator\n",
            "    Found existing installation: tensorflow-estimator 2.9.0\n",
            "    Uninstalling tensorflow-estimator-2.9.0:\n",
            "      Successfully uninstalled tensorflow-estimator-2.9.0\n",
            "  Attempting uninstall: tensorboard\n",
            "    Found existing installation: tensorboard 2.9.1\n",
            "    Uninstalling tensorboard-2.9.1:\n",
            "      Successfully uninstalled tensorboard-2.9.1\n",
            "  Attempting uninstall: keras\n",
            "    Found existing installation: keras 2.9.0\n",
            "    Uninstalling keras-2.9.0:\n",
            "      Successfully uninstalled keras-2.9.0\n",
            "  Attempting uninstall: flatbuffers\n",
            "    Found existing installation: flatbuffers 1.12\n",
            "    Uninstalling flatbuffers-1.12:\n",
            "      Successfully uninstalled flatbuffers-1.12\n",
            "  Attempting uninstall: tensorflow\n",
            "    Found existing installation: tensorflow 2.9.2\n",
            "    Uninstalling tensorflow-2.9.2:\n",
            "      Successfully uninstalled tensorflow-2.9.2\n",
            "Successfully installed flatbuffers-22.10.26 keras-2.10.0 tensorboard-2.10.1 tensorflow-2.10.0 tensorflow-estimator-2.10.0 tensorflow-text-2.10.0\n"
          ]
        },
        {
          "output_type": "display_data",
          "data": {
            "application/vnd.colab-display-data+json": {
              "pip_warning": {
                "packages": [
                  "flatbuffers",
                  "keras",
                  "tensorboard",
                  "tensorflow",
                  "tensorflow_estimator"
                ]
              }
            }
          },
          "metadata": {}
        }
      ]
    },
    {
      "cell_type": "code",
      "source": [
        "import tensorflow_hub as hub\n",
        "import tensorflow_text as text"
      ],
      "metadata": {
        "id": "nE2oX8bzsJrN"
      },
      "execution_count": 6,
      "outputs": []
    },
    {
      "cell_type": "code",
      "source": [
        "preprocessor = hub.KerasLayer(\n",
        "    \"https://tfhub.dev/google/universal-sentence-encoder-cmlm/multilingual-preprocess/2\")\n",
        "encoder = hub.KerasLayer(\"https://tfhub.dev/google/LaBSE/2\")"
      ],
      "metadata": {
        "colab": {
          "base_uri": "https://localhost:8080/"
        },
        "id": "OoU5hUP9pV20",
        "outputId": "843e6aa0-dc25-47af-f918-9b04c8e10355"
      },
      "execution_count": 7,
      "outputs": [
        {
          "output_type": "stream",
          "name": "stderr",
          "text": [
            "WARNING:tensorflow:Please fix your imports. Module tensorflow.python.training.tracking.data_structures has been moved to tensorflow.python.trackable.data_structures. The old module will be deleted in version 2.11.\n"
          ]
        }
      ]
    },
    {
      "cell_type": "code",
      "source": [
        "input_file = preprocess_text(path)\n",
        "dataset = pd.DataFrame(input_file)\n",
        "\n",
        "from sklearn.preprocessing import LabelEncoder\n",
        "le = LabelEncoder()\n",
        "dataset['class'] = le.fit_transform(dataset['Sentiment'])\n",
        "\n",
        "X = dataset['Sentence']\n",
        "y = dataset['class']\n",
        "\n",
        "X_train, X_test, y_train, y_test = train_test_split(X, y, test_size=.15, random_state=42)\n",
        "\n",
        "X_train.shape, y_train.shape, X_test.shape, y_test.shape\n",
        "\n",
        "train_dataset_2 = tf.data.Dataset.from_tensor_slices((X_train, y_train))\n",
        "test_dataset_2 = tf.data.Dataset.from_tensor_slices((X_test, y_test))\n",
        "\n",
        "train_dataset_2 = train_dataset_2.batch(32).prefetch(tf.data.AUTOTUNE)\n",
        "test_dataset_2 = test_dataset_2.batch(32).prefetch(tf.data.AUTOTUNE)"
      ],
      "metadata": {
        "id": "LG6CXjXws97p"
      },
      "execution_count": 8,
      "outputs": []
    },
    {
      "cell_type": "code",
      "source": [
        "inputs = tf.keras.layers.Input(shape=(), dtype=tf.string)\n",
        "\n",
        "preproc = preprocessor(inputs)\n",
        "embed = encoder(preproc)\n",
        "net = embed['pooled_output']\n",
        "x = tf.keras.layers.Dropout(.1)(net)\n",
        "outputs = tf.keras.layers.Dense(3, activation='softmax')(x)\n",
        "\n",
        "model_34 = tf.keras.Model(inputs, outputs)\n",
        "\n",
        "model_34.compile(optimizer=tf.keras.optimizers.Adam(),\n",
        "                loss=tf.keras.losses.SparseCategoricalCrossentropy(),\n",
        "                metrics=['accuracy'])\n",
        "\n",
        "model_34_history = model_34.fit(train_dataset_2,\n",
        "                              epochs=15,\n",
        "                              validation_data=test_dataset_2)\n",
        "\n",
        "y_pred_34 = tf.argmax(model_34.predict(test_dataset_2),axis=1)\n"
      ],
      "metadata": {
        "colab": {
          "base_uri": "https://localhost:8080/",
          "height": 797
        },
        "id": "q353vEFIj4h4",
        "outputId": "3795d319-28ff-471a-93f1-eb1321bc8397"
      },
      "execution_count": 9,
      "outputs": [
        {
          "output_type": "stream",
          "name": "stdout",
          "text": [
            "Epoch 1/15\n",
            "92/92 [==============================] - 49s 385ms/step - loss: 0.6865 - accuracy: 0.7032 - val_loss: 0.4734 - val_accuracy: 0.8263\n",
            "Epoch 2/15\n",
            "92/92 [==============================] - 35s 383ms/step - loss: 0.4517 - accuracy: 0.8303 - val_loss: 0.3771 - val_accuracy: 0.8591\n",
            "Epoch 3/15\n",
            "92/92 [==============================] - 37s 401ms/step - loss: 0.3871 - accuracy: 0.8603 - val_loss: 0.3318 - val_accuracy: 0.8803\n",
            "Epoch 4/15\n",
            "92/92 [==============================] - 36s 388ms/step - loss: 0.3540 - accuracy: 0.8698 - val_loss: 0.3085 - val_accuracy: 0.8880\n",
            "Epoch 5/15\n",
            "92/92 [==============================] - 36s 392ms/step - loss: 0.3298 - accuracy: 0.8804 - val_loss: 0.2928 - val_accuracy: 0.8900\n",
            "Epoch 6/15\n",
            "92/92 [==============================] - 36s 387ms/step - loss: 0.3174 - accuracy: 0.8797 - val_loss: 0.2815 - val_accuracy: 0.8977\n",
            "Epoch 7/15\n",
            "92/92 [==============================] - 36s 395ms/step - loss: 0.3027 - accuracy: 0.8852 - val_loss: 0.2738 - val_accuracy: 0.9015\n",
            "Epoch 8/15\n",
            "92/92 [==============================] - 36s 388ms/step - loss: 0.2893 - accuracy: 0.8937 - val_loss: 0.2694 - val_accuracy: 0.9054\n",
            "Epoch 9/15\n",
            "92/92 [==============================] - 36s 395ms/step - loss: 0.2865 - accuracy: 0.8923 - val_loss: 0.2633 - val_accuracy: 0.8996\n",
            "Epoch 10/15\n",
            "92/92 [==============================] - 36s 388ms/step - loss: 0.2799 - accuracy: 0.9022 - val_loss: 0.2613 - val_accuracy: 0.8977\n",
            "Epoch 11/15\n",
            "92/92 [==============================] - 36s 389ms/step - loss: 0.2717 - accuracy: 0.9002 - val_loss: 0.2584 - val_accuracy: 0.8996\n",
            "Epoch 12/15\n",
            "92/92 [==============================] - 36s 388ms/step - loss: 0.2635 - accuracy: 0.9022 - val_loss: 0.2557 - val_accuracy: 0.8996\n",
            "Epoch 13/15\n",
            "92/92 [==============================] - 36s 389ms/step - loss: 0.2692 - accuracy: 0.9005 - val_loss: 0.2531 - val_accuracy: 0.8977\n",
            "Epoch 14/15\n",
            "92/92 [==============================] - 37s 407ms/step - loss: 0.2583 - accuracy: 0.9053 - val_loss: 0.2525 - val_accuracy: 0.9035\n",
            "Epoch 15/15\n",
            "92/92 [==============================] - 37s 406ms/step - loss: 0.2630 - accuracy: 0.8974 - val_loss: 0.2503 - val_accuracy: 0.9015\n",
            "17/17 [==============================] - 6s 322ms/step\n"
          ]
        },
        {
          "output_type": "error",
          "ename": "NameError",
          "evalue": "ignored",
          "traceback": [
            "\u001b[0;31m---------------------------------------------------------------------------\u001b[0m",
            "\u001b[0;31mNameError\u001b[0m                                 Traceback (most recent call last)",
            "\u001b[0;32m<ipython-input-9-2aad95aeb58c>\u001b[0m in \u001b[0;36m<module>\u001b[0;34m\u001b[0m\n\u001b[1;32m     18\u001b[0m \u001b[0;34m\u001b[0m\u001b[0m\n\u001b[1;32m     19\u001b[0m \u001b[0my_pred_34\u001b[0m \u001b[0;34m=\u001b[0m \u001b[0mtf\u001b[0m\u001b[0;34m.\u001b[0m\u001b[0margmax\u001b[0m\u001b[0;34m(\u001b[0m\u001b[0mmodel_34\u001b[0m\u001b[0;34m.\u001b[0m\u001b[0mpredict\u001b[0m\u001b[0;34m(\u001b[0m\u001b[0mtest_dataset_2\u001b[0m\u001b[0;34m)\u001b[0m\u001b[0;34m,\u001b[0m\u001b[0maxis\u001b[0m\u001b[0;34m=\u001b[0m\u001b[0;36m1\u001b[0m\u001b[0;34m)\u001b[0m\u001b[0;34m\u001b[0m\u001b[0;34m\u001b[0m\u001b[0m\n\u001b[0;32m---> 20\u001b[0;31m \u001b[0mmodel_34_results\u001b[0m \u001b[0;34m=\u001b[0m \u001b[0mcalculate_results\u001b[0m\u001b[0;34m(\u001b[0m\u001b[0my_test\u001b[0m\u001b[0;34m,\u001b[0m \u001b[0my_pred_34\u001b[0m\u001b[0;34m)\u001b[0m\u001b[0;34m\u001b[0m\u001b[0;34m\u001b[0m\u001b[0m\n\u001b[0m\u001b[1;32m     21\u001b[0m \u001b[0mmodel_34_results\u001b[0m\u001b[0;34m\u001b[0m\u001b[0;34m\u001b[0m\u001b[0m\n",
            "\u001b[0;31mNameError\u001b[0m: name 'calculate_results' is not defined"
          ]
        }
      ]
    },
    {
      "cell_type": "code",
      "source": [
        "model_34_results = calculate_results(y_test, y_pred_34)\n",
        "model_34_results"
      ],
      "metadata": {
        "colab": {
          "base_uri": "https://localhost:8080/"
        },
        "id": "lYcl-CZkzyMi",
        "outputId": "8338844e-c1bb-4b97-84da-289e7ae5a868"
      },
      "execution_count": 11,
      "outputs": [
        {
          "output_type": "execute_result",
          "data": {
            "text/plain": [
              "{'accuracy': 90.15444015444015,\n",
              " 'precision': 0.9025686136523576,\n",
              " 'recall': 0.9015444015444015,\n",
              " 'f1': 0.9017064017064017}"
            ]
          },
          "metadata": {},
          "execution_count": 11
        }
      ]
    },
    {
      "cell_type": "markdown",
      "source": [
        "# Majority Class Score"
      ],
      "metadata": {
        "id": "wv1Fcr_vziBh"
      }
    },
    {
      "cell_type": "code",
      "source": [
        "dataset['Sentiment'].value_counts()"
      ],
      "metadata": {
        "colab": {
          "base_uri": "https://localhost:8080/"
        },
        "id": "AQ6p_LW00lNG",
        "outputId": "c1dc8cee-516e-413d-e0fc-69e478584f23"
      },
      "execution_count": 12,
      "outputs": [
        {
          "output_type": "execute_result",
          "data": {
            "text/plain": [
              "neutral     2146\n",
              "positive     891\n",
              "negative     416\n",
              "Name: Sentiment, dtype: int64"
            ]
          },
          "metadata": {},
          "execution_count": 12
        }
      ]
    },
    {
      "cell_type": "code",
      "source": [
        "le.classes_"
      ],
      "metadata": {
        "colab": {
          "base_uri": "https://localhost:8080/"
        },
        "id": "10WJ4ytQutOl",
        "outputId": "015a1275-8a5b-4553-aa7e-5e121c340368"
      },
      "execution_count": 11,
      "outputs": [
        {
          "output_type": "execute_result",
          "data": {
            "text/plain": [
              "array(['negative', 'neutral', 'positive'], dtype=object)"
            ]
          },
          "metadata": {},
          "execution_count": 11
        }
      ]
    },
    {
      "cell_type": "code",
      "source": [
        "ones = np.ones_like(y_test.to_numpy())"
      ],
      "metadata": {
        "id": "-hZ7v3690bUK"
      },
      "execution_count": null,
      "outputs": []
    },
    {
      "cell_type": "code",
      "source": [
        "majority_results = calculate_results(y_test, ones)\n",
        "majority_results"
      ],
      "metadata": {
        "colab": {
          "base_uri": "https://localhost:8080/"
        },
        "id": "3JDg-2Z01PhU",
        "outputId": "d450f8b4-c95d-43fb-b40b-a4a7ebfd1088"
      },
      "execution_count": 26,
      "outputs": [
        {
          "output_type": "stream",
          "name": "stderr",
          "text": [
            "/usr/local/lib/python3.7/dist-packages/sklearn/metrics/_classification.py:1318: UndefinedMetricWarning: Precision and F-score are ill-defined and being set to 0.0 in labels with no predicted samples. Use `zero_division` parameter to control this behavior.\n",
            "  _warn_prf(average, modifier, msg_start, len(result))\n"
          ]
        },
        {
          "output_type": "execute_result",
          "data": {
            "text/plain": [
              "{'accuracy': 61.77606177606177,\n",
              " 'precision': 0.3816281808559801,\n",
              " 'recall': 0.6177606177606177,\n",
              " 'f1': 0.4717980851632403}"
            ]
          },
          "metadata": {},
          "execution_count": 26
        }
      ]
    },
    {
      "cell_type": "markdown",
      "source": [
        "# Random Score"
      ],
      "metadata": {
        "id": "uPFq6bptally"
      }
    },
    {
      "cell_type": "code",
      "source": [
        "random_pred = np.random.randint(3, size=len(y_test))"
      ],
      "metadata": {
        "id": "7E6oZP-F1aZb"
      },
      "execution_count": 13,
      "outputs": []
    },
    {
      "cell_type": "code",
      "source": [
        "random_results = calculate_results(y_test, random_pred)\n",
        "random_results"
      ],
      "metadata": {
        "colab": {
          "base_uri": "https://localhost:8080/"
        },
        "id": "VqwME4_ca_Gf",
        "outputId": "6d0a6163-82ab-4aaf-c27d-b960e4b76de7"
      },
      "execution_count": 16,
      "outputs": [
        {
          "output_type": "execute_result",
          "data": {
            "text/plain": [
              "{'accuracy': 35.13513513513514,\n",
              " 'precision': 0.49151620580192007,\n",
              " 'recall': 0.35135135135135137,\n",
              " 'f1': 0.3911359965543232}"
            ]
          },
          "metadata": {},
          "execution_count": 16
        }
      ]
    },
    {
      "cell_type": "code",
      "source": [],
      "metadata": {
        "id": "pCqmNGQpbH4F"
      },
      "execution_count": null,
      "outputs": []
    }
  ]
}